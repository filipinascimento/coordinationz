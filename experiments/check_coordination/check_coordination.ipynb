{
 "cells": [
  {
   "cell_type": "markdown",
   "id": "4e63ae2b-5e64-4fc7-95e6-b5c52c8ce0f1",
   "metadata": {},
   "source": [
    "#### **This notebook checks for the coordination between two users**"
   ]
  },
  {
   "cell_type": "code",
   "execution_count": 3,
   "id": "43f6398f-d349-4e10-97f6-1aa489a563fe",
   "metadata": {
    "tags": []
   },
   "outputs": [],
   "source": [
    "import pandas as pd\n",
    "import numpy as np\n",
    "import os\n",
    "import importlib"
   ]
  },
  {
   "cell_type": "markdown",
   "id": "4006b655-6a80-45bc-9b31-59836c29c515",
   "metadata": {},
   "source": [
    "#### **Load the files**"
   ]
  },
  {
   "cell_type": "code",
   "execution_count": 1,
   "id": "580f1c22-10c7-4f0c-8b77-00a90bad7acb",
   "metadata": {
    "tags": []
   },
   "outputs": [],
   "source": [
    "io_path = '/N/project/INCAS/new_parse/io/cuba_082020_tweets.pkl.gz'\n",
    "control_path = '/N/project/INCAS/new_parse/control/cuba_082020_tweets_control.pkl.gz'"
   ]
  },
  {
   "cell_type": "code",
   "execution_count": 2,
   "id": "8fcc1d5f-ed6a-4940-bc89-39dad49f34c8",
   "metadata": {
    "tags": []
   },
   "outputs": [
    {
     "name": "stderr",
     "output_type": "stream",
     "text": [
      "/N/slate/potem/project/coordinationz/source/coordinationz/config.py:31: UserWarning: Config file not found: None\n",
      "  warnings.warn(str(e))\n",
      "/N/slate/potem/project/coordinationz/source/coordinationz/config.py:32: UserWarning: Tried to find config.toml in this directory, and parent directories.\n",
      "  warnings.warn(\"Tried to find config.toml in this directory, and parent directories.\")\n",
      "/N/slate/potem/project/coordinationz/source/coordinationz/config.py:33: UserWarning: Please create a config.toml file with the necessary settings.\n",
      "  warnings.warn(\"Please create a config.toml file with the necessary settings.\")\n",
      "/N/slate/potem/project/coordinationz/source/coordinationz/config.py:34: UserWarning: Or manually call coordinationz.load_config('path/to/config.toml') in your code.\n",
      "  warnings.warn(\"Or manually call coordinationz.load_config('path/to/config.toml') in your code.\")\n",
      "/N/slate/potem/miniconda3/lib/python3.10/site-packages/tqdm/auto.py:21: TqdmWarning: IProgress not found. Please update jupyter and ipywidgets. See https://ipywidgets.readthedocs.io/en/stable/user_install.html\n",
      "  from .autonotebook import tqdm as notebook_tqdm\n"
     ]
    }
   ],
   "source": [
    "import coordinationz.cohashtag_helper as cohp"
   ]
  },
  {
   "cell_type": "code",
   "execution_count": 4,
   "id": "681e7b70-d87b-4296-9c84-1ecbf48af823",
   "metadata": {
    "tags": []
   },
   "outputs": [
    {
     "name": "stdout",
     "output_type": "stream",
     "text": [
      "Total control users : 30099\n",
      "Total io users : 446\n",
      "Total control data:  1353088\n",
      "Total IO data:  250367\n"
     ]
    }
   ],
   "source": [
    "importlib.reload(cohp)\n",
    "\n",
    "df = cohp.load_file(io_path, control_path)"
   ]
  },
  {
   "cell_type": "markdown",
   "id": "cda89da2-c962-465c-98d8-7a28cbf0ca06",
   "metadata": {},
   "source": [
    "#### **Check overlap**"
   ]
  },
  {
   "cell_type": "code",
   "execution_count": 5,
   "id": "9646a59b-91b0-4625-aeed-199980c0a8d7",
   "metadata": {
    "tags": []
   },
   "outputs": [],
   "source": [
    "df_1 = df.loc[df['label'] == 1]\n",
    "df_0 = df.loc[df['label'] == 0]"
   ]
  },
  {
   "cell_type": "code",
   "execution_count": 6,
   "id": "ca08503f-7156-453d-8512-684a53e282e5",
   "metadata": {
    "tags": []
   },
   "outputs": [
    {
     "data": {
      "text/plain": [
       "Index(['tweetid', 'tweet_text', 'in_reply_to_tweetid', 'in_reply_to_userid',\n",
       "       'created_at', 'tweet_client_name', 'tweet_language', 'hashtags',\n",
       "       'mentions', 'urls', 'is_retweet', 'retweet_tweetid', 'retweet_userid',\n",
       "       'userid', 'user_profile_image_url', 'user_screen_name',\n",
       "       'account_creation_date', 'user_verified', 'user_protected',\n",
       "       'user_profile_description', 'user_profile_entites', 'user_profile_url',\n",
       "       'follower_count', 'following_count', 'user_profile_status_count',\n",
       "       'user_profile_listed_count', 'user_profile_favourites_count',\n",
       "       'user_reported_geo', 'user_reported_coordinates',\n",
       "       'user_reported_location', 'label', 'user_display_name',\n",
       "       'account_language', 'tweet_time', 'quoted_tweet_tweetid', 'latitude',\n",
       "       'longitude', 'quote_count', 'reply_count', 'like_count',\n",
       "       'retweet_count', 'user_mentions'],\n",
       "      dtype='object')"
      ]
     },
     "execution_count": 6,
     "metadata": {},
     "output_type": "execute_result"
    }
   ],
   "source": [
    "df.columns"
   ]
  },
  {
   "cell_type": "code",
   "execution_count": 5,
   "id": "17af9be6-283d-41fb-83b7-2df0d07ef351",
   "metadata": {},
   "outputs": [
    {
     "data": {
      "text/plain": [
       "array(['1124052498661150720', '1198810114091814912',\n",
       "       '1221180950580731910', '3415413674', '1189569550540558336'],\n",
       "      dtype=object)"
      ]
     },
     "execution_count": 5,
     "metadata": {},
     "output_type": "execute_result"
    }
   ],
   "source": [
    "df_io['userid'].unique()[:5]"
   ]
  },
  {
   "cell_type": "code",
   "execution_count": 11,
   "id": "4339272d-0a73-49ae-944f-00340d4bf2e7",
   "metadata": {
    "tags": []
   },
   "outputs": [
    {
     "data": {
      "text/plain": [
       "187460"
      ]
     },
     "execution_count": 11,
     "metadata": {},
     "output_type": "execute_result"
    }
   ],
   "source": [
    "df['retweet_userid'].nunique()"
   ]
  },
  {
   "cell_type": "code",
   "execution_count": 10,
   "id": "2a10d39b-9dc5-47f4-baef-73e9eeb14876",
   "metadata": {
    "tags": []
   },
   "outputs": [
    {
     "data": {
      "text/plain": [
       "2096"
      ]
     },
     "execution_count": 10,
     "metadata": {},
     "output_type": "execute_result"
    }
   ],
   "source": [
    "len(set(df_1['retweet_userid']).intersection(\n",
    "    set(df_0['retweet_userid']))\n",
    "   )"
   ]
  },
  {
   "cell_type": "code",
   "execution_count": 16,
   "id": "67506345-83e9-424f-bb6e-445677d2cd41",
   "metadata": {
    "tags": []
   },
   "outputs": [
    {
     "name": "stdout",
     "output_type": "stream",
     "text": [
      "<class 'pandas.core.frame.DataFrame'>\n",
      "Int64Index: 250367 entries, 8433 to 4802241\n",
      "Data columns (total 31 columns):\n",
      " #   Column                    Non-Null Count   Dtype         \n",
      "---  ------                    --------------   -----         \n",
      " 0   tweetid                   250367 non-null  object        \n",
      " 1   userid                    250367 non-null  object        \n",
      " 2   user_display_name         250367 non-null  object        \n",
      " 3   user_screen_name          250367 non-null  object        \n",
      " 4   user_reported_location    160704 non-null  object        \n",
      " 5   user_profile_description  239648 non-null  object        \n",
      " 6   user_profile_url          25189 non-null   object        \n",
      " 7   follower_count            250367 non-null  int64         \n",
      " 8   following_count           250367 non-null  int64         \n",
      " 9   account_creation_date     250367 non-null  object        \n",
      " 10  account_language          250367 non-null  object        \n",
      " 11  tweet_language            250367 non-null  object        \n",
      " 12  tweet_text                250367 non-null  object        \n",
      " 13  tweet_time                250367 non-null  datetime64[ns]\n",
      " 14  tweet_client_name         250367 non-null  object        \n",
      " 15  in_reply_to_userid        13966 non-null   object        \n",
      " 16  in_reply_to_tweetid       3327 non-null    object        \n",
      " 17  quoted_tweet_tweetid      250367 non-null  object        \n",
      " 18  is_retweet                250367 non-null  bool          \n",
      " 19  retweet_userid            187218 non-null  object        \n",
      " 20  retweet_tweetid           187218 non-null  object        \n",
      " 21  latitude                  250367 non-null  object        \n",
      " 22  longitude                 250367 non-null  object        \n",
      " 23  quote_count               250367 non-null  int64         \n",
      " 24  reply_count               250367 non-null  int64         \n",
      " 25  like_count                250367 non-null  int64         \n",
      " 26  retweet_count             250367 non-null  int64         \n",
      " 27  hashtags                  250367 non-null  object        \n",
      " 28  urls                      250367 non-null  object        \n",
      " 29  user_mentions             250367 non-null  object        \n",
      " 30  label                     250367 non-null  int64         \n",
      "dtypes: bool(1), datetime64[ns](1), int64(7), object(22)\n",
      "memory usage: 59.5+ MB\n"
     ]
    }
   ],
   "source": [
    "df_io.info()"
   ]
  },
  {
   "cell_type": "markdown",
   "id": "7178bb60-aa0b-423f-b514-8e4f5899d685",
   "metadata": {},
   "source": [
    "#### **Functions**"
   ]
  },
  {
   "cell_type": "code",
   "execution_count": 31,
   "id": "e2e5523e-2064-4a3b-aa0e-8294eeee8332",
   "metadata": {},
   "outputs": [
    {
     "name": "stdout",
     "output_type": "stream",
     "text": [
      "*** Correlation of activity *** \n",
      "\n",
      "Mean Spearman correlation of daily activity: -0.0160888395658024\n",
      "*** Hashtag overlap *** \n",
      "\n",
      "Total overlap : 64  out of total  778\n",
      "Jaccard of hashtags:  0.08\n",
      "*** Retweeted Userid overlap *** \n",
      "\n",
      "User 1124052498661150720 has total  725  retweeted userid.\n",
      "User 1198810114091814912 has total  132  retweeted userid.\n",
      "Total overlap : 55  out of total  802\n",
      "Jaccard of retweeted userid:  0.07\n"
     ]
    },
    {
     "name": "stderr",
     "output_type": "stream",
     "text": [
      "/tmp/ipykernel_2935497/333578376.py:22: SettingWithCopyWarning: \n",
      "A value is trying to be set on a copy of a slice from a DataFrame.\n",
      "Try using .loc[row_indexer,col_indexer] = value instead\n",
      "\n",
      "See the caveats in the documentation: https://pandas.pydata.org/pandas-docs/stable/user_guide/indexing.html#returning-a-view-versus-a-copy\n",
      "  df_user1['tweet_time_year'] = df_user1['tweet_time'].map(\n",
      "/tmp/ipykernel_2935497/333578376.py:25: SettingWithCopyWarning: \n",
      "A value is trying to be set on a copy of a slice from a DataFrame.\n",
      "Try using .loc[row_indexer,col_indexer] = value instead\n",
      "\n",
      "See the caveats in the documentation: https://pandas.pydata.org/pandas-docs/stable/user_guide/indexing.html#returning-a-view-versus-a-copy\n",
      "  df_user2['tweet_time_year'] = df_user2['tweet_time'].map(\n",
      "/tmp/ipykernel_2935497/333578376.py:11: SettingWithCopyWarning: \n",
      "A value is trying to be set on a copy of a slice from a DataFrame.\n",
      "Try using .loc[row_indexer,col_indexer] = value instead\n",
      "\n",
      "See the caveats in the documentation: https://pandas.pydata.org/pandas-docs/stable/user_guide/indexing.html#returning-a-view-versus-a-copy\n",
      "  df_hashtag['list_hashtag'] = df_hashtag['hashtags'].apply(\n",
      "/tmp/ipykernel_2935497/333578376.py:11: SettingWithCopyWarning: \n",
      "A value is trying to be set on a copy of a slice from a DataFrame.\n",
      "Try using .loc[row_indexer,col_indexer] = value instead\n",
      "\n",
      "See the caveats in the documentation: https://pandas.pydata.org/pandas-docs/stable/user_guide/indexing.html#returning-a-view-versus-a-copy\n",
      "  df_hashtag['list_hashtag'] = df_hashtag['hashtags'].apply(\n"
     ]
    }
   ],
   "source": [
    "def get_hashtag(df):\n",
    "    '''\n",
    "    Gets the hashtag\n",
    "    '''\n",
    "    import ast\n",
    "\n",
    "    df_hashtag = df.loc[\n",
    "        (~df['hashtags'].isnull()) & (df['hashtags'] != '[]')\n",
    "    ]\n",
    "\n",
    "    df_hashtag['list_hashtag'] = df_hashtag['hashtags'].apply(\n",
    "        lambda x: ast.literal_eval(x)\n",
    "    )\n",
    "    \n",
    "    return df_hashtag\n",
    "\n",
    "\n",
    "def check_activity_correlation(df_user1, \n",
    "                               df_user2,\n",
    "                               sample\n",
    "                              ):\n",
    "    df_user1['tweet_time_year'] = df_user1['tweet_time'].map(\n",
    "        lambda x: x.strftime('%Y-%m-%d')\n",
    "    )\n",
    "    df_user2['tweet_time_year'] = df_user2['tweet_time'].map(\n",
    "        lambda x: x.strftime('%Y-%m-%d')\n",
    "    )\n",
    "\n",
    "    df_user1_grp = (df_user1\n",
    "                    .groupby(['tweet_time_year'])['tweetid']\n",
    "                    .nunique()\n",
    "                    .to_frame('count')\n",
    "                    .reset_index()\n",
    "                   )\n",
    "    df_user2_grp = (df_user2\n",
    "                    .groupby(['tweet_time_year'])['tweetid']\n",
    "                    .nunique()\n",
    "                    .to_frame('count')\n",
    "                    .reset_index()\n",
    "                   )\n",
    "    \n",
    "    print('*** Correlation of activity *** \\n')\n",
    "    from scipy import stats\n",
    "    \n",
    "    x = np.array(df_user1_grp['count'].tolist())\n",
    "    y = np.array(df_user2_grp['count'].tolist())\n",
    "    total_x = len(x)\n",
    "    total_y = len(y)\n",
    "\n",
    "    if total_x > total_y:\n",
    "        #y is lower than x\n",
    "        min_val = total_y\n",
    "        min_x = x\n",
    "        min_y = y\n",
    "    else:\n",
    "        #x is lower than y\n",
    "        min_val = total_x\n",
    "        min_x = y\n",
    "        min_y = x\n",
    "    \n",
    "    all_corr = []\n",
    "    for i in range(sample):\n",
    "        x_sample = np.random.choice(min_x,\n",
    "                                    min_val, \n",
    "                                    replace=False\n",
    "                                   )\n",
    "        res = stats.spearmanr(x_sample, min_y)\n",
    "        all_corr.append(res.statistic)\n",
    "    \n",
    "    print('Mean Spearman correlation of daily activity:', np.mean(np.array(all_corr)))\n",
    "\n",
    "    \n",
    "def check_hashtag_overlap(df_user1, df_user2):\n",
    "    print('*** Hashtag overlap *** \\n')\n",
    "    \n",
    "    df_user1 = get_hashtag(df_user1) \n",
    "    df_user2 = get_hashtag(df_user2)\n",
    "    \n",
    "    df_explode_1 = df_user1.explode('list_hashtag')\n",
    "    df_explode_2 = df_user2.explode('list_hashtag')\n",
    "    \n",
    "    overlap = set(df_explode_1['list_hashtag']).intersection(\n",
    "        df_explode_2['list_hashtag']\n",
    "    )\n",
    "    total = set(df_explode_1['list_hashtag']).union(\n",
    "        df_explode_2['list_hashtag']\n",
    "    )\n",
    "    print('Total overlap :', len(overlap), ' out of total ', len(total))\n",
    "    print('Jaccard of hashtags: ', round(len(overlap)/len(total), 2))\n",
    "    \n",
    "    \n",
    "def check_retweeted_user_overlap(df_user1, df_user2):\n",
    "    print('*** Retweeted Userid overlap *** \\n')\n",
    "    \n",
    "    overlap = set(df_user1['retweet_userid']).intersection(\n",
    "        df_user2['retweet_userid']\n",
    "    )\n",
    "    total = set(df_user1['retweet_userid']).union(\n",
    "        df_user2['retweet_userid']\n",
    "    )\n",
    "    user1 = set(df_user1['retweet_userid'])\n",
    "    user2 = set(df_user2['retweet_userid'])\n",
    "    userid1 = df_user1['userid'].unique()[0]\n",
    "    userid2 = df_user2['userid'].unique()[0]\n",
    "    \n",
    "    print(f'User {userid1} has total ', len(user1), ' retweeted userid.')\n",
    "    print(f'User {userid2} has total ', len(user2), ' retweeted userid.')\n",
    "    \n",
    "    print('Total overlap :', len(overlap), ' out of total ', len(total))\n",
    "    print('Jaccard of retweeted userid: ', round(len(overlap)/len(total), 2))\n",
    "    \n",
    "def check_two_users(userid_1, \n",
    "                    userid_2, \n",
    "                    df, \n",
    "                    indicator=None,\n",
    "                    sample=10\n",
    "                   ):\n",
    "    if userid_1 not in df['userid'].tolist():\n",
    "        print(f'User {userid_1} Not found')\n",
    "        \n",
    "        return\n",
    "        \n",
    "    if userid_2 not in df['userid'].tolist():\n",
    "        print(f'User {userid_2} Not found')\n",
    "        \n",
    "        return\n",
    "    \n",
    "    df['tweet_time'] = pd.to_datetime(df['tweet_time'])\n",
    "    df_user1 = df.loc[df['userid'] == userid_1]\n",
    "    df_user2 = df.loc[df['userid'] == userid_2]\n",
    "    \n",
    "    check_activity_correlation(df_user1, df_user2, sample=sample)\n",
    "    check_hashtag_overlap(df_user1, df_user2)\n",
    "    check_retweeted_user_overlap(df_user1, df_user2)\n",
    "    \n",
    "    \n",
    "    \n",
    "check_two_users('1124052498661150720', \n",
    "                '1198810114091814912', \n",
    "                df_io, \n",
    "                indicator=None\n",
    "               )"
   ]
  },
  {
   "cell_type": "code",
   "execution_count": null,
   "id": "bedf30d2-a9b2-411c-b0fa-c7b144817bb6",
   "metadata": {},
   "outputs": [],
   "source": []
  }
 ],
 "metadata": {
  "kernelspec": {
   "display_name": "Python 3 (ipykernel)",
   "language": "python",
   "name": "python3"
  },
  "language_info": {
   "codemirror_mode": {
    "name": "ipython",
    "version": 3
   },
   "file_extension": ".py",
   "mimetype": "text/x-python",
   "name": "python",
   "nbconvert_exporter": "python",
   "pygments_lexer": "ipython3",
   "version": "3.10.9"
  }
 },
 "nbformat": 4,
 "nbformat_minor": 5
}
