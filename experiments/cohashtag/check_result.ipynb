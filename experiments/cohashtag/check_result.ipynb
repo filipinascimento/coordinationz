{
 "cells": [
  {
   "cell_type": "markdown",
   "id": "393c5e70-2245-475f-a120-c634f87c4c55",
   "metadata": {},
   "source": [
    "#### **This script checks the graph after filtering based on p-value***"
   ]
  },
  {
   "cell_type": "code",
   "execution_count": 1,
   "id": "15f8a5bb-0a8f-4b8b-bea0-ad9b62d01e25",
   "metadata": {
    "tags": []
   },
   "outputs": [],
   "source": [
    "from xnetwork import load"
   ]
  },
  {
   "cell_type": "code",
   "execution_count": 2,
   "id": "cb6396de-791d-4573-8e52-c2088ef8b1c7",
   "metadata": {
    "tags": []
   },
   "outputs": [],
   "source": [
    "graph = load(\"sample_network.xnet\")"
   ]
  },
  {
   "cell_type": "code",
   "execution_count": 3,
   "id": "5ca1691b-f0ec-464d-875c-d34d6bd34026",
   "metadata": {
    "tags": []
   },
   "outputs": [
    {
     "data": {
      "text/plain": [
       "<igraph.Graph at 0x149d1af2f540>"
      ]
     },
     "execution_count": 3,
     "metadata": {},
     "output_type": "execute_result"
    }
   ],
   "source": [
    "graph"
   ]
  },
  {
   "cell_type": "code",
   "execution_count": 4,
   "id": "0ff439fa-9be7-4ab0-ab05-caef474a94a9",
   "metadata": {
    "tags": []
   },
   "outputs": [],
   "source": [
    "node_index = 0  # Index of the node you're interested in\n",
    "attributes = graph.vs[node_index].attributes()\n"
   ]
  },
  {
   "cell_type": "code",
   "execution_count": 5,
   "id": "c119bc05-c245-4a3c-93ae-aa2a32c61c34",
   "metadata": {
    "tags": []
   },
   "outputs": [
    {
     "data": {
      "text/plain": [
       "{'Label': 'userA', 'left_degree': 5.0}"
      ]
     },
     "execution_count": 5,
     "metadata": {},
     "output_type": "execute_result"
    }
   ],
   "source": [
    "attributes"
   ]
  },
  {
   "cell_type": "code",
   "execution_count": null,
   "id": "dd5cfef1-7a60-4814-8d59-9c491265f56e",
   "metadata": {},
   "outputs": [],
   "source": []
  }
 ],
 "metadata": {
  "kernelspec": {
   "display_name": "Python 3 (ipykernel)",
   "language": "python",
   "name": "python3"
  },
  "language_info": {
   "codemirror_mode": {
    "name": "ipython",
    "version": 3
   },
   "file_extension": ".py",
   "mimetype": "text/x-python",
   "name": "python",
   "nbconvert_exporter": "python",
   "pygments_lexer": "ipython3",
   "version": "3.10.9"
  }
 },
 "nbformat": 4,
 "nbformat_minor": 5
}
