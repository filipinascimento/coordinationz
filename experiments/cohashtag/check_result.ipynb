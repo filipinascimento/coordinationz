{
 "cells": [
  {
   "cell_type": "markdown",
   "id": "393c5e70-2245-475f-a120-c634f87c4c55",
   "metadata": {},
   "source": [
    "#### **This script checks the graph after filtering based on p-value***"
   ]
  },
  {
   "cell_type": "code",
   "execution_count": 4,
   "id": "15f8a5bb-0a8f-4b8b-bea0-ad9b62d01e25",
   "metadata": {
    "tags": []
   },
   "outputs": [],
   "source": [
    "from xnetwork import load"
   ]
  },
  {
   "cell_type": "markdown",
   "id": "931a80e7-8929-4514-8216-2e6b4c132b2e",
   "metadata": {
    "tags": []
   },
   "source": [
    "#### **Filter 0**"
   ]
  },
  {
   "cell_type": "code",
   "execution_count": 5,
   "id": "cb6396de-791d-4573-8e52-c2088ef8b1c7",
   "metadata": {
    "tags": []
   },
   "outputs": [],
   "source": [
    "path=\"/N/project/INCAS/merge_network/cuba_cohashtag_0.xnet\"\n",
    "graph = load(path)"
   ]
  },
  {
   "cell_type": "code",
   "execution_count": 6,
   "id": "5ca1691b-f0ec-464d-875c-d34d6bd34026",
   "metadata": {
    "tags": []
   },
   "outputs": [
    {
     "data": {
      "text/plain": [
       "<igraph.Graph at 0x14717df1fe40>"
      ]
     },
     "execution_count": 6,
     "metadata": {},
     "output_type": "execute_result"
    }
   ],
   "source": [
    "graph"
   ]
  },
  {
   "cell_type": "code",
   "execution_count": 7,
   "id": "0ff439fa-9be7-4ab0-ab05-caef474a94a9",
   "metadata": {
    "tags": []
   },
   "outputs": [],
   "source": [
    "node_index = 0  # Index of the node you're interested in\n",
    "attributes = graph.vs[node_index].attributes()\n"
   ]
  },
  {
   "cell_type": "code",
   "execution_count": 8,
   "id": "c119bc05-c245-4a3c-93ae-aa2a32c61c34",
   "metadata": {
    "tags": []
   },
   "outputs": [
    {
     "data": {
      "text/plain": [
       "{'Label': '1000007376'}"
      ]
     },
     "execution_count": 8,
     "metadata": {},
     "output_type": "execute_result"
    }
   ],
   "source": [
    "attributes"
   ]
  },
  {
   "cell_type": "code",
   "execution_count": 9,
   "id": "dd5cfef1-7a60-4814-8d59-9c491265f56e",
   "metadata": {},
   "outputs": [
    {
     "data": {
      "text/plain": [
       "<igraph.seq.VertexSeq at 0x14717cf6bb00>"
      ]
     },
     "execution_count": 9,
     "metadata": {},
     "output_type": "execute_result"
    }
   ],
   "source": [
    "graph.vs"
   ]
  },
  {
   "cell_type": "code",
   "execution_count": 10,
   "id": "999e8ce3-eeb5-45e6-bf7d-ae68105dfb64",
   "metadata": {
    "tags": []
   },
   "outputs": [
    {
     "data": {
      "text/plain": [
       "20166"
      ]
     },
     "execution_count": 10,
     "metadata": {},
     "output_type": "execute_result"
    }
   ],
   "source": [
    "graph.vcount()"
   ]
  },
  {
   "cell_type": "markdown",
   "id": "515947b0-49a3-421b-9a7e-d6c6c2caf3b1",
   "metadata": {
    "tags": []
   },
   "source": [
    "#### **Filter 10**"
   ]
  },
  {
   "cell_type": "code",
   "execution_count": 11,
   "id": "ff1eb533-feb4-46ab-ad1e-83d2a6c23401",
   "metadata": {
    "tags": []
   },
   "outputs": [
    {
     "data": {
      "text/plain": [
       "6330"
      ]
     },
     "execution_count": 11,
     "metadata": {},
     "output_type": "execute_result"
    }
   ],
   "source": [
    "from xnetwork import load\n",
    "path=\"/N/project/INCAS/merge_network/cuba_cohashtag_10.xnet\"\n",
    "graph_10 = load(path)\n",
    "graph_10.vcount()"
   ]
  },
  {
   "cell_type": "markdown",
   "id": "25e25c14-cc91-4091-b795-15acb5c8f0db",
   "metadata": {},
   "source": [
    "#### **Check the nodes**"
   ]
  },
  {
   "cell_type": "code",
   "execution_count": 12,
   "id": "31bde1c1-c5cf-40b9-afe5-e3472d708a8c",
   "metadata": {
    "tags": []
   },
   "outputs": [
    {
     "data": {
      "text/plain": [
       "6330"
      ]
     },
     "execution_count": 12,
     "metadata": {},
     "output_type": "execute_result"
    }
   ],
   "source": [
    "from xnetwork import load\n",
    "path=\"/N/project/INCAS/merge_network/cuba_cohashtag_10.xnet\"\n",
    "graph_10 = load(path)\n",
    "graph_10.vcount()"
   ]
  },
  {
   "cell_type": "code",
   "execution_count": 13,
   "id": "db3e1f0c-d627-4d86-813f-8e4511eba8cf",
   "metadata": {
    "tags": []
   },
   "outputs": [
    {
     "data": {
      "text/plain": [
       "<igraph.Graph at 0x14717df1f740>"
      ]
     },
     "execution_count": 13,
     "metadata": {},
     "output_type": "execute_result"
    }
   ],
   "source": [
    "graph_10"
   ]
  },
  {
   "cell_type": "code",
   "execution_count": 14,
   "id": "b00ea278-6afc-4665-a403-beeeee7c9f4a",
   "metadata": {
    "tags": []
   },
   "outputs": [],
   "source": [
    "def save_xnet_to_gml(xnet_file, filename):\n",
    "    '''\n",
    "    Converts xnet graph to GML file\n",
    "    :param xnet_file: Xnet graph\n",
    "    :param filename: Name of file to save as gml\n",
    "    \n",
    "    :return networkx graph\n",
    "    '''\n",
    "    import networkx as nx\n",
    "    \n",
    "    G = xnet_file.to_networkx()\n",
    "    \n",
    "    for node, attrs in G.nodes(data=True):\n",
    "        if '_igraph_index' in attrs:\n",
    "            del attrs['_igraph_index']\n",
    "\n",
    "    for u, v, attrs in G.edges(data=True):\n",
    "        if '_igraph_index' in attrs:\n",
    "            del attrs['_igraph_index']\n",
    "            \n",
    "    nx.write_gml(G, filename)\n",
    "    \n",
    "    return G"
   ]
  },
  {
   "cell_type": "code",
   "execution_count": 15,
   "id": "9dc6705b-1a0f-40f1-b9b2-1b2db6500497",
   "metadata": {
    "tags": []
   },
   "outputs": [
    {
     "name": "stdout",
     "output_type": "stream",
     "text": [
      "6330\n"
     ]
    }
   ],
   "source": [
    "path=\"/N/project/INCAS/merge_network/cuba_cohashtag_10.xnet\"\n",
    "graph_10 = load(path)\n",
    "print(graph_10.vcount())\n",
    "\n",
    "filename=\"/N/project/INCAS/merge_network/cuba_cohashtag_10.gml\"\n",
    "\n",
    "G = save_xnet_to_gml(graph_10, filename)"
   ]
  },
  {
   "cell_type": "code",
   "execution_count": 16,
   "id": "94608e10-d177-4d4f-824f-a208f92da8f6",
   "metadata": {
    "tags": []
   },
   "outputs": [],
   "source": [
    "import pandas as pd"
   ]
  },
  {
   "cell_type": "code",
   "execution_count": 17,
   "id": "917c69f4-b17c-4fcf-9fc9-d4b0d35675b8",
   "metadata": {
    "tags": []
   },
   "outputs": [
    {
     "name": "stdout",
     "output_type": "stream",
     "text": [
      "(0, {'Label': '1000100707'})\n"
     ]
    }
   ],
   "source": [
    "for node in G.nodes(data=True):\n",
    "    print(node)\n",
    "    break\n",
    "    \n",
    "def save_edge_attributes(gml_graph, filename):    \n",
    "    all_data = []\n",
    "    for u, v, attrs in G.edges(data=True):\n",
    "        all_data.append([attrs['weight'], attrs['pvalue'], attrs['zscore']])\n",
    "\n",
    "    (pd.DataFrame(data=all_data,\n",
    "                  columns=['weight', 'pvalue', 'zscore']\n",
    "                 )\n",
    "    ).to_pickle(filename)\n",
    "    \n",
    "filename='./data/cuba_network_attributes.pkl.gz'"
   ]
  },
  {
   "cell_type": "markdown",
   "id": "5561ea20-d365-4815-8e10-1b01af594917",
   "metadata": {},
   "source": [
    "#### **Check how the weight, pvalue and zcore are**"
   ]
  },
  {
   "cell_type": "code",
   "execution_count": 18,
   "id": "6884e30d-37ab-4bbb-aa00-960b053dcae1",
   "metadata": {
    "tags": []
   },
   "outputs": [],
   "source": [
    "filename='./data/cuba_network_attributes.pkl.gz'\n",
    "\n",
    "df_attr = pd.read_pickle(filename)"
   ]
  },
  {
   "cell_type": "code",
   "execution_count": 19,
   "id": "4df92834-a7c8-451a-b2be-e25f6f2d0110",
   "metadata": {
    "tags": []
   },
   "outputs": [
    {
     "data": {
      "text/html": [
       "<div>\n",
       "<style scoped>\n",
       "    .dataframe tbody tr th:only-of-type {\n",
       "        vertical-align: middle;\n",
       "    }\n",
       "\n",
       "    .dataframe tbody tr th {\n",
       "        vertical-align: top;\n",
       "    }\n",
       "\n",
       "    .dataframe thead th {\n",
       "        text-align: right;\n",
       "    }\n",
       "</style>\n",
       "<table border=\"1\" class=\"dataframe\">\n",
       "  <thead>\n",
       "    <tr style=\"text-align: right;\">\n",
       "      <th></th>\n",
       "      <th>weight</th>\n",
       "      <th>pvalue</th>\n",
       "      <th>zscore</th>\n",
       "    </tr>\n",
       "  </thead>\n",
       "  <tbody>\n",
       "    <tr>\n",
       "      <th>0</th>\n",
       "      <td>0.930966</td>\n",
       "      <td>0.001</td>\n",
       "      <td>116.350404</td>\n",
       "    </tr>\n",
       "    <tr>\n",
       "      <th>1</th>\n",
       "      <td>0.935297</td>\n",
       "      <td>0.001</td>\n",
       "      <td>118.460888</td>\n",
       "    </tr>\n",
       "    <tr>\n",
       "      <th>2</th>\n",
       "      <td>0.935470</td>\n",
       "      <td>0.001</td>\n",
       "      <td>122.219060</td>\n",
       "    </tr>\n",
       "    <tr>\n",
       "      <th>3</th>\n",
       "      <td>0.638316</td>\n",
       "      <td>0.001</td>\n",
       "      <td>75.308300</td>\n",
       "    </tr>\n",
       "    <tr>\n",
       "      <th>4</th>\n",
       "      <td>0.665785</td>\n",
       "      <td>0.001</td>\n",
       "      <td>78.633088</td>\n",
       "    </tr>\n",
       "  </tbody>\n",
       "</table>\n",
       "</div>"
      ],
      "text/plain": [
       "     weight  pvalue      zscore\n",
       "0  0.930966   0.001  116.350404\n",
       "1  0.935297   0.001  118.460888\n",
       "2  0.935470   0.001  122.219060\n",
       "3  0.638316   0.001   75.308300\n",
       "4  0.665785   0.001   78.633088"
      ]
     },
     "execution_count": 19,
     "metadata": {},
     "output_type": "execute_result"
    }
   ],
   "source": [
    "df_attr.head()"
   ]
  },
  {
   "cell_type": "code",
   "execution_count": 24,
   "id": "3b78201e-b1dd-4d52-9ff4-d30d7f46b263",
   "metadata": {
    "tags": []
   },
   "outputs": [
    {
     "data": {
      "image/png": "[encoded data removed]",
      "text/plain": [
       "<Figure size 800x800 with 1 Axes>"
      ]
     },
     "metadata": {},
     "output_type": "display_data"
    }
   ],
   "source": [
    "import coordinationz.visualization as vz\n",
    "\n",
    "parameters =  {\n",
    "        'data': df_attr,\n",
    "        'fontsize': 14,\n",
    "        'columns': {\n",
    "            'x': 'weight',\n",
    "            'y': 'pvalue',\n",
    "        },\n",
    "        'alpha': 0.5,\n",
    "        'marker_size': 5,\n",
    "        'marker': None,\n",
    "        'xlabel': 'edge weight',\n",
    "        'ylabel': 'pvalue',\n",
    "        'legend_location': '',\n",
    "        'log_yscale': True,\n",
    "        'log_xscale': False,\n",
    "        'bins': None,\n",
    "        'title': f'',\n",
    "        'save': {\n",
    "            'path': f'./plots',\n",
    "            'filename': f'cuba_weight_pvalue.png'\n",
    "        },\n",
    "    }\n",
    "\n",
    "vz.scatter_plot(parameters)"
   ]
  },
  {
   "cell_type": "markdown",
   "id": "59ce90c8-85ad-444b-8c3b-725416d15e83",
   "metadata": {
    "tags": []
   },
   "source": [
    "#### **Check sign of coordination**"
   ]
  },
  {
   "cell_type": "code",
   "execution_count": 21,
   "id": "a3634eb2-721d-4521-93c7-3db63a225263",
   "metadata": {
    "tags": []
   },
   "outputs": [
    {
     "name": "stdout",
     "output_type": "stream",
     "text": [
      "Total control users : 30099\n",
      "Total io users : 446\n",
      "Total control data:  1353088\n",
      "Total IO data:  250367\n",
      "Loading data, class:  2\n",
      "Filtering original tweet, class:  2\n"
     ]
    },
    {
     "name": "stderr",
     "output_type": "stream",
     "text": [
      "/N/slate/potem/project/coordinationz/source/coordinationz/cohashtag_helper.py:57: SettingWithCopyWarning: \n",
      "A value is trying to be set on a copy of a slice from a DataFrame.\n",
      "Try using .loc[row_indexer,col_indexer] = value instead\n",
      "\n",
      "See the caveats in the documentation: https://pandas.pydata.org/pandas-docs/stable/user_guide/indexing.html#returning-a-view-versus-a-copy\n",
      "  df_hashtag['list_hashtag'] = df_hashtag['hashtags'].apply(\n"
     ]
    },
    {
     "name": "stdout",
     "output_type": "stream",
     "text": [
      "After filtering: Total control users : 20108\n",
      "After filtering: Total io users : 58\n",
      "2\n",
      "Filtering tweet with hashtag, class:  2\n",
      "After filtering user with min activity 10\n",
      "Class 1:  654\n",
      "Class 2:  390640\n",
      "Filtering the user with min activity 10, class:  2\n"
     ]
    },
    {
     "data": {
      "text/plain": [
       "array([0, 1])"
      ]
     },
     "execution_count": 21,
     "metadata": {},
     "output_type": "execute_result"
    }
   ],
   "source": [
    "io_path = '/N/project/INCAS/new_parse/io/cuba_082020_tweets.pkl.gz'\n",
    "control_path = '/N/project/INCAS/new_parse/control/cuba_082020_tweets_control.pkl.gz'\n",
    "\n",
    "import coordinationz.cohashtag_helper as cohp\n",
    "\n",
    "import importlib\n",
    "\n",
    "importlib.reload(cohp)\n",
    "\n",
    "df = cohp.preprocess_data(io_path, control_path, 10)\n",
    "\n",
    "df['label'].unique()"
   ]
  },
  {
   "cell_type": "code",
   "execution_count": 22,
   "id": "ccce8c45-76d7-4bf7-bca9-0b67d18a96b6",
   "metadata": {
    "tags": []
   },
   "outputs": [
    {
     "ename": "NameError",
     "evalue": "name 'nx' is not defined",
     "output_type": "error",
     "traceback": [
      "\u001b[0;31m---------------------------------------------------------------------------\u001b[0m",
      "\u001b[0;31mNameError\u001b[0m                                 Traceback (most recent call last)",
      "Cell \u001b[0;32mIn[22], line 1\u001b[0m\n\u001b[0;32m----> 1\u001b[0m Gcc \u001b[38;5;241m=\u001b[39m \u001b[38;5;28msorted\u001b[39m(\u001b[43mnx\u001b[49m\u001b[38;5;241m.\u001b[39mconnected_components(G), key\u001b[38;5;241m=\u001b[39m\u001b[38;5;28mlen\u001b[39m, reverse\u001b[38;5;241m=\u001b[39m\u001b[38;5;28;01mTrue\u001b[39;00m)\n\u001b[1;32m      2\u001b[0m G0 \u001b[38;5;241m=\u001b[39m G\u001b[38;5;241m.\u001b[39msubgraph(Gcc[\u001b[38;5;241m0\u001b[39m])\n",
      "\u001b[0;31mNameError\u001b[0m: name 'nx' is not defined"
     ]
    }
   ],
   "source": [
    "Gcc = sorted(nx.connected_components(G), key=len, reverse=True)\n",
    "G0 = G.subgraph(Gcc[0])"
   ]
  },
  {
   "cell_type": "code",
   "execution_count": null,
   "id": "e5365a88-684a-4520-8411-87d95f3ebfe9",
   "metadata": {
    "tags": []
   },
   "outputs": [],
   "source": [
    "all_nodes = []\n",
    "for node, attr in G0.nodes(data=True):\n",
    "    all_nodes.append(attr['Label'])"
   ]
  },
  {
   "cell_type": "code",
   "execution_count": null,
   "id": "6a36d9b1-5350-4d68-88d7-736bbfdc0429",
   "metadata": {
    "tags": []
   },
   "outputs": [],
   "source": [
    "len(all_nodes)"
   ]
  },
  {
   "cell_type": "code",
   "execution_count": null,
   "id": "fe45ed3d-87ac-497e-a755-d177d3afe2c1",
   "metadata": {
    "tags": []
   },
   "outputs": [],
   "source": [
    "df_required = df.loc[df['userid'].isin(all_nodes)]"
   ]
  },
  {
   "cell_type": "code",
   "execution_count": null,
   "id": "c4a69a82-bb04-4384-8de3-d036c08777e2",
   "metadata": {
    "tags": []
   },
   "outputs": [],
   "source": [
    "len(df_required)"
   ]
  },
  {
   "cell_type": "code",
   "execution_count": null,
   "id": "1ded6700-8776-4cb5-be8a-eb697520b08e",
   "metadata": {
    "tags": []
   },
   "outputs": [],
   "source": [
    "df_required.columns"
   ]
  },
  {
   "cell_type": "code",
   "execution_count": null,
   "id": "51c6ed03-8009-43c7-844e-7e34bec24437",
   "metadata": {
    "tags": []
   },
   "outputs": [],
   "source": [
    "df_required[['hashtags', 'list_hashtag']].head()"
   ]
  },
  {
   "cell_type": "code",
   "execution_count": null,
   "id": "d78363c0-b09e-4486-ab20-42f4f811283d",
   "metadata": {
    "tags": []
   },
   "outputs": [],
   "source": [
    "df_required['length'] = df_required['list_hashtag'].apply(\n",
    "    lambda x: len(x)\n",
    ")"
   ]
  },
  {
   "cell_type": "code",
   "execution_count": null,
   "id": "c3279afb-bb65-44d8-bd85-f974faa1b240",
   "metadata": {
    "tags": []
   },
   "outputs": [],
   "source": [
    "df_required['length'].unique()"
   ]
  },
  {
   "cell_type": "code",
   "execution_count": null,
   "id": "dfa4a8a5-087d-4d71-a2dc-e75659c0e9f4",
   "metadata": {
    "tags": []
   },
   "outputs": [],
   "source": [
    "parameters =  {\n",
    "        'data': [df_required],\n",
    "        'fontsize': 30,\n",
    "        'complementary': True,\n",
    "        'tick_size':20,\n",
    "        'columns': [\n",
    "            {'column': 'length',\n",
    "             'label': '',\n",
    "            }\n",
    "        ],\n",
    "        'xlabel': 'Number of hashtags used \\n in each tweet',\n",
    "        'ylabel': '',\n",
    "        # 'legend_location': '',\n",
    "        'log_yscale': False,\n",
    "        'log_xscale': False,\n",
    "        'save': {\n",
    "            'path': './plots/',\n",
    "            'filename': 'cuba_number_of_hashtags.png'\n",
    "        },\n",
    "        'random_color': False\n",
    "    }\n",
    "\n",
    "vz.ccdf(parameters)"
   ]
  },
  {
   "cell_type": "code",
   "execution_count": null,
   "id": "598602a6-57ac-4062-a5f2-3abb1a38bbba",
   "metadata": {
    "tags": []
   },
   "outputs": [],
   "source": [
    "degrees = G0.degree()"
   ]
  },
  {
   "cell_type": "markdown",
   "id": "8fde1c32-0ebe-4882-903e-b8d070eb6679",
   "metadata": {
    "tags": []
   },
   "source": [
    "#### **Explode**"
   ]
  },
  {
   "cell_type": "code",
   "execution_count": null,
   "id": "137149b8-a5ec-4a7b-8093-2111f304d752",
   "metadata": {
    "tags": []
   },
   "outputs": [],
   "source": [
    "df_exp = df_required.explode(['list_hashtag'])"
   ]
  },
  {
   "cell_type": "code",
   "execution_count": null,
   "id": "0da2163a-f20b-44f7-bdb8-eb4904ad0f5f",
   "metadata": {
    "tags": []
   },
   "outputs": [],
   "source": [
    "df_grp = (df_exp\n",
    "          .groupby(['list_hashtag'])['tweetid']\n",
    "          .nunique()\n",
    "          .to_frame('count')\n",
    "          .reset_index()\n",
    "          .sort_values(by='count',\n",
    "                       ascending=False\n",
    "                      )\n",
    "         )"
   ]
  },
  {
   "cell_type": "code",
   "execution_count": null,
   "id": "4e2cda56-41d3-4641-ad06-e91fc82114d7",
   "metadata": {
    "tags": []
   },
   "outputs": [],
   "source": [
    "df_grp.head(30)"
   ]
  },
  {
   "cell_type": "code",
   "execution_count": null,
   "id": "e934ef3b-9c5a-4e0e-84a8-eebe6b0e742e",
   "metadata": {
    "tags": []
   },
   "outputs": [],
   "source": [
    "df_required[['userid', 'tweet_text']].tail(500).values"
   ]
  },
  {
   "cell_type": "code",
   "execution_count": null,
   "id": "7a7d51c2-d287-4aee-ac06-0a7be86a68ef",
   "metadata": {},
   "outputs": [],
   "source": []
  }
 ],
 "metadata": {
  "kernelspec": {
   "display_name": "Python 3 (ipykernel)",
   "language": "python",
   "name": "python3"
  },
  "language_info": {
   "codemirror_mode": {
    "name": "ipython",
    "version": 3
   },
   "file_extension": ".py",
   "mimetype": "text/x-python",
   "name": "python",
   "nbconvert_exporter": "python",
   "pygments_lexer": "ipython3",
   "version": "3.10.9"
  }
 },
 "nbformat": 4,
 "nbformat_minor": 5
}
