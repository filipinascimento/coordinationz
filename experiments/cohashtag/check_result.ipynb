{
 "cells": [
  {
   "cell_type": "markdown",
   "id": "393c5e70-2245-475f-a120-c634f87c4c55",
   "metadata": {},
   "source": [
    "#### **This script checks the graph after filtering based on p-value***"
   ]
  },
  {
   "cell_type": "code",
   "execution_count": 1,
   "id": "15f8a5bb-0a8f-4b8b-bea0-ad9b62d01e25",
   "metadata": {
    "tags": []
   },
   "outputs": [],
   "source": [
    "from xnetwork import load"
   ]
  },
  {
   "cell_type": "markdown",
   "id": "931a80e7-8929-4514-8216-2e6b4c132b2e",
   "metadata": {
    "jp-MarkdownHeadingCollapsed": true,
    "tags": []
   },
   "source": [
    "#### **Filter 0**"
   ]
  },
  {
   "cell_type": "code",
   "execution_count": 9,
   "id": "cb6396de-791d-4573-8e52-c2088ef8b1c7",
   "metadata": {
    "tags": []
   },
   "outputs": [],
   "source": [
    "path=\"/N/project/INCAS/merge_network/cuba_cohashtag_0.xnet\"\n",
    "graph = load(path)"
   ]
  },
  {
   "cell_type": "code",
   "execution_count": 10,
   "id": "5ca1691b-f0ec-464d-875c-d34d6bd34026",
   "metadata": {
    "tags": []
   },
   "outputs": [
    {
     "data": {
      "text/plain": [
       "<igraph.Graph at 0x14fa620e7e40>"
      ]
     },
     "execution_count": 10,
     "metadata": {},
     "output_type": "execute_result"
    }
   ],
   "source": [
    "graph"
   ]
  },
  {
   "cell_type": "code",
   "execution_count": 11,
   "id": "0ff439fa-9be7-4ab0-ab05-caef474a94a9",
   "metadata": {
    "tags": []
   },
   "outputs": [],
   "source": [
    "node_index = 0  # Index of the node you're interested in\n",
    "attributes = graph.vs[node_index].attributes()\n"
   ]
  },
  {
   "cell_type": "code",
   "execution_count": 5,
   "id": "c119bc05-c245-4a3c-93ae-aa2a32c61c34",
   "metadata": {
    "tags": []
   },
   "outputs": [
    {
     "data": {
      "text/plain": [
       "{'Label': '1000100707'}"
      ]
     },
     "execution_count": 5,
     "metadata": {},
     "output_type": "execute_result"
    }
   ],
   "source": [
    "attributes"
   ]
  },
  {
   "cell_type": "code",
   "execution_count": 6,
   "id": "dd5cfef1-7a60-4814-8d59-9c491265f56e",
   "metadata": {},
   "outputs": [
    {
     "data": {
      "text/plain": [
       "<igraph.seq.VertexSeq at 0x14fa62015030>"
      ]
     },
     "execution_count": 6,
     "metadata": {},
     "output_type": "execute_result"
    }
   ],
   "source": [
    "graph.vs"
   ]
  },
  {
   "cell_type": "code",
   "execution_count": 12,
   "id": "999e8ce3-eeb5-45e6-bf7d-ae68105dfb64",
   "metadata": {
    "tags": []
   },
   "outputs": [
    {
     "data": {
      "text/plain": [
       "20166"
      ]
     },
     "execution_count": 12,
     "metadata": {},
     "output_type": "execute_result"
    }
   ],
   "source": [
    "graph.vcount()"
   ]
  },
  {
   "cell_type": "markdown",
   "id": "515947b0-49a3-421b-9a7e-d6c6c2caf3b1",
   "metadata": {
    "tags": []
   },
   "source": [
    "#### **Filter 10**"
   ]
  },
  {
   "cell_type": "code",
   "execution_count": 2,
   "id": "ff1eb533-feb4-46ab-ad1e-83d2a6c23401",
   "metadata": {
    "tags": []
   },
   "outputs": [
    {
     "data": {
      "text/plain": [
       "6330"
      ]
     },
     "execution_count": 2,
     "metadata": {},
     "output_type": "execute_result"
    }
   ],
   "source": [
    "from xnetwork import load\n",
    "path=\"/N/project/INCAS/merge_network/cuba_cohashtag_10.xnet\"\n",
    "graph_10 = load(path)\n",
    "graph_10.vcount()"
   ]
  },
  {
   "cell_type": "markdown",
   "id": "25e25c14-cc91-4091-b795-15acb5c8f0db",
   "metadata": {},
   "source": [
    "#### **Check the nodes**"
   ]
  },
  {
   "cell_type": "code",
   "execution_count": 7,
   "id": "31bde1c1-c5cf-40b9-afe5-e3472d708a8c",
   "metadata": {
    "tags": []
   },
   "outputs": [
    {
     "data": {
      "text/plain": [
       "6330"
      ]
     },
     "execution_count": 7,
     "metadata": {},
     "output_type": "execute_result"
    }
   ],
   "source": [
    "from xnetwork import load\n",
    "path=\"/N/project/INCAS/merge_network/cuba_cohashtag_10.xnet\"\n",
    "graph_10 = load(path)\n",
    "graph_10.vcount()"
   ]
  },
  {
   "cell_type": "code",
   "execution_count": 11,
   "id": "db3e1f0c-d627-4d86-813f-8e4511eba8cf",
   "metadata": {
    "tags": []
   },
   "outputs": [
    {
     "data": {
      "text/plain": [
       "<igraph.Graph at 0x150ab5fc0740>"
      ]
     },
     "execution_count": 11,
     "metadata": {},
     "output_type": "execute_result"
    }
   ],
   "source": [
    "graph_10"
   ]
  },
  {
   "cell_type": "code",
   "execution_count": 2,
   "id": "b00ea278-6afc-4665-a403-beeeee7c9f4a",
   "metadata": {
    "tags": []
   },
   "outputs": [],
   "source": [
    "def save_xnet_to_gml(xnet_file, filename):\n",
    "    '''\n",
    "    Converts xnet graph to GML file\n",
    "    :param xnet_file: Xnet graph\n",
    "    :param filename: Name of file to save as gml\n",
    "    \n",
    "    :return networkx graph\n",
    "    '''\n",
    "    import networkx as nx\n",
    "    \n",
    "    G = xnet_file.to_networkx()\n",
    "    \n",
    "    for node, attrs in G.nodes(data=True):\n",
    "        if '_igraph_index' in attrs:\n",
    "            del attrs['_igraph_index']\n",
    "\n",
    "    for u, v, attrs in G.edges(data=True):\n",
    "        if '_igraph_index' in attrs:\n",
    "            del attrs['_igraph_index']\n",
    "            \n",
    "    nx.write_gml(G, filename)\n",
    "    \n",
    "    return G"
   ]
  },
  {
   "cell_type": "code",
   "execution_count": 3,
   "id": "9dc6705b-1a0f-40f1-b9b2-1b2db6500497",
   "metadata": {
    "tags": []
   },
   "outputs": [
    {
     "name": "stdout",
     "output_type": "stream",
     "text": [
      "6330\n"
     ]
    }
   ],
   "source": [
    "path=\"/N/project/INCAS/merge_network/cuba_cohashtag_10.xnet\"\n",
    "graph_10 = load(path)\n",
    "print(graph_10.vcount())\n",
    "\n",
    "filename=\"/N/project/INCAS/merge_network/cuba_cohashtag_10.gml\"\n",
    "\n",
    "G = save_xnet_to_gml(graph_10, filename)"
   ]
  },
  {
   "cell_type": "code",
   "execution_count": 12,
   "id": "94608e10-d177-4d4f-824f-a208f92da8f6",
   "metadata": {
    "tags": []
   },
   "outputs": [],
   "source": [
    "import pandas as pd"
   ]
  },
  {
   "cell_type": "code",
   "execution_count": 17,
   "id": "adda99c4-70ef-4356-a6bb-c5da7f11ebbd",
   "metadata": {
    "tags": []
   },
   "outputs": [],
   "source": [
    "def save_all_graph_attr(gml_graph, filename):\n",
    "    '''\n",
    "    Save all attributes with graph node label\n",
    "    :param gml_graph: GML graph\n",
    "    :param filename: Name of file to be saved\n",
    "    '''\n",
    "    \n",
    "    all_data = []\n",
    "    for u, v, attrs in gml_graph.edges(data=True):\n",
    "        all_data.append([u, v, attrs['weight'],\n",
    "                         attrs['pvalue'], attrs['zscore']]\n",
    "                       )\n",
    "\n",
    "    df_edge = pd.DataFrame(data=all_data,\n",
    "                           columns=['source_index', 'target_index',\n",
    "                                    'weight', 'pvalue',\n",
    "                                    'zscore'\n",
    "                                   ]\n",
    "                          )\n",
    "\n",
    "    nodes = []\n",
    "    for node in gml_graph.nodes(data=True):\n",
    "        nodes.append([node[0], node[1]['Label']])\n",
    "\n",
    "    df_node = pd.DataFrame(data=nodes,\n",
    "                           columns=['index', 'node_label']\n",
    "                          )\n",
    "\n",
    "    df_edge = df_edge.merge(df_node,\n",
    "                            left_on='source_index',\n",
    "                            right_on='index'\n",
    "                           )\n",
    "    df_edge = df_edge.merge(df_node,\n",
    "                            left_on='target_index',\n",
    "                            right_on='index'\n",
    "                           )\n",
    "    df_need = df_edge[['weight', 'pvalue', 'zscore', 'node_label_x', 'node_label_y']]\n",
    "    df_need = df_need.rename(columns={\n",
    "        'node_label_x': 'source',\n",
    "        'node_label_y': 'target'\n",
    "    })\n",
    "    \n",
    "    df_need.to_pickle(filename)\n",
    "\n",
    "filename='./data/cuba_network_all_attributes_with_node_label.pkl.gz'\n",
    "\n",
    "# save_all_graph_attr(G, filename)"
   ]
  },
  {
   "cell_type": "code",
   "execution_count": 4,
   "id": "917c69f4-b17c-4fcf-9fc9-d4b0d35675b8",
   "metadata": {
    "tags": []
   },
   "outputs": [
    {
     "name": "stdout",
     "output_type": "stream",
     "text": [
      "(0, {'Label': '1000100707'})\n"
     ]
    }
   ],
   "source": [
    "for node in G.nodes(data=True):\n",
    "    print(node)\n",
    "    break\n",
    "    \n",
    "def save_edge_attributes(gml_graph, filename):    \n",
    "    all_data = []\n",
    "    for u, v, attrs in G.edges(data=True):\n",
    "        all_data.append([attrs['weight'], attrs['pvalue'], attrs['zscore']])\n",
    "\n",
    "    (pd.DataFrame(data=all_data,\n",
    "                  columns=['weight', 'pvalue', 'zscore']\n",
    "                 )\n",
    "    ).to_pickle(filename)\n",
    "    \n",
    "filename='./data/cuba_network_attributes.pkl.gz'"
   ]
  },
  {
   "cell_type": "markdown",
   "id": "5561ea20-d365-4815-8e10-1b01af594917",
   "metadata": {
    "tags": []
   },
   "source": [
    "#### **Check how the weight, pvalue and zcore are**"
   ]
  },
  {
   "cell_type": "code",
   "execution_count": 53,
   "id": "6884e30d-37ab-4bbb-aa00-960b053dcae1",
   "metadata": {
    "tags": []
   },
   "outputs": [],
   "source": [
    "filename='./data/cuba_network_attributes.pkl.gz'\n",
    "\n",
    "df_attr = pd.read_pickle(filename)"
   ]
  },
  {
   "cell_type": "code",
   "execution_count": 60,
   "id": "4df92834-a7c8-451a-b2be-e25f6f2d0110",
   "metadata": {
    "tags": []
   },
   "outputs": [
    {
     "data": {
      "text/html": [
       "<div>\n",
       "<style scoped>\n",
       "    .dataframe tbody tr th:only-of-type {\n",
       "        vertical-align: middle;\n",
       "    }\n",
       "\n",
       "    .dataframe tbody tr th {\n",
       "        vertical-align: top;\n",
       "    }\n",
       "\n",
       "    .dataframe thead th {\n",
       "        text-align: right;\n",
       "    }\n",
       "</style>\n",
       "<table border=\"1\" class=\"dataframe\">\n",
       "  <thead>\n",
       "    <tr style=\"text-align: right;\">\n",
       "      <th></th>\n",
       "      <th>weight</th>\n",
       "      <th>pvalue</th>\n",
       "      <th>zscore</th>\n",
       "    </tr>\n",
       "  </thead>\n",
       "  <tbody>\n",
       "    <tr>\n",
       "      <th>0</th>\n",
       "      <td>0.930966</td>\n",
       "      <td>0.001</td>\n",
       "      <td>116.350404</td>\n",
       "    </tr>\n",
       "    <tr>\n",
       "      <th>1</th>\n",
       "      <td>0.935297</td>\n",
       "      <td>0.001</td>\n",
       "      <td>118.460888</td>\n",
       "    </tr>\n",
       "    <tr>\n",
       "      <th>2</th>\n",
       "      <td>0.935470</td>\n",
       "      <td>0.001</td>\n",
       "      <td>122.219060</td>\n",
       "    </tr>\n",
       "    <tr>\n",
       "      <th>3</th>\n",
       "      <td>0.638316</td>\n",
       "      <td>0.001</td>\n",
       "      <td>75.308300</td>\n",
       "    </tr>\n",
       "    <tr>\n",
       "      <th>4</th>\n",
       "      <td>0.665785</td>\n",
       "      <td>0.001</td>\n",
       "      <td>78.633088</td>\n",
       "    </tr>\n",
       "  </tbody>\n",
       "</table>\n",
       "</div>"
      ],
      "text/plain": [
       "     weight  pvalue      zscore\n",
       "0  0.930966   0.001  116.350404\n",
       "1  0.935297   0.001  118.460888\n",
       "2  0.935470   0.001  122.219060\n",
       "3  0.638316   0.001   75.308300\n",
       "4  0.665785   0.001   78.633088"
      ]
     },
     "execution_count": 60,
     "metadata": {},
     "output_type": "execute_result"
    }
   ],
   "source": [
    "df_attr.head()"
   ]
  },
  {
   "cell_type": "code",
   "execution_count": 63,
   "id": "3b78201e-b1dd-4d52-9ff4-d30d7f46b263",
   "metadata": {
    "tags": []
   },
   "outputs": [
    {
     "data": {
      "image/png": "[encoded data removed]",
      "text/plain": [
       "<Figure size 800x800 with 1 Axes>"
      ]
     },
     "metadata": {},
     "output_type": "display_data"
    }
   ],
   "source": [
    "import coordinationz.visualization as vz\n",
    "\n",
    "parameters =  {\n",
    "        'data': df_attr,\n",
    "        'fontsize': 14,\n",
    "        'columns': {\n",
    "            'x': 'weight',\n",
    "            'y': 'zscore',\n",
    "        },\n",
    "        'alpha': 0.5,\n",
    "        'marker_size': 5,\n",
    "        'marker': None,\n",
    "        'xlabel': 'edge weight',\n",
    "        'ylabel': 'zscore',\n",
    "        'legend_location': '',\n",
    "        'log_yscale': False,\n",
    "        'log_xscale': False,\n",
    "        'bins': None,\n",
    "        'title': f'',\n",
    "        'save': {\n",
    "            'path': f'./plots',\n",
    "            'filename': f'cuba_weight_zscore.png'\n",
    "        },\n",
    "    }\n",
    "\n",
    "vz.scatter_plot(parameters)"
   ]
  },
  {
   "cell_type": "markdown",
   "id": "59ce90c8-85ad-444b-8c3b-725416d15e83",
   "metadata": {
    "tags": []
   },
   "source": [
    "#### **Check sign of coordination**"
   ]
  },
  {
   "cell_type": "code",
   "execution_count": 69,
   "id": "a3634eb2-721d-4521-93c7-3db63a225263",
   "metadata": {
    "tags": []
   },
   "outputs": [
    {
     "name": "stdout",
     "output_type": "stream",
     "text": [
      "Total control users : 30099\n",
      "Total io users : 446\n",
      "Total control data:  1353088\n",
      "Total IO data:  250367\n",
      "Loading data, class:  2\n",
      "Filtering original tweet, class:  2\n"
     ]
    },
    {
     "name": "stderr",
     "output_type": "stream",
     "text": [
      "/N/slate/potem/project/coordinationz/source/coordinationz/cohashtag_helper.py:57: SettingWithCopyWarning: \n",
      "A value is trying to be set on a copy of a slice from a DataFrame.\n",
      "Try using .loc[row_indexer,col_indexer] = value instead\n",
      "\n",
      "See the caveats in the documentation: https://pandas.pydata.org/pandas-docs/stable/user_guide/indexing.html#returning-a-view-versus-a-copy\n",
      "  df_hashtag['list_hashtag'] = df_hashtag['hashtags'].apply(\n"
     ]
    },
    {
     "name": "stdout",
     "output_type": "stream",
     "text": [
      "After filtering: Total control users : 20108\n",
      "After filtering: Total io users : 58\n",
      "2\n",
      "Filtering tweet with hashtag, class:  2\n",
      "After filtering user with min activity 10\n",
      "Class 1:  654\n",
      "Class 2:  390640\n",
      "Filtering the user with min activity 10, class:  2\n"
     ]
    },
    {
     "data": {
      "text/plain": [
       "array([0, 1])"
      ]
     },
     "execution_count": 69,
     "metadata": {},
     "output_type": "execute_result"
    }
   ],
   "source": [
    "io_path = '/N/project/INCAS/new_parse/io/cuba_082020_tweets.pkl.gz'\n",
    "control_path = '/N/project/INCAS/new_parse/control/cuba_082020_tweets_control.pkl.gz'\n",
    "\n",
    "import coordinationz.cohashtag_helper as cohp\n",
    "\n",
    "import importlib\n",
    "\n",
    "importlib.reload(cohp)\n",
    "\n",
    "df = cohp.preprocess_data(io_path, control_path, 10)\n",
    "\n",
    "df['label'].unique()"
   ]
  },
  {
   "cell_type": "code",
   "execution_count": 65,
   "id": "ccce8c45-76d7-4bf7-bca9-0b67d18a96b6",
   "metadata": {
    "tags": []
   },
   "outputs": [],
   "source": [
    "Gcc = sorted(nx.connected_components(G), key=len, reverse=True)\n",
    "G0 = G.subgraph(Gcc[0])"
   ]
  },
  {
   "cell_type": "code",
   "execution_count": 76,
   "id": "e5365a88-684a-4520-8411-87d95f3ebfe9",
   "metadata": {
    "tags": []
   },
   "outputs": [],
   "source": [
    "all_nodes = []\n",
    "for node, attr in G0.nodes(data=True):\n",
    "    all_nodes.append(attr['Label'])"
   ]
  },
  {
   "cell_type": "code",
   "execution_count": 96,
   "id": "6a36d9b1-5350-4d68-88d7-736bbfdc0429",
   "metadata": {
    "tags": []
   },
   "outputs": [
    {
     "data": {
      "text/plain": [
       "570"
      ]
     },
     "execution_count": 96,
     "metadata": {},
     "output_type": "execute_result"
    }
   ],
   "source": [
    "len(all_nodes)"
   ]
  },
  {
   "cell_type": "code",
   "execution_count": 117,
   "id": "fe45ed3d-87ac-497e-a755-d177d3afe2c1",
   "metadata": {
    "tags": []
   },
   "outputs": [],
   "source": [
    "df_required = df.loc[df['userid'].isin(all_nodes)]"
   ]
  },
  {
   "cell_type": "code",
   "execution_count": 97,
   "id": "c4a69a82-bb04-4384-8de3-d036c08777e2",
   "metadata": {
    "tags": []
   },
   "outputs": [
    {
     "data": {
      "text/plain": [
       "28582"
      ]
     },
     "execution_count": 97,
     "metadata": {},
     "output_type": "execute_result"
    }
   ],
   "source": [
    "len(df_required)"
   ]
  },
  {
   "cell_type": "code",
   "execution_count": 81,
   "id": "1ded6700-8776-4cb5-be8a-eb697520b08e",
   "metadata": {
    "tags": []
   },
   "outputs": [
    {
     "data": {
      "text/plain": [
       "Index(['tweetid', 'tweet_text', 'in_reply_to_tweetid', 'in_reply_to_userid',\n",
       "       'created_at', 'tweet_client_name', 'tweet_language', 'hashtags',\n",
       "       'mentions', 'urls', 'is_retweet', 'retweet_tweetid', 'retweet_userid',\n",
       "       'userid', 'user_profile_image_url', 'user_screen_name',\n",
       "       'account_creation_date', 'user_verified', 'user_protected',\n",
       "       'user_profile_description', 'user_profile_entites', 'user_profile_url',\n",
       "       'follower_count', 'following_count', 'user_profile_status_count',\n",
       "       'user_profile_listed_count', 'user_profile_favourites_count',\n",
       "       'user_reported_geo', 'user_reported_coordinates',\n",
       "       'user_reported_location', 'label', 'user_display_name',\n",
       "       'account_language', 'tweet_time', 'quoted_tweet_tweetid', 'latitude',\n",
       "       'longitude', 'quote_count', 'reply_count', 'like_count',\n",
       "       'retweet_count', 'user_mentions', 'list_hashtag'],\n",
       "      dtype='object')"
      ]
     },
     "execution_count": 81,
     "metadata": {},
     "output_type": "execute_result"
    }
   ],
   "source": [
    "df_required.columns"
   ]
  },
  {
   "cell_type": "code",
   "execution_count": 83,
   "id": "51c6ed03-8009-43c7-844e-7e34bec24437",
   "metadata": {
    "tags": []
   },
   "outputs": [
    {
     "data": {
      "text/html": [
       "<div>\n",
       "<style scoped>\n",
       "    .dataframe tbody tr th:only-of-type {\n",
       "        vertical-align: middle;\n",
       "    }\n",
       "\n",
       "    .dataframe tbody tr th {\n",
       "        vertical-align: top;\n",
       "    }\n",
       "\n",
       "    .dataframe thead th {\n",
       "        text-align: right;\n",
       "    }\n",
       "</style>\n",
       "<table border=\"1\" class=\"dataframe\">\n",
       "  <thead>\n",
       "    <tr style=\"text-align: right;\">\n",
       "      <th></th>\n",
       "      <th>hashtags</th>\n",
       "      <th>list_hashtag</th>\n",
       "    </tr>\n",
       "  </thead>\n",
       "  <tbody>\n",
       "    <tr>\n",
       "      <th>3619</th>\n",
       "      <td>['Cuba', 'Venezuela']</td>\n",
       "      <td>[Cuba, Venezuela]</td>\n",
       "    </tr>\n",
       "    <tr>\n",
       "      <th>3620</th>\n",
       "      <td>['Cuba', 'Venezuela']</td>\n",
       "      <td>[Cuba, Venezuela]</td>\n",
       "    </tr>\n",
       "    <tr>\n",
       "      <th>3621</th>\n",
       "      <td>['Cuba', 'Venezuela']</td>\n",
       "      <td>[Cuba, Venezuela]</td>\n",
       "    </tr>\n",
       "    <tr>\n",
       "      <th>3622</th>\n",
       "      <td>['Cuba', 'Venezuela']</td>\n",
       "      <td>[Cuba, Venezuela]</td>\n",
       "    </tr>\n",
       "    <tr>\n",
       "      <th>3623</th>\n",
       "      <td>['Cuba', 'Venezuela']</td>\n",
       "      <td>[Cuba, Venezuela]</td>\n",
       "    </tr>\n",
       "  </tbody>\n",
       "</table>\n",
       "</div>"
      ],
      "text/plain": [
       "                   hashtags       list_hashtag\n",
       "3619  ['Cuba', 'Venezuela']  [Cuba, Venezuela]\n",
       "3620  ['Cuba', 'Venezuela']  [Cuba, Venezuela]\n",
       "3621  ['Cuba', 'Venezuela']  [Cuba, Venezuela]\n",
       "3622  ['Cuba', 'Venezuela']  [Cuba, Venezuela]\n",
       "3623  ['Cuba', 'Venezuela']  [Cuba, Venezuela]"
      ]
     },
     "execution_count": 83,
     "metadata": {},
     "output_type": "execute_result"
    }
   ],
   "source": [
    "df_required[['hashtags', 'list_hashtag']].head()"
   ]
  },
  {
   "cell_type": "code",
   "execution_count": 84,
   "id": "d78363c0-b09e-4486-ab20-42f4f811283d",
   "metadata": {
    "tags": []
   },
   "outputs": [
    {
     "name": "stderr",
     "output_type": "stream",
     "text": [
      "/tmp/ipykernel_1927725/2093604224.py:1: SettingWithCopyWarning: \n",
      "A value is trying to be set on a copy of a slice from a DataFrame.\n",
      "Try using .loc[row_indexer,col_indexer] = value instead\n",
      "\n",
      "See the caveats in the documentation: https://pandas.pydata.org/pandas-docs/stable/user_guide/indexing.html#returning-a-view-versus-a-copy\n",
      "  df_required['length'] = df_required['list_hashtag'].apply(\n"
     ]
    }
   ],
   "source": [
    "df_required['length'] = df_required['list_hashtag'].apply(\n",
    "    lambda x: len(x)\n",
    ")"
   ]
  },
  {
   "cell_type": "code",
   "execution_count": 86,
   "id": "c3279afb-bb65-44d8-bd85-f974faa1b240",
   "metadata": {
    "tags": []
   },
   "outputs": [
    {
     "data": {
      "text/plain": [
       "array([2, 3, 4, 1, 6, 9, 5, 7, 8])"
      ]
     },
     "execution_count": 86,
     "metadata": {},
     "output_type": "execute_result"
    }
   ],
   "source": [
    "df_required['length'].unique()"
   ]
  },
  {
   "cell_type": "code",
   "execution_count": 102,
   "id": "dfa4a8a5-087d-4d71-a2dc-e75659c0e9f4",
   "metadata": {
    "tags": []
   },
   "outputs": [
    {
     "name": "stdout",
     "output_type": "stream",
     "text": [
      "./plots/cuba_number_of_hashtags.png\n"
     ]
    },
    {
     "data": {
      "image/png": "[encoded data removed]",
      "text/plain": [
       "<Figure size 800x800 with 1 Axes>"
      ]
     },
     "metadata": {},
     "output_type": "display_data"
    }
   ],
   "source": [
    "parameters =  {\n",
    "        'data': [df_required],\n",
    "        'fontsize': 30,\n",
    "        'complementary': True,\n",
    "        'tick_size':20,\n",
    "        'columns': [\n",
    "            {'column': 'length',\n",
    "             'label': '',\n",
    "            }\n",
    "        ],\n",
    "        'xlabel': 'Number of hashtags used \\n in each tweet',\n",
    "        'ylabel': '',\n",
    "        # 'legend_location': '',\n",
    "        'log_yscale': False,\n",
    "        'log_xscale': False,\n",
    "        'save': {\n",
    "            'path': './plots/',\n",
    "            'filename': 'cuba_number_of_hashtags.png'\n",
    "        },\n",
    "        'random_color': False\n",
    "    }\n",
    "\n",
    "vz.ccdf(parameters)"
   ]
  },
  {
   "cell_type": "code",
   "execution_count": 94,
   "id": "598602a6-57ac-4062-a5f2-3abb1a38bbba",
   "metadata": {
    "tags": []
   },
   "outputs": [],
   "source": [
    "degrees = G0.degree()"
   ]
  },
  {
   "cell_type": "markdown",
   "id": "8fde1c32-0ebe-4882-903e-b8d070eb6679",
   "metadata": {
    "tags": []
   },
   "source": [
    "#### **Explode**"
   ]
  },
  {
   "cell_type": "code",
   "execution_count": 104,
   "id": "137149b8-a5ec-4a7b-8093-2111f304d752",
   "metadata": {
    "tags": []
   },
   "outputs": [],
   "source": [
    "df_exp = df_required.explode(['list_hashtag'])"
   ]
  },
  {
   "cell_type": "code",
   "execution_count": 108,
   "id": "0da2163a-f20b-44f7-bdb8-eb4904ad0f5f",
   "metadata": {
    "tags": []
   },
   "outputs": [],
   "source": [
    "df_grp = (df_exp\n",
    "          .groupby(['list_hashtag'])['tweetid']\n",
    "          .nunique()\n",
    "          .to_frame('count')\n",
    "          .reset_index()\n",
    "          .sort_values(by='count',\n",
    "                       ascending=False\n",
    "                      )\n",
    "         )"
   ]
  },
  {
   "cell_type": "code",
   "execution_count": 134,
   "id": "4e2cda56-41d3-4641-ad06-e91fc82114d7",
   "metadata": {
    "tags": []
   },
   "outputs": [
    {
     "data": {
      "text/html": [
       "<div>\n",
       "<style scoped>\n",
       "    .dataframe tbody tr th:only-of-type {\n",
       "        vertical-align: middle;\n",
       "    }\n",
       "\n",
       "    .dataframe tbody tr th {\n",
       "        vertical-align: top;\n",
       "    }\n",
       "\n",
       "    .dataframe thead th {\n",
       "        text-align: right;\n",
       "    }\n",
       "</style>\n",
       "<table border=\"1\" class=\"dataframe\">\n",
       "  <thead>\n",
       "    <tr style=\"text-align: right;\">\n",
       "      <th></th>\n",
       "      <th>list_hashtag</th>\n",
       "      <th>count</th>\n",
       "    </tr>\n",
       "  </thead>\n",
       "  <tbody>\n",
       "    <tr>\n",
       "      <th>721</th>\n",
       "      <td>TuitUtil</td>\n",
       "      <td>11100</td>\n",
       "    </tr>\n",
       "    <tr>\n",
       "      <th>159</th>\n",
       "      <td>Cuba</td>\n",
       "      <td>6268</td>\n",
       "    </tr>\n",
       "    <tr>\n",
       "      <th>228</th>\n",
       "      <td>FF</td>\n",
       "      <td>2897</td>\n",
       "    </tr>\n",
       "    <tr>\n",
       "      <th>754</th>\n",
       "      <td>Venezuela</td>\n",
       "      <td>2522</td>\n",
       "    </tr>\n",
       "    <tr>\n",
       "      <th>445</th>\n",
       "      <td>MiercolesDeGanarSeguidores</td>\n",
       "      <td>2419</td>\n",
       "    </tr>\n",
       "    <tr>\n",
       "      <th>637</th>\n",
       "      <td>SeguimeYTeSigoEnSegundos</td>\n",
       "      <td>2355</td>\n",
       "    </tr>\n",
       "    <tr>\n",
       "      <th>822</th>\n",
       "      <td>cuba</td>\n",
       "      <td>975</td>\n",
       "    </tr>\n",
       "    <tr>\n",
       "      <th>842</th>\n",
       "      <td>ff</td>\n",
       "      <td>906</td>\n",
       "    </tr>\n",
       "    <tr>\n",
       "      <th>35</th>\n",
       "      <td>Americalatina</td>\n",
       "      <td>795</td>\n",
       "    </tr>\n",
       "    <tr>\n",
       "      <th>583</th>\n",
       "      <td>RT</td>\n",
       "      <td>736</td>\n",
       "    </tr>\n",
       "    <tr>\n",
       "      <th>617</th>\n",
       "      <td>SIGUEMEYTESIGO</td>\n",
       "      <td>400</td>\n",
       "    </tr>\n",
       "    <tr>\n",
       "      <th>199</th>\n",
       "      <td>DomingoDeGanarSeguidores</td>\n",
       "      <td>340</td>\n",
       "    </tr>\n",
       "    <tr>\n",
       "      <th>848</th>\n",
       "      <td>followback</td>\n",
       "      <td>322</td>\n",
       "    </tr>\n",
       "    <tr>\n",
       "      <th>623</th>\n",
       "      <td>SabadoDeGanarSeguidores</td>\n",
       "      <td>303</td>\n",
       "    </tr>\n",
       "    <tr>\n",
       "      <th>761</th>\n",
       "      <td>ViernesDeGanarSeguidores</td>\n",
       "      <td>221</td>\n",
       "    </tr>\n",
       "    <tr>\n",
       "      <th>634</th>\n",
       "      <td>SeguimeYTeSigo</td>\n",
       "      <td>220</td>\n",
       "    </tr>\n",
       "    <tr>\n",
       "      <th>205</th>\n",
       "      <td>Ecuador</td>\n",
       "      <td>192</td>\n",
       "    </tr>\n",
       "    <tr>\n",
       "      <th>272</th>\n",
       "      <td>ForeverAlone</td>\n",
       "      <td>146</td>\n",
       "    </tr>\n",
       "    <tr>\n",
       "      <th>371</th>\n",
       "      <td>JuevesDeGanarSeguidores</td>\n",
       "      <td>143</td>\n",
       "    </tr>\n",
       "    <tr>\n",
       "      <th>265</th>\n",
       "      <td>FollowFriday</td>\n",
       "      <td>136</td>\n",
       "    </tr>\n",
       "    <tr>\n",
       "      <th>396</th>\n",
       "      <td>LittleMonster</td>\n",
       "      <td>136</td>\n",
       "    </tr>\n",
       "    <tr>\n",
       "      <th>478</th>\n",
       "      <td>Noticias</td>\n",
       "      <td>108</td>\n",
       "    </tr>\n",
       "    <tr>\n",
       "      <th>244</th>\n",
       "      <td>FelizDomingo</td>\n",
       "      <td>108</td>\n",
       "    </tr>\n",
       "    <tr>\n",
       "      <th>162</th>\n",
       "      <td>CubaRadio90</td>\n",
       "      <td>107</td>\n",
       "    </tr>\n",
       "    <tr>\n",
       "      <th>310</th>\n",
       "      <td>GoogleAlerts</td>\n",
       "      <td>104</td>\n",
       "    </tr>\n",
       "    <tr>\n",
       "      <th>799</th>\n",
       "      <td>belieber</td>\n",
       "      <td>95</td>\n",
       "    </tr>\n",
       "    <tr>\n",
       "      <th>42</th>\n",
       "      <td>AngyFdz</td>\n",
       "      <td>84</td>\n",
       "    </tr>\n",
       "    <tr>\n",
       "      <th>828</th>\n",
       "      <td>directioner</td>\n",
       "      <td>84</td>\n",
       "    </tr>\n",
       "    <tr>\n",
       "      <th>873</th>\n",
       "      <td>lovatic</td>\n",
       "      <td>83</td>\n",
       "    </tr>\n",
       "    <tr>\n",
       "      <th>794</th>\n",
       "      <td>asksdjjsk</td>\n",
       "      <td>83</td>\n",
       "    </tr>\n",
       "  </tbody>\n",
       "</table>\n",
       "</div>"
      ],
      "text/plain": [
       "                   list_hashtag  count\n",
       "721                    TuitUtil  11100\n",
       "159                        Cuba   6268\n",
       "228                          FF   2897\n",
       "754                   Venezuela   2522\n",
       "445  MiercolesDeGanarSeguidores   2419\n",
       "637    SeguimeYTeSigoEnSegundos   2355\n",
       "822                        cuba    975\n",
       "842                          ff    906\n",
       "35                Americalatina    795\n",
       "583                          RT    736\n",
       "617              SIGUEMEYTESIGO    400\n",
       "199    DomingoDeGanarSeguidores    340\n",
       "848                  followback    322\n",
       "623     SabadoDeGanarSeguidores    303\n",
       "761    ViernesDeGanarSeguidores    221\n",
       "634              SeguimeYTeSigo    220\n",
       "205                     Ecuador    192\n",
       "272                ForeverAlone    146\n",
       "371     JuevesDeGanarSeguidores    143\n",
       "265                FollowFriday    136\n",
       "396               LittleMonster    136\n",
       "478                    Noticias    108\n",
       "244                FelizDomingo    108\n",
       "162                 CubaRadio90    107\n",
       "310                GoogleAlerts    104\n",
       "799                    belieber     95\n",
       "42                      AngyFdz     84\n",
       "828                 directioner     84\n",
       "873                     lovatic     83\n",
       "794                   asksdjjsk     83"
      ]
     },
     "execution_count": 134,
     "metadata": {},
     "output_type": "execute_result"
    }
   ],
   "source": [
    "df_grp.head(30)"
   ]
  },
  {
   "cell_type": "code",
   "execution_count": 132,
   "id": "e934ef3b-9c5a-4e0e-84a8-eebe6b0e742e",
   "metadata": {
    "tags": []
   },
   "outputs": [
    {
     "data": {
      "text/plain": [
       "array([['203730852', '#FF a @LucasTorresSF'],\n",
       "       ['203730852', '#FF a @RenattoSwayne'],\n",
       "       ['203730852', '#FF @uchiboza'],\n",
       "       ['203730852',\n",
       "        '#FF a @sancheznataniel @NataliaSalasZ @juancarlosrdc @carocano @BarbaraCayoSang @JavierDulzaides @ElisaTenaud'],\n",
       "       ['203730852',\n",
       "        '#ff a @OFundichely @YFrayssinet @BraulioChappell @Chiara_Molina @adolfochuiman @KarlaFMG @katiasalazarm'],\n",
       "       ['203730852',\n",
       "        '#FF a @DakiyJamieLove @ValeyCesarFans @juanmaguilerafc @FansdeStefanoS @LasSabaWeb @MagdyelUgazArmy @OhCincuenta50 @DVAB_fans @Fans_Urbina'],\n",
       "       ['203730852',\n",
       "        '#FF a @TeamKatiaCondos @OirAmorPeru @TeamAnnaCarina @TeamAccinelliV @_CristianRivFCO @FCOCarolinaCano @FcoLaliMusicaPe @Fans_Wiese'],\n",
       "       ['203730852',\n",
       "        '#FF a @GianeNeyra_Team @TeamGabrielGil @Fco_DanielaS @FCOGabrielGil @TeamChappellB @MiselitiGPDL @TeamCindyDiaz @GiselaBrunouddt'],\n",
       "       ['203730852',\n",
       "        '#FF a @TeamKatiaCondos @OirAmorPeru @GiselaBrunouddt @TeamAccinelliV @FCOCarolinaCano @FcoLaliMusicaPe @_CristianRivFCO @fcovalquiriahs'],\n",
       "       ['203730852',\n",
       "        '#FF a @ValeyCesarFans @juanmaguilerafc @DakiyJamieLove @OhCincuenta50 @FansdeStefanoS @MagdyelUgazArmy @LasSabaWeb @RenatoB_JCarlos'],\n",
       "       ['203730852',\n",
       "        '#FF a @VaniaAccinelli @FiorellaPennano @CristinaBenav @josedammert @JoaquindeO @Joaquinescobark'],\n",
       "       ['203730852',\n",
       "        '#FF a @MariPiliBarreda @JuniorSilvaOf @Machi_Ramirez @StephCayoFCVzla @BarbaraCayoSang @FiorellaCayo1'],\n",
       "       ['203730852',\n",
       "        '#FF a @ImproPatricia @arizaga_a @NicolaPorcella @FlaaLaos @mayra_goni @javdelgiudice @luis_Baca @EstefanoBuche @fran_aronsson @katiacondos'],\n",
       "       ['203730852',\n",
       "        '#FF a @BraulioChappell @ErickElera1 @FernandoBakovic @Joaquinescobark @OFundichely'],\n",
       "       ['203730852',\n",
       "        '#FF a @SilvanaCanote @mariaSonrisagl @Zoe_arevalo @MauroRamirez13 @vanessasaba75 @Dav_villanueva9 @StefanoSalviniP'],\n",
       "       ['203730852',\n",
       "        '#FF a @CarlosCarlinOf @vacadescarriada @gonzalorevoredo @vacadescarriada @cachinalcantara'],\n",
       "       ['203730852',\n",
       "        '#FF @ErickElera1 @karinaCalmet @uchiboza @KarlaFMG @BenelAreliz @FiorellaPennano @BarbaraCayoSang @GianellaNeyra_ @ElisaTenaud'],\n",
       "       ['203730852',\n",
       "        '#FF para @BraulioChappell @ErickElera1 @FernandoBakovic @Joaquinescobark @juancarlosrdc @OFundichely @pacobazan_ @paulvega_f @GermanLoero @marco_zunino @JoaquindeO @josedammert @j_dulzaides @DavAlmandoz @CarlosSolanoA @BrunoOdar @gustavobuenow'],\n",
       "       ['203730852',\n",
       "        '#FF para @juanmaguilerafc @ValeyCesarFans @DakiyJamieLove @FCOMgolergant @FansdeStefanoS @LasSabaWeb @OhCincuenta50 @Fans_Urbina @TeamAccinelliV @_CristianRivFCO @SergioNicolasFC @FundichelyFCO @TatianaAFans @FCOCarolinaCano'],\n",
       "       ['203730852', '#FF a @GiovanniArce @AndreaLunaPeru'],\n",
       "       ['947604823716884481',\n",
       "        '@Amayran01216110 Gracias por seguirme bell@?, en breve te devuelvo follow :) #TuitUtil https://t.co/xbhDIbhjwg'],\n",
       "       ['947604823716884481',\n",
       "        '@suga_kiute Gracias por seguirme bell@?, en breve te devuelvo follow :) #TuitUtil https://t.co/xbhDIbhjwg'],\n",
       "       ['947604823716884481',\n",
       "        '@AbigailArmy3 Gracias por seguirme bell@?, en breve te devuelvo follow :) #TuitUtil https://t.co/xbhDIbhjwg'],\n",
       "       ['947604823716884481',\n",
       "        '@_belovedSuga Gracias por seguirme bell@?, en breve te devuelvo follow :) #TuitUtil https://t.co/xbhDIbhjwg'],\n",
       "       ['947604823716884481',\n",
       "        '@PenaPierinna Gracias por seguirme bell@?, en breve te devuelvo follow :) #TuitUtil https://t.co/xbhDIbhjwg'],\n",
       "       ['947604823716884481',\n",
       "        '@Angie85357335 Gracias por seguirme bell@?, en breve te devuelvo follow :) #TuitUtil https://t.co/xbhDIbhjwg'],\n",
       "       ['947604823716884481',\n",
       "        '@sammy_sair Gracias por seguirme bell@?, en breve te devuelvo follow :) #TuitUtil https://t.co/xbhDIbhjwg'],\n",
       "       ['947604823716884481',\n",
       "        '@foreverarmy299 Gracias por seguirme bell@?, en breve te devuelvo follow :) #TuitUtil https://t.co/xbhDIbhjwg'],\n",
       "       ['947604823716884481',\n",
       "        '@Luci63386856 Gracias por seguirme bell@?, en breve te devuelvo follow :) #TuitUtil https://t.co/xbhDIbhjwg'],\n",
       "       ['947604823716884481',\n",
       "        '@suamy_twt Gracias por seguirme bell@?, en breve te devuelvo follow :) #TuitUtil https://t.co/xbhDIbhjwg'],\n",
       "       ['947604823716884481',\n",
       "        '@Hobi_BangtanLJM Gracias por seguirme bell@?, en breve te devuelvo follow :) #TuitUtil https://t.co/xbhDIbhjwg'],\n",
       "       ['947604823716884481',\n",
       "        '@KimTaeh87350269 Gracias por seguirme bell@?, en breve te devuelvo follow :) #TuitUtil https://t.co/xbhDIbhjwg'],\n",
       "       ['947604823716884481',\n",
       "        '@BreenArmy Gracias por seguirme bell@?, en breve te devuelvo follow :) #TuitUtil https://t.co/xbhDIbhjwg'],\n",
       "       ['947604823716884481',\n",
       "        '@BtsArmyLover8 Gracias por seguirme bell@?, en breve te devuelvo follow :) #TuitUtil https://t.co/xbhDIbhjwg'],\n",
       "       ['947604823716884481',\n",
       "        '@RaeByung00325 Gracias por seguirme bell@?, en breve te devuelvo follow :) #TuitUtil https://t.co/xbhDIaZI7G'],\n",
       "       ['947604823716884481',\n",
       "        '@Parkjonghyun5 Gracias por seguirme bell@?, en breve te devuelvo follow :) #TuitUtil https://t.co/xbhDIbhjwg'],\n",
       "       ['947604823716884481',\n",
       "        '@ValChim_ Gracias por seguirme bell@?, en breve te devuelvo follow :) #TuitUtil https://t.co/xbhDIbhjwg'],\n",
       "       ['203730852', '#FF @duoidentico'],\n",
       "       ['203730852', '#ff a @MaloryVargas2'],\n",
       "       ['203730852',\n",
       "        '#FF a @FernandoBakovic @marco_zunino @miseliti @ErickElera1 @DavAlmandoz @maury_irma @gustavobuenow @FiorellaPennano'],\n",
       "       ['203730852',\n",
       "        '#ff a @gustavobuenow @maury_irma @FiorellaPennano @BarbaraCayoSang @miseliti @GianellaNeyra_ @AndresWieseR'],\n",
       "       ['203730852',\n",
       "        '#FF a @carocano @MiguelArce_ @miguelvergaraf @alebarandiaran @FernandoBakovic @BarbaraCayoSang @paologoya @21Cordeliamar @MoTorresG'],\n",
       "       ['203730852',\n",
       "        '#FF a @Chiara_Molina @sergiogalliani @SGjurinovic @aledenegri @KarlaFMG @Piericarcelen @sancheznataniel @NataliaSalasZ @KukuliMorante'],\n",
       "       ['203730852',\n",
       "        '#FF a @danielasarfati @JoaquindeO @Joaquinescobark @josedammert @sergiogalliani @diegodsdc @carocano @josedammert @OFundichely @miselit'],\n",
       "       ['203730852',\n",
       "        '#FF a @MiguelArce_ @miguelvergaraf @Chiara_Molina @21Cordeliamar @MoTorresG @DanielaCamaiora @j_dulzaides @FCO_JavierD @magdyelugaz @gianmarcomusica'],\n",
       "       ['203730852',\n",
       "        '#FF a @NatanielYErick @TeamCaroCano @TeamEmiliaDrago @GianeNeyra_Team'],\n",
       "       ['203730852',\n",
       "        '#ff a @Yacoturco9 @arizaga_a @NicolaPorcella @GinoPesaressi @natvertiz @PatoParodiC @fabio_agostini'],\n",
       "       ['203730852',\n",
       "        '#ff a @JoaquindeO @Joaquinescobark @BarbaraCayoSang @Valquiriahs @diegodsdc @sergiogalliani @SGjurinovic @sancheznataniel @NataliaSalasZ'],\n",
       "       ['203730852',\n",
       "        '#FF a @MiguelArce_ @miguelvergaraf @Chiara_Molina @21Cordeliamar @MoTorresG @laszloloszla'],\n",
       "       ['203730852',\n",
       "        '#FF a @GermanLoero @marco_zunino @josedammert @j_dulzaides @JoaquindeO @BrunoOdar @DavAlmandoz @CarlosSolanoA @gustavobuenow #FF a @SebastianasPeru'],\n",
       "       ['203730852',\n",
       "        '#FF a @ElisaTenaud @MoTorresG @alebarandiaran @VaniaAccinelli @KukuliMorante @danielasarfati @DanielaCamaiora @Valquiriahs @tamipadi'],\n",
       "       ['203730852',\n",
       "        '#FF a @21Cordeliamar @magdyelugaz @TatianaAstengoB @YFrayssinet @sancheznataniel @BenelAreliz @melaniaurbinak @carocano @MariPiliBarreda'],\n",
       "       ['203730852',\n",
       "        '#ff a @DJYIMMA @djtowaofficial @danielbellido21 @luis_Baca'],\n",
       "       ['203730852', '#FF a @dimemari_ @pasita4ever @sanfaes'],\n",
       "       ['203730852',\n",
       "        '#FF a @MaruuMartinez22 @Amadeotizada @sissyhuug @msmilagros_13 @esposftcotzzi @espossftlanzani @taty_lalitaAC @Clara_M_Deliens @L4L1T3TON4'],\n",
       "       ['203730852',\n",
       "        '#FF a @ValeyCesarFans @juanmaguilerafc @DakiyJamieLove @LasSabaWeb @FansdeStefanoS @MagdyelUgazArmy @OhCincuenta50 @RenatoB_JCarlos'],\n",
       "       ['203730852',\n",
       "        '#FF a @GianeNeyra_Team @TeamChappellB @MiselitiGPDL @GiselaBrunouddt @Fco_DanielaS @FCOGabrielGil @TeamGabrielGil @TeamCindyDiaz @DavAlmandoz @CarlosSolanoA @gustavobuenow'],\n",
       "       ['203730852',\n",
       "        '#FF a @GermanLoero @marco_zunino @josedammert @j_dulzaides @BrunoOdar'],\n",
       "       ['203730852', '#ff a @OirAmorPeru'],\n",
       "       ['203730852', '#FF a @LucasTorresSF'],\n",
       "       ['203730852', '#FF a @RenattoSwayne'],\n",
       "       ['203730852', '#FF @uchiboza'],\n",
       "       ['203730852',\n",
       "        '#FF a @sancheznataniel @NataliaSalasZ @juancarlosrdc @carocano @BarbaraCayoSang @JavierDulzaides @ElisaTenaud'],\n",
       "       ['203730852',\n",
       "        '#ff a @OFundichely @YFrayssinet @BraulioChappell @Chiara_Molina @adolfochuiman @KarlaFMG @katiasalazarm'],\n",
       "       ['203730852',\n",
       "        '#FF a @DakiyJamieLove @ValeyCesarFans @juanmaguilerafc @FansdeStefanoS @LasSabaWeb @MagdyelUgazArmy @OhCincuenta50 @DVAB_fans @Fans_Urbina'],\n",
       "       ['203730852',\n",
       "        '#FF a @TeamKatiaCondos @OirAmorPeru @TeamAnnaCarina @TeamAccinelliV @_CristianRivFCO @FCOCarolinaCano @FcoLaliMusicaPe @Fans_Wiese'],\n",
       "       ['203730852',\n",
       "        '#FF a @GianeNeyra_Team @TeamGabrielGil @Fco_DanielaS @FCOGabrielGil @TeamChappellB @MiselitiGPDL @TeamCindyDiaz @GiselaBrunouddt'],\n",
       "       ['203730852',\n",
       "        '#FF a @TeamKatiaCondos @OirAmorPeru @GiselaBrunouddt @TeamAccinelliV @FCOCarolinaCano @FcoLaliMusicaPe @_CristianRivFCO @fcovalquiriahs'],\n",
       "       ['203730852',\n",
       "        '#FF a @ValeyCesarFans @juanmaguilerafc @DakiyJamieLove @OhCincuenta50 @FansdeStefanoS @MagdyelUgazArmy @LasSabaWeb @RenatoB_JCarlos'],\n",
       "       ['203730852',\n",
       "        '#FF a @VaniaAccinelli @FiorellaPennano @CristinaBenav @josedammert @JoaquindeO @Joaquinescobark'],\n",
       "       ['203730852',\n",
       "        '#FF a @MariPiliBarreda @JuniorSilvaOf @Machi_Ramirez @StephCayoFCVzla @BarbaraCayoSang @FiorellaCayo1'],\n",
       "       ['203730852',\n",
       "        '#FF a @ImproPatricia @arizaga_a @NicolaPorcella @FlaaLaos @mayra_goni @javdelgiudice @luis_Baca @EstefanoBuche @fran_aronsson @katiacondos'],\n",
       "       ['203730852',\n",
       "        '#FF a @BraulioChappell @ErickElera1 @FernandoBakovic @Joaquinescobark @OFundichely'],\n",
       "       ['203730852',\n",
       "        '#FF a @SilvanaCanote @mariaSonrisagl @Zoe_arevalo @MauroRamirez13 @vanessasaba75 @Dav_villanueva9 @StefanoSalviniP'],\n",
       "       ['203730852',\n",
       "        '#FF a @CarlosCarlinOf @vacadescarriada @gonzalorevoredo @vacadescarriada @cachinalcantara'],\n",
       "       ['203730852',\n",
       "        '#FF @ErickElera1 @karinaCalmet @uchiboza @KarlaFMG @BenelAreliz @FiorellaPennano @BarbaraCayoSang @GianellaNeyra_ @ElisaTenaud'],\n",
       "       ['203730852',\n",
       "        '#FF para @BraulioChappell @ErickElera1 @FernandoBakovic @Joaquinescobark @juancarlosrdc @OFundichely @pacobazan_ @paulvega_f @GermanLoero @marco_zunino @JoaquindeO @josedammert @j_dulzaides @DavAlmandoz @CarlosSolanoA @BrunoOdar @gustavobuenow'],\n",
       "       ['203730852',\n",
       "        '#FF para @juanmaguilerafc @ValeyCesarFans @DakiyJamieLove @FCOMgolergant @FansdeStefanoS @LasSabaWeb @OhCincuenta50 @Fans_Urbina @TeamAccinelliV @_CristianRivFCO @SergioNicolasFC @FundichelyFCO @TatianaAFans @FCOCarolinaCano'],\n",
       "       ['203730852', '#FF a @GiovanniArce @AndreaLunaPeru'],\n",
       "       ['1387897129',\n",
       "        '@WhatToWearHQ Gracias por seguirme, en breve te devuelvo follow :) #TuitUtil https://t.co/lYfaJLScJJ'],\n",
       "       ['1387897129',\n",
       "        'Nuevos seguidores: 6, unfollowers: 14 (02:00) #TuitUtil https://t.co/lYfaJLScJJ'],\n",
       "       ['1387897129',\n",
       "        '@0zl__ Gracias por seguirme, en breve te devuelvo follow :) #TuitUtil https://t.co/lYfaJLScJJ'],\n",
       "       ['1387897129',\n",
       "        '@GoalsFact Gracias por seguirme, en breve te devuelvo follow :) #TuitUtil https://t.co/lYfaJLScJJ'],\n",
       "       ['1387897129',\n",
       "        '@Ionelyboyz Gracias por seguirme, en breve te devuelvo follow :) #TuitUtil https://t.co/lYfaJLScJJ'],\n",
       "       ['1387897129',\n",
       "        '@Star7525 Gracias por seguirme, en breve te devuelvo follow :) #TuitUtil https://t.co/lYfaJLScJJ'],\n",
       "       ['1387897129',\n",
       "        'Nuevos seguidores: 4, unfollowers: 7 (16:08) #TuitUtil https://t.co/lYfaJLScJJ'],\n",
       "       ['1387897129',\n",
       "        '@AS_v16 Gracias por seguirme, en breve te devuelvo follow :) #TuitUtil https://t.co/lYfaJLScJJ'],\n",
       "       ['1387897129',\n",
       "        '@BN287 Gracias por seguirme, en breve te devuelvo follow :) #TuitUtil https://t.co/lYfaJLScJJ'],\n",
       "       ['1387897129',\n",
       "        'Nuevos seguidores: 2, unfollowers: 1 (06:15) #TuitUtil https://t.co/lYfaJLScJJ'],\n",
       "       ['3751146792',\n",
       "        'No me han retwitteado ningún Tweet [últimas 24h] #TuitUtil https://t.co/k5Q65xBPFz'],\n",
       "       ['3751146792',\n",
       "        'Nuevos seguidores: 0, unfollowers: 1 (05:29) #TuitUtil https://t.co/k5Q65xBPFz'],\n",
       "       ['4093649603',\n",
       "        '@serenadelouis Gracias por seguirme, en breve te devuelvo follow :) #TuitUtil https://t.co/VYdqB66Wcy'],\n",
       "       ['4093649603',\n",
       "        '@houistropical Gracias por seguirme, en breve te devuelvo follow :) #TuitUtil https://t.co/VYdqB66Wcy'],\n",
       "       ['4093649603',\n",
       "        '@magnifictroye Gracias por seguirme, en breve te devuelvo follow :) #TuitUtil https://t.co/VYdqB66Wcy'],\n",
       "       ['4093649603',\n",
       "        'Nuevos seguidores: 3, unfollowers: 5 (02:00) #TuitUtil https://t.co/VYdqB66Wcy'],\n",
       "       ['4093649603',\n",
       "        '@batesmotzl Gracias por seguirme, en breve te devuelvo follow :) #TuitUtil https://t.co/VYdqB66Wcy'],\n",
       "       ['4093649603',\n",
       "        '@cabellobyheart Gracias por seguirme, en breve te devuelvo follow :) #TuitUtil https://t.co/VYdqB66Wcy'],\n",
       "       ['4093649603',\n",
       "        '@Cmilaadark Gracias por seguirme, en breve te devuelvo follow :) #TuitUtil https://t.co/VYdqB66Wcy'],\n",
       "       ['4093649603',\n",
       "        '@reusccp Gracias por seguirme, en breve te devuelvo follow :) #TuitUtil https://t.co/VYdqB66Wcy'],\n",
       "       ['4093649603',\n",
       "        '@godisperry Gracias por seguirme, en breve te devuelvo follow :) #TuitUtil https://t.co/VYdqB66Wcy'],\n",
       "       ['4093649603',\n",
       "        '@lmpristin Gracias por seguirme, en breve te devuelvo follow :) #TuitUtil https://t.co/VYdqB66Wcy'],\n",
       "       ['4093649603',\n",
       "        '@sapatoniana Gracias por seguirme, en breve te devuelvo follow :) #TuitUtil https://t.co/VYdqB66Wcy'],\n",
       "       ['4093649603',\n",
       "        '@jessicastylesm Gracias por seguirme, en breve te devuelvo follow :) #TuitUtil https://t.co/VYdqB66Wcy'],\n",
       "       ['4093649603',\n",
       "        '@JosLuizvaz1 Gracias por seguirme, en breve te devuelvo follow :) #TuitUtil https://t.co/VYdqB66Wcy'],\n",
       "       ['4093649603',\n",
       "        '@suchstupid Gracias por seguirme, en breve te devuelvo follow :) #TuitUtil https://t.co/VYdqB66Wcy'],\n",
       "       ['4093649603',\n",
       "        '@evolvdragons Gracias por seguirme, en breve te devuelvo follow :) #TuitUtil https://t.co/VYdqB66Wcy'],\n",
       "       ['4093649603',\n",
       "        '@leextyong Gracias por seguirme, en breve te devuelvo follow :) #TuitUtil https://t.co/VYdqB66Wcy'],\n",
       "       ['4093649603',\n",
       "        '@dobresdelena Gracias por seguirme, en breve te devuelvo follow :) #TuitUtil https://t.co/VYdqB66Wcy'],\n",
       "       ['4093649603',\n",
       "        '@isstonecold Gracias por seguirme, en breve te devuelvo follow :) #TuitUtil https://t.co/VYdqB66Wcy'],\n",
       "       ['4093649603',\n",
       "        '@lilyyycrf Gracias por seguirme, en breve te devuelvo follow :) #TuitUtil https://t.co/VYdqB66Wcy'],\n",
       "       ['4093649603',\n",
       "        '@loviechaerin Gracias por seguirme, en breve te devuelvo follow :) #TuitUtil https://t.co/VYdqB66Wcy'],\n",
       "       ['4093649603',\n",
       "        '@taetaearmy16 Gracias por seguirme, en breve te devuelvo follow :) #TuitUtil https://t.co/VYdqB66Wcy'],\n",
       "       ['4093649603',\n",
       "        'Nuevos seguidores: 17, unfollowers: 1 (16:10) #TuitUtil https://t.co/VYdqB66Wcy'],\n",
       "       ['4093649603',\n",
       "        'Nuevos seguidores: 63, unfollowers: 2 (06:15) #TuitUtil https://t.co/VYdqB66Wcy'],\n",
       "       ['3751146792',\n",
       "        'No me han retwitteado ningún Tweet [últimas 24h] #TuitUtil https://t.co/k5Q65xBPFz'],\n",
       "       ['3751146792',\n",
       "        'Nuevos seguidores: 1, unfollowers: 0 (10:01) #TuitUtil https://t.co/k5Q65xBPFz'],\n",
       "       ['3751146792',\n",
       "        '1 Tweet publicado [últimas 24h] #TuitUtil https://t.co/k5Q65xBPFz'],\n",
       "       ['3751146792',\n",
       "        'No me han retwitteado ningún Tweet [últimas 24h] #TuitUtil https://t.co/k5Q65xBPFz'],\n",
       "       ['4093649603',\n",
       "        '@laurthenbhd Gracias por seguirme, en breve te devuelvo follow :) #TuitUtil https://t.co/VYdqB66Wcy'],\n",
       "       ['4093649603',\n",
       "        '@ollgxconfident Gracias por seguirme, en breve te devuelvo follow :) #TuitUtil https://t.co/VYdqB66Wcy'],\n",
       "       ['4093649603',\n",
       "        '@DarknetResearch Gracias por seguirme, en breve te devuelvo follow :) #TuitUtil https://t.co/VYdqB66Wcy'],\n",
       "       ['4093649603',\n",
       "        '@Iammoremylrds Gracias por seguirme, en breve te devuelvo follow :) #TuitUtil https://t.co/VYdqB66Wcy'],\n",
       "       ['4093649603',\n",
       "        '@Mcabeyoslay Gracias por seguirme, en breve te devuelvo follow :) #TuitUtil https://t.co/VYdqB66Wcy'],\n",
       "       ['4093649603',\n",
       "        'Nuevos seguidores: 5, unfollowers: 5 (02:00) #TuitUtil https://t.co/VYdqB66Wcy'],\n",
       "       ['4093649603',\n",
       "        '@TimCoronel Gracias por seguirme, en breve te devuelvo follow :) #TuitUtil https://t.co/VYdqB66Wcy'],\n",
       "       ['4093649603',\n",
       "        '@_boohazzx Gracias por seguirme, en breve te devuelvo follow :) #TuitUtil https://t.co/VYdqB66Wcy'],\n",
       "       ['4093649603',\n",
       "        '@barcxIona Gracias por seguirme, en breve te devuelvo follow :) #TuitUtil https://t.co/VYdqB66Wcy'],\n",
       "       ['4093649603',\n",
       "        'Nuevos seguidores: 3, unfollowers: 3 (16:10) #TuitUtil https://t.co/VYdqB66Wcy'],\n",
       "       ['4093649603',\n",
       "        'Nuevos seguidores: 21, unfollowers: 6 (06:22) #TuitUtil https://t.co/VYdqB66Wcy'],\n",
       "       ['3751146792',\n",
       "        'No me han retwitteado ningún Tweet [últimas 24h] #TuitUtil https://t.co/k5Q65xBPFz'],\n",
       "       ['3751146792',\n",
       "        '1 Tweet publicado [últimas 24h] #TuitUtil https://t.co/k5Q65xBPFz'],\n",
       "       ['3751146792',\n",
       "        'No me han retwitteado ningún Tweet [últimas 24h] #TuitUtil https://t.co/k5Q65xBPFz'],\n",
       "       ['299816367',\n",
       "        'Nuevos seguidores: 0, unfollowers: 3 (02:00) #TuitUtil https://t.co/Q8CVZxHK70'],\n",
       "       ['299816367',\n",
       "        'A ver niños, hoy toca clase de democracia española:\\n\\n- Poner lazos o cruces amarillas en la calle: Terrorismo d violentos antisistema.\\n\\n- Pegar puñetazos o embestir con coches cruces en la calle: Muestra de respeto y tolerancia democrática\\n\\nOs queda claro?\\nPues ala, #FelizDomingo'],\n",
       "       ['299816367',\n",
       "        '@pennylanebcn Bienvenidx al mundo de los locos :) #TuitUtil https://t.co/Q8CVZxHK70'],\n",
       "       ['299816367',\n",
       "        '@TimeJustOficial Bienvenidx al mundo de los locos :) #TuitUtil https://t.co/Q8CVZxHK70'],\n",
       "       ['299816367',\n",
       "        '@P_Alcantarilla Bienvenidx al mundo de los locos :) #TuitUtil https://t.co/Q8CVZxHK70'],\n",
       "       ['299816367',\n",
       "        '@DayraRivasR Bienvenidx al mundo de los locos :) #TuitUtil https://t.co/Q8CVZxHK70'],\n",
       "       ['299816367',\n",
       "        'Nuevos seguidores: 4, unfollowers: 1 (16:10) #TuitUtil https://t.co/Q8CVZxHK70'],\n",
       "       ['299816367',\n",
       "        'Claro que Pablo Casado cumple los principales requisitos para liderar el PP ...\\n\\n#FelizDomingo https://t.co/xAcjOaxSO2'],\n",
       "       ['299816367',\n",
       "        'Volver a la ley del aborto de 1985.\\nCombatir la ideología de género. \\nMantener la LOMCE.\\nhttps://t.co/xeUFzkxUvY\\nPablo Casado y el PP os desean un feliz siglo XIX.\\n#FelizDomingo'],\n",
       "       ['299816367',\n",
       "        '@amperflo Bienvenidx al mundo de los locos :) #TuitUtil https://t.co/Q8CVZxHK70'],\n",
       "       ['299816367',\n",
       "        '@PodemitaXL Bienvenidx al mundo de los locos :) #TuitUtil https://t.co/Q8CVZxHK70'],\n",
       "       ['299816367',\n",
       "        '@Billin_ES Bienvenidx al mundo de los locos :) #TuitUtil https://t.co/Q8CVZxHK70'],\n",
       "       ['299816367',\n",
       "        'Nuevos seguidores: 3, unfollowers: 0 (06:21) #TuitUtil https://t.co/Q8CVZxHK70'],\n",
       "       ['3751146792',\n",
       "        'No me han retwitteado ningún Tweet [últimas 24h] #TuitUtil https://t.co/k5Q65xBPFz'],\n",
       "       ['3751146792',\n",
       "        'Nuevos seguidores: 0, unfollowers: 1 (04:22) #TuitUtil https://t.co/k5Q65xBPFz'],\n",
       "       ['3751146792',\n",
       "        'No me han retwitteado ningún Tweet [últimas 24h] #TuitUtil https://t.co/k5Q65xBPFz'],\n",
       "       ['3751146792',\n",
       "        '1 Tweet publicado [últimas 24h] #TuitUtil https://t.co/k5Q65xBPFz'],\n",
       "       ['3751146792',\n",
       "        'No me han retwitteado ningún Tweet [últimas 24h] #TuitUtil https://t.co/k5Q65xBPFz'],\n",
       "       ['3081412636',\n",
       "        '@mlth_ Gracias por seguirme, en breve te sigo #TuitUtil https://t.co/H4Frim5JUo'],\n",
       "       ['3081412636',\n",
       "        'Nuevos seguidores: 1, unfollowers: 0 (02:00) #TuitUtil https://t.co/H4Frim5JUo'],\n",
       "       ['3081412636',\n",
       "        '6 Tweets publicados (3 menciones) [últimas 24h] #TuitUtil https://t.co/H4Frim5JUo'],\n",
       "       ['3081412636',\n",
       "        'No me han retwitteado ningún Tweet [últimas 24h] #TuitUtil https://t.co/H4Frim5JUo'],\n",
       "       ['3081412636',\n",
       "        '@al_raes__ Gracias por seguirme, en breve te sigo #TuitUtil https://t.co/H4Frim5JUo'],\n",
       "       ['3081412636',\n",
       "        'Nuevos seguidores: 1, unfollowers: 0 (16:04) #TuitUtil https://t.co/H4Frim5JUo'],\n",
       "       ['3081412636',\n",
       "        '@Anaty99 Gracias por seguirme, en breve te sigo #TuitUtil https://t.co/H4Frim5JUo'],\n",
       "       ['3081412636',\n",
       "        '@ab_od Gracias por seguirme, en breve te sigo #TuitUtil https://t.co/H4Frim5JUo'],\n",
       "       ['3081412636',\n",
       "        'Nuevos seguidores: 2, unfollowers: 2 (06:07) #TuitUtil https://t.co/H4Frim5JUo'],\n",
       "       ['3751146792',\n",
       "        'No me han retwitteado ningún Tweet [últimas 24h] #TuitUtil https://t.co/k5Q65xBPFz'],\n",
       "       ['3751146792',\n",
       "        '1 Tweet publicado [últimas 24h] #TuitUtil https://t.co/k5Q65xBPFz'],\n",
       "       ['3751146792',\n",
       "        'No me han retwitteado ningún Tweet [últimas 24h] #TuitUtil https://t.co/k5Q65xBPFz'],\n",
       "       ['3751146792',\n",
       "        'No me han retwitteado ningún Tweet [últimas 24h] #TuitUtil https://t.co/k5Q65xBPFz'],\n",
       "       ['3751146792',\n",
       "        '1 Tweet publicado [últimas 24h] #TuitUtil https://t.co/k5Q65xBPFz'],\n",
       "       ['3751146792',\n",
       "        'No me han retwitteado ningún Tweet [últimas 24h] #TuitUtil https://t.co/k5Q65xBPFz'],\n",
       "       ['3751146792',\n",
       "        'No me han retwitteado ningún Tweet [últimas 24h] #TuitUtil https://t.co/k5Q65xBPFz'],\n",
       "       ['144942956',\n",
       "        'Amig@s hoy vi un cartel que decía: “¿Usted ha visto este perrito?” con foto y un número de teléfono, ¿Y qué hice?, bueno pues llamé y les dije que no\\n\\n#JuevesDeGanarSeguidores'],\n",
       "       ['144942956',\n",
       "        'El Bacardi blanco sólo sirve para desparacitar animales, es por eso que un chingo de gente lo toma en fin de semana\\n\\n#JuevesDeGanarSeguidores'],\n",
       "       ['144942956',\n",
       "        'A veces me hago creer a mi mismo que se me bajo la presión para ir a comprar una Coca-Cola o un Gansito, porque los gorditos somos mañosos\\n\\n#JuevesDeGanarSeguidores'],\n",
       "       ['144942956',\n",
       "        '—Abuelo, ¿cómo te gustaría que te enterremos? \\n—De ser posible, muerto. Porque los conozco, hijos de la chingada\\n\\n#FelizJueves \\n#JuevesDeGanarSeguidores'],\n",
       "       ['144942956',\n",
       "        '¿Ya habrá despertado la que me gusta?\\n\\n#FelizJueves \\n#JuevesDeGanarSeguidores'],\n",
       "       ['144942956',\n",
       "        '¿Cómo empezamos a codiciar?\\n¿Por qué vemos cosas que podemos codiciar?\\nEmpezamos a codiciar lo que vemos cada día, simple naturaleza de principios básicos\\n\\n#FelizJueves \\n#JuevesDeGanarSeguidores'],\n",
       "       ['144942956',\n",
       "        'La última vez que amanecí con dos mujeres fue cuando me enfermé y  mi mamá se quedó dormida mientras mi abuelita me cuidaba\\n\\n#FelizJueves \\n#JuevesDeGanarSeguidores'],\n",
       "       ['144942956',\n",
       "        'Basta de cosas a medias. Eres o no eres, quieres o no quieres, te interesa o no te interesa, te quedas o te vas\\n\\nAsí de pinches sencillo, sepanlo!!\\n\\n#MiercolesDeGanarSeguidores'],\n",
       "       ['144942956',\n",
       "        'Esos que dicen que lo más difícil en la vida es olvidar a alguien, seguro nunca han intentado deshebrar un queso Oaxaca sin comer un pedazo\\n\\n#MiercolesDeGanarSeguidores'],\n",
       "       ['144942956',\n",
       "        'Si abrazas a tu novia por detrás y no mueve el culo como perrito y con sonrisa perversa. No te ama\\n\\nEs más , esa mujer desea tu muerte\\n\\n#MiercolesDeGanarSeguidores'],\n",
       "       ['144942956',\n",
       "        'Les voy a revelar un secreto, si no se encuentra entre signos de interrogación, no es pregunta\\n\\n#MiercolesDeGanarSeguidores'],\n",
       "       ['144942956',\n",
       "        'Miércoles con “M” de: Miénteme como siempre, por favor miénteme, necesito creerte, convénceme\\n\\n#MiercolesDeGanarSeguidores'],\n",
       "       ['3751146792',\n",
       "        '1 Tweet publicado [últimas 24h] #TuitUtil https://t.co/k5Q65xBPFz'],\n",
       "       ['3751146792',\n",
       "        'No me han retwitteado ningún Tweet [últimas 24h] #TuitUtil https://t.co/k5Q65xBPFz'],\n",
       "       ['3751146792',\n",
       "        'No me han retwitteado ningún Tweet [últimas 24h] #TuitUtil https://t.co/k5Q65xBPFz'],\n",
       "       ['3751146792',\n",
       "        'No me han retwitteado ningún Tweet [últimas 24h] #TuitUtil https://t.co/k5Q65xBPFz'],\n",
       "       ['101859562', '#FF @BrainTumourOrg'],\n",
       "       ['101859562', '#FF @HeartswellSW'],\n",
       "       ['101859562', '#FF @connect4cancer'],\n",
       "       ['101859562', '#FF @4QCancer'],\n",
       "       ['101859562', '#FF @StandUp2C'],\n",
       "       ['101859562', '#FF @NHSVoices'],\n",
       "       ['101859562', '#FF @NHSMillion'],\n",
       "       ['101859562', '#FF @StandWithNHS'],\n",
       "       ['101859562', '#FF @NWDogRescue'],\n",
       "       ['101859562', '#FF @AndyFutter'],\n",
       "       ['101859562', '#FF @jakebirnie1'],\n",
       "       ['101859562', '#FF @ScottJKyle1'],\n",
       "       ['101859562', '#FF @CallahanMusic_'],\n",
       "       ['101859562', '#FF @ChrisEdgerley'],\n",
       "       ['101859562', '#FF @RWLETLOOSEONART'],\n",
       "       ['101859562', '#FF @AdamGlover'],\n",
       "       ['101859562', '#FF @fionabevan'],\n",
       "       ['101859562', '#FF @markezawomble'],\n",
       "       ['101859562', '#FF @IanBroughall Have a great Weekend x'],\n",
       "       ['101859562', '#FF @VintageTV'],\n",
       "       ['101859562', '#FF @_SarahDarling'],\n",
       "       ['101859562', '#FF @joshjamesworld'],\n",
       "       ['101859562', '#FF @KnittingWitchUK'],\n",
       "       ['101859562', '#FF @KatieMarshall__'],\n",
       "       ['101859562', '#FF @Vicki1Louise'],\n",
       "       ['101859562', '#FF @1CharlieBotting'],\n",
       "       ['101859562', '#FF @scarlettqmusic'],\n",
       "       ['101859562', '#FF @Kevin_Healey'],\n",
       "       ['101859562', '#FF @official_vivace'],\n",
       "       ['101859562', '#FF @ErinFisherMusic'],\n",
       "       ['101859562', '#FF @ViVAtrio'],\n",
       "       ['101859562', '#FF @findcorrie'],\n",
       "       ['101859562', '#FF @andrew_gosden'],\n",
       "       ['101859562', '#FF @findbengreek'],\n",
       "       ['101859562', '#FF @FindBenNeedham'],\n",
       "       ['101859562', '#FF @CoolBlindTech'],\n",
       "       ['101859562', '#FF @MuirMaxwell'],\n",
       "       ['101859562', '#FF @Cigleris'],\n",
       "       ['101859562', '#FF @maryjessmusic'],\n",
       "       ['101859562', '#FF @maestrostefano'],\n",
       "       ['101859562', '#FF @acs1945'],\n",
       "       ['101859562', '#FF @DVLCCharity'],\n",
       "       ['101859562', '#FF @AnthonyLazaro_'],\n",
       "       ['101859562', '#FF @RealScottMaslen'],\n",
       "       ['101859562', '#FF @GianlucaMusic'],\n",
       "       ['101859562', '#FF @ChesneyHawkes'],\n",
       "       ['101859562', '#FF @MelanieMasson1'],\n",
       "       ['101859562', '#FF @telenrodwell'],\n",
       "       ['101859562', '#FF @COINSFoundation'],\n",
       "       ['101859562', '#FF @MIKEWARDUK'],\n",
       "       ['101859562', '#FF @shawneemusic'],\n",
       "       ['101859562', '#FF @MichaelBucher'],\n",
       "       ['101859562', '#FF @YurokGuy'],\n",
       "       ['101859562', '#FF @DelSchilling'],\n",
       "       ['101859562', '#FF @VinceSchilling'],\n",
       "       ['101859562', '#FF @Nativetrailblaz'],\n",
       "       ['101859562', '#FF @LaddsDeanSBS'],\n",
       "       ['101859562', '#FF @KSMpromotions'],\n",
       "       ['101859562', '#FF @JorgeWilsonSBS'],\n",
       "       ['101859562', '#FF @JackJesusBlack'],\n",
       "       ['101859562', '#FF @JoshSBS'],\n",
       "       ['101859562', '#FF @jonnyeakins'],\n",
       "       ['101859562', '#FF @SingleBySunday'],\n",
       "       ['101859562', '#FF @GabeLustman'],\n",
       "       ['101859562', '#FF @brian_larsen'],\n",
       "       ['101859562', '#FF @cowelltweets'],\n",
       "       ['101859562', '#FF @kashhovey'],\n",
       "       ['101859562', '#FF @RayJorden'],\n",
       "       ['101859562', '#FF @Scouting4Girls'],\n",
       "       ['101859562', '#FF @Loverdesart'],\n",
       "       ['101859562', '#FF @NancySinatra'],\n",
       "       ['101859562', '#FF @_stephensims'],\n",
       "       ['101859562', '#FF @SeaininBrennan'],\n",
       "       ['101859562', '#FF @DaleRobertsDR'],\n",
       "       ['101859562', '#FF @eliistender10'],\n",
       "       ['101859562', '#FF @thelawns'],\n",
       "       ['101859562', '#FF @clare_cowling'],\n",
       "       ['101859562',\n",
       "        '#FF @johnnycowling Amazing Entertainer host with holly Day @piratefm'],\n",
       "       ['101859562', '#FF @piratefm'],\n",
       "       ['101859562', '#FF @Offwheatentrack'],\n",
       "       ['101859562', '#FF @hmhadfield40'],\n",
       "       ['101859562', '#FF @Bentonbros'],\n",
       "       ['101859562', '#FF @RussellGrantcom'],\n",
       "       ['101859562', '#FF @THERussellGrant'],\n",
       "       ['101859562', '#FF @Quick_Fanonice'],\n",
       "       ['101859562', '#FF @JakeQuickenden'],\n",
       "       ['101859562', '#FF @Leafalcus'],\n",
       "       ['1648856220',\n",
       "        'No me han retwitteado ningún Tweet [últimas 24h] #TuitUtil https://t.co/BnEkkYaeSJ'],\n",
       "       ['1648856220',\n",
       "        'Nuevos seguidores: 2, unfollowers: 0 (01:04) #TuitUtil https://t.co/BnEkkYaeSJ'],\n",
       "       ['1648856220',\n",
       "        'Nuevos seguidores: 1, unfollowers: 0 (14:58) #TuitUtil https://t.co/BnEkkYaeSJ'],\n",
       "       ['1648856220',\n",
       "        '3 Tweets publicados (1 mención) [últimas 24h] #TuitUtil https://t.co/BnEkkYaeSJ'],\n",
       "       ['1648856220',\n",
       "        'No me han retwitteado ningún Tweet [últimas 24h] #TuitUtil https://t.co/BnEkkYaeSJ'],\n",
       "       ['3751146792',\n",
       "        'No me han retwitteado ningún Tweet [últimas 24h] #TuitUtil https://t.co/k5Q65xBPFz'],\n",
       "       ['1648856220',\n",
       "        'No me han retwitteado ningún Tweet [últimas 24h] #TuitUtil https://t.co/BnEkkYaeSJ'],\n",
       "       ['1648856220',\n",
       "        'Nuevos seguidores: 0, unfollowers: 52 (01:38) #TuitUtil https://t.co/BnEkkYaeSJ'],\n",
       "       ['1648856220',\n",
       "        'Nuevos seguidores: 0, unfollowers: 1 (15:27) #TuitUtil https://t.co/BnEkkYaeSJ'],\n",
       "       ['4764662258',\n",
       "        '@PatricioMarcel5 Grazie mille por seguirme, en breve te devuelvo follow :) #TuitUtil https://t.co/g9TaiDdUro'],\n",
       "       ['4764662258',\n",
       "        '@dani_guti17 Grazie mille por seguirme, en breve te devuelvo follow :) #TuitUtil https://t.co/g9TaiDdUro'],\n",
       "       ['4764662258',\n",
       "        '@zambranojuan307 Grazie mille por seguirme, en breve te devuelvo follow :) #TuitUtil https://t.co/g9TaiDdUro'],\n",
       "       ['4764662258',\n",
       "        '@PeraltaEze5 Grazie mille por seguirme, en breve te devuelvo follow :) #TuitUtil https://t.co/g9TaiDdUro'],\n",
       "       ['4764662258',\n",
       "        '@QuinterosPablo5 Grazie mille por seguirme, en breve te devuelvo follow :) #TuitUtil https://t.co/g9TaiDdUro'],\n",
       "       ['4764662258',\n",
       "        '@JaviGalinnz Grazie mille por seguirme, en breve te devuelvo follow :) #TuitUtil https://t.co/g9TaiDdUro'],\n",
       "       ['4764662258',\n",
       "        '@Suarez16Ale Grazie mille por seguirme, en breve te devuelvo follow :) #TuitUtil https://t.co/g9TaiDdUro'],\n",
       "       ['4764662258',\n",
       "        'Nuevos seguidores: 7, unfollowers: 4 (02:00) #TuitUtil https://t.co/g9TaiDdUro'],\n",
       "       ['4764662258',\n",
       "        '@pitbullsaviour Grazie mille por seguirme, en breve te devuelvo follow :) #TuitUtil https://t.co/g9TaiDdUro'],\n",
       "       ['4764662258',\n",
       "        'Nuevos seguidores: 1, unfollowers: 2 (15:49) #TuitUtil https://t.co/g9TaiDdUro'],\n",
       "       ['4764662258',\n",
       "        '@ManuCeballos11 Grazie mille por seguirme, en breve te devuelvo follow :) #TuitUtil https://t.co/g9TaiDdUro'],\n",
       "       ['4764662258',\n",
       "        '@juanjocarrizoo1 Grazie mille por seguirme, en breve te devuelvo follow :) #TuitUtil https://t.co/g9TaiDdUro'],\n",
       "       ['4764662258',\n",
       "        '@DiegoHoracio7 Grazie mille por seguirme, en breve te devuelvo follow :) #TuitUtil https://t.co/g9TaiDdUro'],\n",
       "       ['4764662258',\n",
       "        '@JorgeMillor Grazie mille por seguirme, en breve te devuelvo follow :) #TuitUtil https://t.co/g9TaiDdUro'],\n",
       "       ['4764662258',\n",
       "        '@MartinAguero123 Grazie mille por seguirme, en breve te devuelvo follow :) #TuitUtil https://t.co/g9TaiDdUro'],\n",
       "       ['4764662258',\n",
       "        '@MauroDivicenzo Grazie mille por seguirme, en breve te devuelvo follow :) #TuitUtil https://t.co/g9TaiDdUro'],\n",
       "       ['4764662258',\n",
       "        '@DamianFerroz Grazie mille por seguirme, en breve te devuelvo follow :) #TuitUtil https://t.co/g9TaiDdUro'],\n",
       "       ['4764662258',\n",
       "        '@adriamamani Grazie mille por seguirme, en breve te devuelvo follow :) #TuitUtil https://t.co/g9TaiDdUro'],\n",
       "       ['4764662258',\n",
       "        '@angieeromero Grazie mille por seguirme, en breve te devuelvo follow :) #TuitUtil https://t.co/g9TaiDdUro'],\n",
       "       ['4764662258',\n",
       "        '@CastroTania_ Grazie mille por seguirme, en breve te devuelvo follow :) #TuitUtil https://t.co/g9TaiDdUro'],\n",
       "       ['4764662258',\n",
       "        '@marcosparedeso1 Grazie mille por seguirme, en breve te devuelvo follow :) #TuitUtil https://t.co/g9TaiDdUro'],\n",
       "       ['4764662258',\n",
       "        '@felipe_perez13 Grazie mille por seguirme, en breve te devuelvo follow :) #TuitUtil https://t.co/g9TaiDdUro'],\n",
       "       ['4764662258',\n",
       "        'Nuevos seguidores: 12, unfollowers: 2 (05:40) #TuitUtil https://t.co/g9TaiDdUro'],\n",
       "       ['1648856220',\n",
       "        '1 Tweet publicado [últimas 24h] #TuitUtil https://t.co/BnEkkYaeSJ'],\n",
       "       ['1648856220',\n",
       "        'No me han retwitteado ningún Tweet [últimas 24h] #TuitUtil https://t.co/BnEkkYaeSJ'],\n",
       "       ['1648856220',\n",
       "        'Nuevos seguidores: 0, unfollowers: 1 (11:50) #TuitUtil https://t.co/BnEkkYaeSJ'],\n",
       "       ['1648856220',\n",
       "        '1 Tweet publicado [últimas 24h] #TuitUtil https://t.co/BnEkkYaeSJ'],\n",
       "       ['1648856220',\n",
       "        'No me han retwitteado ningún Tweet [últimas 24h] #TuitUtil https://t.co/BnEkkYaeSJ'],\n",
       "       ['1648856220',\n",
       "        'Nuevos seguidores: 0, unfollowers: 2 (00:12) #TuitUtil https://t.co/BnEkkYaeSJ'],\n",
       "       ['1648856220',\n",
       "        'No me han retwitteado ningún Tweet [últimas 24h] #TuitUtil https://t.co/BnEkkYaeSJ'],\n",
       "       ['3751146792',\n",
       "        'No me han retwitteado ningún Tweet [últimas 24h] #TuitUtil https://t.co/k5Q65xBPFz'],\n",
       "       ['1648856220',\n",
       "        'No me han retwitteado ningún Tweet [últimas 24h] #TuitUtil https://t.co/BnEkkYaeSJ'],\n",
       "       ['3751146792',\n",
       "        'No me han retwitteado ningún Tweet [últimas 24h] #TuitUtil https://t.co/k5Q65xBPFz'],\n",
       "       ['1648856220',\n",
       "        'No me han retwitteado ningún Tweet [últimas 24h] #TuitUtil https://t.co/BnEkkXSDu9'],\n",
       "       ['1648856220',\n",
       "        '1 Tweet publicado [últimas 24h] #TuitUtil https://t.co/BnEkkYaeSJ'],\n",
       "       ['1648856220',\n",
       "        'Mi Tweet más retwitteado https://t.co/ao2nXCTTEo 2 RTs [últimas 24h] #TuitUtil https://t.co/BnEkkYaeSJ'],\n",
       "       ['1648856220',\n",
       "        '1 Tweets retwitteados y un total de 2 RTs [últimas 24h] #TuitUtil https://t.co/BnEkkYaeSJ'],\n",
       "       ['66378295',\n",
       "        '#FF @DestinysMusic @OliviaKingMusic @MarissaAnnMusic @JulietteReilly_ @KikiIreland @thatgurlnella @sammi_murciano @KaitlynOliveira @TianaOliver77 @OliviaThai @MsRebeccaBlack @_CarolinaMaria_ @A_Guercio @MiraBluesMusic @caitlincaporale @charlotte_zone @ranjiniofficial'],\n",
       "       ['66378295',\n",
       "        '#FF @DianeClaymore @paigelknowles @KatiieMcCarthy @Bridgettetosh27 @itsmelaurrmarie @yagirlCloud @BeautifulLuvfly @Onesolitarytear @laur_and_orderr @Alexandra6Jaime @Honey__Gal @dollycecola @TheTaraErickson @emilydao_ @edrgirly2 @JoySparkleBS'],\n",
       "       ['66378295',\n",
       "        '#FF @LainieLoveee @toridiazzz @uniquelymarina @katiexxmichelle @AngelaBelcamino @BrattyCupcakes @XxChloe_Brown @Morenamonami @ChrisTheOne_ @jessieyellsroar @aleeder @MissWildLaura @BitchIAmFelicia @MommmaLiz @Destini29_ @illuminatedsam @tamaraxoxxo'],\n",
       "       ['66378295',\n",
       "        '#FF @WickedYummy1 @TheMercedesXXX @MissCelesteStar @CarterCruise @thekiranoir @KrissyLynnxxx @ChastityLynnxxx @thekatiemorgan @Jassie_James @NicoleOring @1daisymarie @Erika4Jordan @jacquiholland @AriellaFerrera @C_RDPA @MsSarahHunter @char_stokely @PepperKester @LoveMiaLi'],\n",
       "       ['66378295',\n",
       "        '#FF @MsAbigailMac @Romi_Rain @NikkiDelano @sunnylane @MiaMalkova @missvanessacage @PerriPiper @EvaNotty @ZoeyPortlandXXX @mckenzieleexx @KagneyNecessary @AlyssaLynnxxx @claudiavalentin @marica_1029 @michellemaylene @michellelay69 @KaylaniLive @CharmaneStar @Abella_Danger'],\n",
       "       ['66378295',\n",
       "        '#FF @NCrystean @blairsbananas @karleegreyxxx @PennyPax @littlekeish @kyleenash @PristineEdgexxx @Reya__Sunshine @HarleyLaVey @AkiraLane @Alexis_Texas @TheJasmineByrne @SaraJayXXX @AJsApplebooty @Edyn_Blair @lenatheplug @mariahmilanoxxx @KellyDivine @MarieLuv @KaylaPaigeX'],\n",
       "       ['66378295',\n",
       "        '#FF to @BellaBarbaro @KaelinSkylar  @RationMinds78 @JingleBeau4'],\n",
       "       ['66378295',\n",
       "        '#FF @katykissthis @mercedesashley @realmarycarey @caseycalvertxxx @CindyStarfall @MayaDivineXXX @SammyRyRy @ravenalexxxis @OMGitsLexi @iamspanishdoll @jennajameson @nikki_nova @VeronicaAvluvXX @RavenBayxxx @YouknowRilynn @BriBrooksxxx @misstoriblack @JazyBerlin'],\n",
       "       ['66378295',\n",
       "        '#FF @Natalie_VH1 @Miss_Sarah_Lyn @passionfruit313 @whatupjend @noellegiorgi @michpieroway @ashleytay_VH1 @ashleyfonda @NicoleMarieDN3 @thatweewee @tabron27 @DeeStacyVee @JaclynEaston @small_squeeze @stephyqutmiera @kris10w1 @Michelle_VH1'],\n",
       "       ['66378295',\n",
       "        '#FF @michellebetts @MissJei38 @CLAUDIALOPEZTV @TheonlyAvonte @leilanidowding @BrigetteVH1 @ChasitySoules'],\n",
       "       ['66378295',\n",
       "        '#FF MJFam &amp; JacksonsFam @rowenacraig2 @allyjayhx @JaXonScruse @MissPuraPan @Jazz53_ @Lajodic95 @PAMsLOvE @ilovemj93 @Jeremy_Horn @daprofessor50 @ThrillerBaby @Kristy_PinkStar @iammyself01 @PirateBL_R @EatenAlive58 @BabyDJSmiley @MICHAELBIRTHDAY'],\n",
       "       ['66378295',\n",
       "        '#FF MJFam &amp; JacksonsFam @MJisKingofDance @Teresa_MJ @MJ_IsLegendary @Mjs8958 @I_AmGodsBlessed @NindyHunt @JaneColes2 @mimimjfan @serita1976 @Dancing_SmiLey @PJ4MJJ @Randygirl4life @Jack5onWarriors @MoonChildNova @AussieRIZZette @karin_eff @JacksonsRadio @FrKJaCkSoN'],\n",
       "       ['1648856220',\n",
       "        'No me han retwitteado ningún Tweet [últimas 24h] #TuitUtil https://t.co/BnEkkYaeSJ'],\n",
       "       ['1648856220',\n",
       "        'Nuevos seguidores: 0, unfollowers: 1 (21:23) #TuitUtil https://t.co/BnEkkYaeSJ'],\n",
       "       ['1648856220',\n",
       "        'Nuevos seguidores: 0, unfollowers: 1 (11:24) #TuitUtil https://t.co/BnEkkYaeSJ'],\n",
       "       ['56766671',\n",
       "        '@ithomegoal Gracias por seguirme, en breve te devuelvo follow :) #TuitUtil https://t.co/4etTnKluc4'],\n",
       "       ['56766671',\n",
       "        '@bo3zoz_10 Gracias por seguirme, en breve te devuelvo follow :) #TuitUtil https://t.co/4etTnKluc4'],\n",
       "       ['56766671',\n",
       "        'Nuevos seguidores: 2, unfollowers: 3 (02:00) #TuitUtil https://t.co/4etTnKluc4'],\n",
       "       ['56766671',\n",
       "        '@techristic Gracias por seguirme, en breve te devuelvo follow :) #TuitUtil https://t.co/4etTnKluc4'],\n",
       "       ['56766671',\n",
       "        '@promisefacts2 Gracias por seguirme, en breve te devuelvo follow :) #TuitUtil https://t.co/4etTnKluc4'],\n",
       "       ['56766671',\n",
       "        'Nuevos seguidores: 2, unfollowers: 0 (16:01) #TuitUtil https://t.co/4etTnKluc4'],\n",
       "       ['56766671',\n",
       "        '@SeptimoCritico Gracias por seguirme, en breve te devuelvo follow :) #TuitUtil https://t.co/4etTnKluc4'],\n",
       "       ['56766671',\n",
       "        '@Omganimaldog Gracias por seguirme, en breve te devuelvo follow :) #TuitUtil https://t.co/4etTnKluc4'],\n",
       "       ['56766671',\n",
       "        '@babies_worldd Gracias por seguirme, en breve te devuelvo follow :) #TuitUtil https://t.co/4etTnKluc4'],\n",
       "       ['56766671',\n",
       "        '@ExicitedG Gracias por seguirme, en breve te devuelvo follow :) #TuitUtil https://t.co/4etTnKluc4'],\n",
       "       ['56766671',\n",
       "        '@wasteinlove Gracias por seguirme, en breve te devuelvo follow :) #TuitUtil https://t.co/4etTnKluc4'],\n",
       "       ['56766671',\n",
       "        '@nasmdha Gracias por seguirme, en breve te devuelvo follow :) #TuitUtil https://t.co/4etTnKluc4'],\n",
       "       ['56766671',\n",
       "        '@itsanimalsvines Gracias por seguirme, en breve te devuelvo follow :) #TuitUtil https://t.co/4etTnKluc4'],\n",
       "       ['56766671',\n",
       "        '@MEeezm Gracias por seguirme, en breve te devuelvo follow :) #TuitUtil https://t.co/4etTnKluc4'],\n",
       "       ['56766671',\n",
       "        'Nuevos seguidores: 8, unfollowers: 2 (06:02) #TuitUtil https://t.co/4etTnKluc4'],\n",
       "       ['3067953167',\n",
       "        'Nuevos seguidores: 0, unfollowers: 1 (02:00) #TuitUtil https://t.co/duE8gXnAFv'],\n",
       "       ['3067953167',\n",
       "        'Nuevos seguidores: 2, unfollowers: 2 (16:03) #TuitUtil https://t.co/duE8gXnAFv'],\n",
       "       ['3067953167',\n",
       "        'Nuevos seguidores: 2, unfollowers: 1 (06:06) #TuitUtil https://t.co/duE8gXnAFv'],\n",
       "       ['3191313875',\n",
       "        '3 Tweets publicados (1 mención) [últimas 24h] #TuitUtil https://t.co/TDquSnHZJp'],\n",
       "       ['3191313875',\n",
       "        '@AlanZapata44 Gracias por seguirme, en breve te devuelvo follow :) #TuitUtil https://t.co/TDquSnHZJp'],\n",
       "       ['3191313875',\n",
       "        'Nuevos seguidores: 1, unfollowers: 0 (13:03) #TuitUtil https://t.co/TDquSnHZJp'],\n",
       "       ['3191313875',\n",
       "        'Nuevos seguidores: 0, unfollowers: 1 (03:05) #TuitUtil https://t.co/TDquSnHZJp'],\n",
       "       ['1648856220',\n",
       "        'No me han retwitteado ningún Tweet [últimas 24h] #TuitUtil https://t.co/BnEkkYaeSJ'],\n",
       "       ['1648856220',\n",
       "        'No me han retwitteado ningún Tweet [últimas 24h] #TuitUtil https://t.co/BnEkkYaeSJ'],\n",
       "       ['1648856220',\n",
       "        'Nuevos seguidores: 1, unfollowers: 0 (00:36) #TuitUtil https://t.co/BnEkkYaeSJ'],\n",
       "       ['1648856220',\n",
       "        'Nuevos seguidores: 1, unfollowers: 1 (04:38) #TuitUtil https://t.co/BnEkkYaeSJ'],\n",
       "       ['572261509',\n",
       "        '@x_wfd Gracias por seguirme, saludos desde mi bella Mardel #TuitUtil https://t.co/wYWWr9uCRi'],\n",
       "       ['572261509',\n",
       "        '@1factpedia Gracias por seguirme, saludos desde mi bella Mardel #TuitUtil https://t.co/wYWWr9uCRi'],\n",
       "       ['572261509',\n",
       "        '@2ov__ Gracias por seguirme, saludos desde mi bella Mardel #TuitUtil https://t.co/wYWWr9uCRi'],\n",
       "       ['572261509',\n",
       "        '@mnb_16 Gracias por seguirme, saludos desde mi bella Mardel #TuitUtil https://t.co/wYWWr9uCRi'],\n",
       "       ['572261509',\n",
       "        '@ALifeTipss Gracias por seguirme, saludos desde mi bella Mardel #TuitUtil https://t.co/wYWWr9uCRi'],\n",
       "       ['572261509',\n",
       "        '@bookmsgstext Gracias por seguirme, saludos desde mi bella Mardel #TuitUtil https://t.co/wYWWr9uCRi'],\n",
       "       ['572261509',\n",
       "        '@amazingworld666 Gracias por seguirme, saludos desde mi bella Mardel #TuitUtil https://t.co/wYWWr9uCRi'],\n",
       "       ['572261509',\n",
       "        '@PabloSDLC Gracias por seguirme, saludos desde mi bella Mardel #TuitUtil https://t.co/wYWWr9uCRi'],\n",
       "       ['572261509',\n",
       "        'Nuevos seguidores: 8, unfollowers: 7 (02:00) #TuitUtil https://t.co/wYWWr9uCRi'],\n",
       "       ['572261509',\n",
       "        '@MenoresNo Gracias por seguirme, saludos desde mi bella Mardel #TuitUtil https://t.co/wYWWr9uCRi'],\n",
       "       ['572261509',\n",
       "        '@2R__1 Gracias por seguirme, saludos desde mi bella Mardel #TuitUtil https://t.co/wYWWr9uCRi'],\n",
       "       ['572261509',\n",
       "        'Nuevos seguidores: 2, unfollowers: 9 (16:00) #TuitUtil https://t.co/wYWWr9uCRi'],\n",
       "       ['572261509',\n",
       "        '@55eeg Gracias por seguirme, saludos desde mi bella Mardel #TuitUtil https://t.co/wYWWr9uCRi'],\n",
       "       ['572261509',\n",
       "        '@x_wfd Gracias por seguirme, saludos desde mi bella Mardel #TuitUtil https://t.co/wYWWr9uCRi'],\n",
       "       ['572261509',\n",
       "        '@Queen__f9 Gracias por seguirme, saludos desde mi bella Mardel #TuitUtil https://t.co/wYWWr9uCRi'],\n",
       "       ['572261509',\n",
       "        '@ltsFoodporn_1 Gracias por seguirme, saludos desde mi bella Mardel #TuitUtil https://t.co/wYWWr9uCRi'],\n",
       "       ['572261509',\n",
       "        '@relation_ship05 Gracias por seguirme, saludos desde mi bella Mardel #TuitUtil https://t.co/wYWWr9uCRi'],\n",
       "       ['572261509',\n",
       "        'Nuevos seguidores: 5, unfollowers: 5 (06:00) #TuitUtil https://t.co/wYWWr9uCRi'],\n",
       "       ['327702307',\n",
       "        '@Magallanero965 Gracias por seguirme camarada,saludos revolucionario,la lucha sigue y venceremos! :) #TuitUtil https://t.co/CqIjOUsMYV'],\n",
       "       ['327702307',\n",
       "        '@ChavezLunaLlena Gracias por seguirme camarada,saludos revolucionario,la lucha sigue y venceremos! :) #TuitUtil https://t.co/CqIjOUsMYV'],\n",
       "       ['327702307',\n",
       "        '@agriurbanamo Gracias por seguirme camarada,saludos revolucionario,la lucha sigue y venceremos! :) #TuitUtil https://t.co/CqIjOUsMYV'],\n",
       "       ['327702307',\n",
       "        '@MUDFracasada Gracias por seguirme camarada,saludos revolucionario,la lucha sigue y venceremos! :) #TuitUtil https://t.co/CqIjOUsMYV'],\n",
       "       ['327702307',\n",
       "        '@jose65leal Gracias por seguirme camarada,saludos revolucionario,la lucha sigue y venceremos! :) #TuitUtil https://t.co/CqIjOUsMYV'],\n",
       "       ['327702307',\n",
       "        'Nuevos seguidores: 5, unfollowers: 0 (02:00) #TuitUtil https://t.co/CqIjOUsMYV'],\n",
       "       ['327702307',\n",
       "        '@RBDVzla Gracias por seguirme camarada,saludos revolucionario,la lucha sigue y venceremos! :) #TuitUtil https://t.co/CqIjOUsMYV'],\n",
       "       ['327702307',\n",
       "        'Nuevos seguidores: 1, unfollowers: 1 (16:00) #TuitUtil https://t.co/CqIjOUsMYV'],\n",
       "       ['327702307',\n",
       "        '@Magallanero965 Gracias por seguirme camarada,saludos revolucionario,la lucha sigue y venceremos! :) #TuitUtil https://t.co/CqIjOUsMYV'],\n",
       "       ['327702307',\n",
       "        '@Llamadaluz Gracias por seguirme camarada,saludos revolucionario,la lucha sigue y venceremos! :) #TuitUtil https://t.co/CqIjOUsMYV'],\n",
       "       ['327702307',\n",
       "        '@R2BURUNDANGA Gracias por seguirme camarada,saludos revolucionario,la lucha sigue y venceremos! :) #TuitUtil https://t.co/CqIjOUsMYV'],\n",
       "       ['327702307',\n",
       "        'Nuevos seguidores: 3, unfollowers: 2 (06:00) #TuitUtil https://t.co/CqIjOUsMYV'],\n",
       "       ['3191313875',\n",
       "        '2 Tweets publicados (1 mención) [últimas 24h] #TuitUtil https://t.co/TDquSnHZJp'],\n",
       "       ['3191313875',\n",
       "        '@FrasesDukissj Gracias por seguirme, en breve te devuelvo follow :) #TuitUtil https://t.co/TDquSnHZJp'],\n",
       "       ['3191313875',\n",
       "        'Nuevos seguidores: 1, unfollowers: 0 (04:59) #TuitUtil https://t.co/TDquSnHZJp'],\n",
       "       ['757093226939506688',\n",
       "        'No me han retwitteado ningún Tweet [últimas 24h] #TuitUtil https://t.co/7Z90d6hnJB'],\n",
       "       ['757093226939506688',\n",
       "        'Nuevos seguidores: 0, unfollowers: 1 (02:17) #TuitUtil https://t.co/7Z90d6hnJB'],\n",
       "       ['757093226939506688',\n",
       "        'No me han retwitteado ningún Tweet [últimas 24h] #TuitUtil https://t.co/7Z90d6hnJB'],\n",
       "       ['1357210765',\n",
       "        'No me han retwitteado ningún Tweet [últimas 24h] #TuitUtil https://t.co/ygNtJKniXV'],\n",
       "       ['1357210765',\n",
       "        'Nuevos seguidores: 1, unfollowers: 1 (01:36) #TuitUtil https://t.co/ygNtJKniXV'],\n",
       "       ['1357210765',\n",
       "        'Nuevos seguidores: 1, unfollowers: 1 (05:42) #TuitUtil https://t.co/ygNtJKniXV'],\n",
       "       ['757093226939506688',\n",
       "        'No me han retwitteado ningún Tweet [últimas 24h] #TuitUtil https://t.co/7Z90d6hnJB'],\n",
       "       ['1357210765',\n",
       "        'No me han retwitteado ningún Tweet [últimas 24h] #TuitUtil https://t.co/ygNtJKniXV'],\n",
       "       ['1357210765',\n",
       "        'Nuevos seguidores: 2, unfollowers: 0 (17:36) #TuitUtil https://t.co/ygNtJKniXV'],\n",
       "       ['1357210765',\n",
       "        'Nuevos seguidores: 0, unfollowers: 1 (07:30) #TuitUtil https://t.co/ygNtJKniXV'],\n",
       "       ['3751146792',\n",
       "        'No me han retwitteado ningún Tweet [últimas 24h] #TuitUtil https://t.co/k5Q65xBPFz'],\n",
       "       ['3751146792',\n",
       "        'No me han retwitteado ningún Tweet [últimas 24h] #TuitUtil https://t.co/k5Q65xBPFz'],\n",
       "       ['3751146792',\n",
       "        'Nuevos seguidores: 1, unfollowers: 0 (03:07) #TuitUtil https://t.co/k5Q65xBPFz'],\n",
       "       ['2283776580',\n",
       "        '#Cuba Cuba: Otro apretón al cinto en el 2019 https://t.co/04t6sAJyGQ'],\n",
       "       ['2283776580',\n",
       "        '#Cuba El Gobierno lleva el acto por los 60 años de la revolución cubana ante la piedra de Fidel Castro https://t.co/rGuSeUqdz8'],\n",
       "       ['2283776580',\n",
       "        '#Cuba La Aduana registró 81 intentos de introducir drogas en Cuba en 2018 https://t.co/0eXFM6bSVS'],\n",
       "       ['2283776580',\n",
       "        \"#Cuba Un 'hacker' misterioso roba datos de 1.000 desertores norcoreanos en Corea del Sur https://t.co/iW05y3pZIp\"],\n",
       "       ['2283776580',\n",
       "        '#Cuba Las esperanzas se acaban para los cubanos varados en Trinidad y Tobago  https://t.co/wgwYjHdf9d'],\n",
       "       ['2283776580',\n",
       "        '#Cuba Estados Unidos y Brasil, por la libertad de Cuba, Venezuela y Nicaragua https://t.co/lnkhtthxdb'],\n",
       "       ['2283776580',\n",
       "        \"#Cuba 'Solo queremos protegernos del frío', cubanos en el éxodo en la frontera EEUU-México https://t.co/I9JRNQbc73\"],\n",
       "       ['2283776580',\n",
       "        '#Cuba Swift Air deja inaugurados vuelos chárter entre Miami y Varadero https://t.co/qbKa8xQH9e'],\n",
       "       ['2283776580',\n",
       "        '#Cuba Hay preguntas que incomodan https://t.co/987ZJ4YkYE'],\n",
       "       ['2283776580',\n",
       "        \"#Cuba El MINREX presenta como 'cifra récord' las 493.169 visitas de cubanoamericanos este año https://t.co/x4HtQFuLDx\"],\n",
       "       ['2283776580',\n",
       "        \"#Cuba La Habana tendrá que 'ajustarse el cinturón' por el deterioro de su situación financiera https://t.co/ZjAatBp5ku\"],\n",
       "       ['2283776580',\n",
       "        '#Cuba Venta de carne de cerdo provoca tumulto en Santa Clara https://t.co/tbDEZVjJ6E'],\n",
       "       ['2283776580',\n",
       "        '#Cuba Correr hacia el sol https://t.co/9VADywNzC8'],\n",
       "       ['2283776580',\n",
       "        '#Cuba El MINTUR reconoce que el turismo no cubre las expectativas en 2018 https://t.co/tK0o2WVQau'],\n",
       "       ['2283776580',\n",
       "        \"#Cuba Falleció Moncho, 'El gitano del bolero' https://t.co/Drx1vT2ufj\"],\n",
       "       ['2283776580',\n",
       "        '#Cuba Venezuela, el país más violento de América Latina https://t.co/pfMIl7b3qJ'],\n",
       "       ['2283776580',\n",
       "        '#Cuba Cinco paquetes de croqueta por persona: El racionamiento llega a MERCOMAR https://t.co/VHLKZ7TrfG'],\n",
       "       ['2283776580',\n",
       "        '#Cuba Apuntes de una Habana sensorial https://t.co/Um0Pc3YuCQ'],\n",
       "       ['2283776580',\n",
       "        '#Cuba Pompeo visitará Brasil y Colombia https://t.co/W5MRge20jD'],\n",
       "       ['2283776580',\n",
       "        '#Cuba 2018: Conflictómetro cubano https://t.co/g8jA0sZEU8'],\n",
       "       ['2283776580',\n",
       "        '#Cuba 60 años en el poder: la obscenidad del castrismo https://t.co/iS0Bpp12W1'],\n",
       "       ['2283776580',\n",
       "        \"#Cuba Pablo Milanés: 'En la música latina actual, no hay nada que valga la pena' https://t.co/FWXEj9EaNq\"],\n",
       "       ['2283776580',\n",
       "        \"#Cuba La Federación Cubana de Béisbol 'esclarece dudas' a los jugadores sobre el acuerdo con MLB https://t.co/Ft8tV9YkU5\"],\n",
       "       ['2283776580',\n",
       "        '#Cuba Ya están todos los refuerzos https://t.co/drNBybg5k8'],\n",
       "       ['2283776580',\n",
       "        '#Cuba Venezuela cierra 2018 con más de 23.000 muertes violentas https://t.co/8wwNryRhaK'],\n",
       "       ['2283776580',\n",
       "        '#Cuba ¿Qué hemos tenido en América Latina en 2018? https://t.co/tQbsesQ1E0'],\n",
       "       ['2283776580',\n",
       "        '#Cuba Almagro pide aplicar Carta Democrática Interamericana a Nicaragua https://t.co/9kgAqruOQU'],\n",
       "       ['2283776580',\n",
       "        '#Cuba Noticiero Televisión Martí Edición Nocturna https://t.co/GuAJVRPM4j'],\n",
       "       ['2283776580',\n",
       "        '#Cuba Bolsonaro: fue acertado \"no invitar a Díaz-Canel\" a su investidura https://t.co/u57Q9y0szH'],\n",
       "       ['2283776580',\n",
       "        '#Cuba Altísimos precios de los alimentos en Cuba https://t.co/eQJqrBv2zs'],\n",
       "       ['2283776580',\n",
       "        '#Cuba Cubanos en Chiapas y Cancún https://t.co/tsrWIXsJNQ'],\n",
       "       ['2283776580',\n",
       "        '#Cuba Matrimonio opositor cumple 19 días en huelga de hambre https://t.co/AMp1oX4jED'],\n",
       "       ['2283776580',\n",
       "        '#Cuba Cómo vive en Cuba un campesino anciano https://t.co/H5eF5uBw6i'],\n",
       "       ['2283776580',\n",
       "        '#Cuba La masacre del venezolano Óscar Pérez https://t.co/xlIdXikLFV'],\n",
       "       ['2283776580',\n",
       "        '#Cuba María Salas entrevista a Wilmer Valderrama. Parte 2 https://t.co/sGsOJHVm8d'],\n",
       "       ['2283776580',\n",
       "        '#Cuba Noticiero Televisión Martí https://t.co/E45uIUrKn7'],\n",
       "       ['2283776580',\n",
       "        '#Cuba Dos muertos y 33 heridos por accidente de tránsito en Jatibonico https://t.co/xxYnPlyoCF'],\n",
       "       ['2283776580',\n",
       "        '#Cuba El MINCULT despide a una galerista y crítico de arte por hacer cien preguntas sobre arte cubano https://t.co/JoZpbvzqe8'],\n",
       "       ['300436703',\n",
       "        '#Cuba 4- Selfies. Rostros en pandemia, del realizador cubano Arturo Santana @pipamediaslarga @lenybs @chamberohoy @RosabalCaridad @rciudadhabana @MirelysMesa @Laguantanamera @Monstruoplayero @Guajiritasoy @Ynmeley @RadioMetroCuba 🇨🇺 https://t.co/dC3M9X6DQ4 a través de @YouTube'],\n",
       "       ['300436703',\n",
       "        'Eloy Álvarez, explica que en todas las empresas y centros del @MindusIndustria  se mantendrán las medidas higiénico sanitarias previstas por el gobierno cubano algunas de las cuales se mantendrán para la etapa post #Covid19.'],\n",
       "       ['300436703',\n",
       "        '@EloylvarezMart1 ministro de Industrias asegura que se priorizan las producciones de primera necesidad para la población así como de otros productos que se demandan para la apertura del #Turismo y para el funcionamiento del sector de la #SaludPública. https://t.co/4qwl04jpxq'],\n",
       "       ['300436703',\n",
       "        '@EloylvarezMart1 ministro de Industrias aclara algunas de las medidas que implementan sus empresas para la etapa post #Covid-19 https://t.co/zjYvjMIQbr'],\n",
       "       ['300436703',\n",
       "        'Ministro de @EnergiaMinasCub informa que se prevee reanudar los trámites asociados a la atención a la población en las oficinas de electricidad y gas en la segunda etapa del proceso de recuperación de la #COVID19. @pipamediaslarga @Monstruoplayero #CubaPorLaVida'],\n",
       "       ['300436703',\n",
       "        '@arronte_livan asegura que las medidas de ahorro energético aplicadas han permitido reducir en 71 mil megawhatts hora con un significativo ahorro de combustible para el país. @EnergiaMinasCub @Ynmeley @pipamediaslarga #Cuba #COVID19 https://t.co/FZP8lgs2Ur'],\n",
       "       ['300436703',\n",
       "        'Carlos Ricardo Pérez, jefe de la brigada médica cubana que laboró en Lombardía, Italia, dice \"que esta bandera queremos regalársela al pueblo de #Cuba.\\nhttps://t.co/U3hGc5udhv @pipamediaslarga @lenybs @chamberohoy @RosabalCaridad @rciudadhabana @Guajiritasoy @Ynmeley 🇨🇺'],\n",
       "       ['300436703',\n",
       "        'Los centros de trabajo en la mira de la exigencia en #LaHabana @pipamediaslarga @lenybs @chamberohoy @RosabalCaridad @rciudadhabana @Guajiritasoy @Ynmeley @educarabos @RadioMetroCuba 🇨🇺 https://t.co/P7mRRqsWJf'],\n",
       "       ['300436703',\n",
       "        '#PorunAbrazo tema dedicado a la colaboración médica cubana en diversos países en medio de la #COVID19 https://t.co/NBfT2hu1ld'],\n",
       "       ['300436703',\n",
       "        'No hemos ganado aún la batalla, sigamos peleando con distanciamiento y disciplina #LaHabana #COVID19 @pipamediaslarga @Ynmeley @radionline  https://t.co/XRbIPTYIIB'],\n",
       "       ['300436703',\n",
       "        '#LaHabana conmemora el aniversario 19 de este suceso https://t.co/pjDSneCTvf'],\n",
       "       ['300436703',\n",
       "        '#LaHabana continúa disminuyendo índice de incidencia de la #Covid-19 (+Video) https://t.co/XRbIPTYIIB'],\n",
       "       ['300436703',\n",
       "        'A partir de testimonios de colaboradores, el presente capítulo de https://t.co/ugrFMQ8MH2, un programa de @CVInternacional desmonta las fake news que emplea #EEUU en su cruzada contra la cooperación médica. 👇\\nhttps://t.co/6pYCtcJ1kg @pipamediaslarga @chamberohoy 🇨🇺'],\n",
       "       ['300436703',\n",
       "        '#DeportesEnRadioCOCO Iberoamericano de #Ajedrez: Yusnel Bacallao rivalizará con el estelar peruano Jorge Cori @pipamediaslarga @lenybs @chamberohoy @RosabalCaridad @JesuscubaMM89 @Guajiritasoy @Ynmeley @educarabos @RadioMetroCuba 🇨🇺 https://t.co/8c8JOy1hBY'],\n",
       "       ['300436703',\n",
       "        '#Cuba Ramiro Valdés: “Ante los delitos no se puede actuar con tolerancia” @pipamediaslarga @lenybs @chamberohoy @RosabalCaridad @rciudadhabana @Guajiritasoy @Ynmeley @RadioMetroCuba 🇨🇺 https://t.co/6dkT4JJEYm'],\n",
       "       ['300436703',\n",
       "        'El 100 por ciento de los nuevos casos corresponden a la provincia de #LaHabana, es decir, uno en cada territorio de los siguientes:\\n📌 #ArroyoNaranjo.\\n📌 #Cotorro.\\n📌 #HabanadelEste.\\n@pipamediaslarga @chamberohoy @RosabalCaridad @rciudadhabana @Guajiritasoy @Ynmeley @educarabos'],\n",
       "       ['300436703',\n",
       "        'El @DrDuranGarcia detalló que los tres casos diagnosticados la víspera estaban asintomáticos en el momento en el que se les realizaron los exámenes para detectar la presencia de la Covid-19. #CubaPorLaSalud @pipamediaslarga @lenybs @chamberohoy @RosabalCaridad 🇨🇺'],\n",
       "       ['300436703',\n",
       "        'Según el @DrDuranGarcia, el 100 por ciento de los nuevos pacientes son cubanos y contactos de casos ya confirmados. #CubaPorLaSalud @pipamediaslarga @lenybs @chamberohoy @RosabalCaridad @rciudadhabana @Guajiritasoy @Ynmeley @RadioMetroCuba 🇨🇺'],\n",
       "       ['300436703',\n",
       "        'El @DrDuranGarcia precisó que este domingo fueron analizadas en 🇨🇺 2069 muestras, de las cuales tres resultaron positivas al virus Sars-Cov-2. #CubaPorLaSalud @pipamediaslarga @lenybs @chamberohoy @RosabalCaridad @rciudadhabana @Guajiritasoy @Ynmeley @RadioMetroCuba 🇨🇺'],\n",
       "       ['300436703',\n",
       "        'La tarea: No descuidar la estabilidad sanitaria #LaHabana #COVID19 👇🇨🇺Mejor en 🏘️🙋\\u200d♂️que en el 🏥!! @pipamediaslarga @Monstruoplayero @Guajiritasoy @chamberohoy  https://t.co/78l7xSIjwy'],\n",
       "       ['300436703',\n",
       "        '#DeportesenlaCOCO @InderCuba 🇨🇺👇🥊⚾🏅📖\\nLecturas deportivas: Nicolás Guillén, el #boxeo, el #béisbol y el #ajedrez https://t.co/SwvjHmBUYw'],\n",
       "       ['300436703',\n",
       "        'El arte en #Cuba no se ha detenido, para los amantes de las artes plásticas aquí les va un atractivo concurso... PARTICIPA!!!\\n@FCBCLaHabana @CubarteES @CubaCultura \\nhttps://t.co/GnKzROnEEJ'],\n",
       "       ['300436703',\n",
       "        '@mesaredondacuba: #Cuba en la etapa pos-COVID-19 @MindusIndustria  @pipamediaslarga @lenybs @chamberohoy @RosabalCaridad @rciudadhabana @Laguantanamera @Monstruoplayero @Guajiritasoy @Ynmeley @educarabos @RadioMetroCuba 🇨🇺 https://t.co/RL49aAKKPv Via @Granma_Digital'],\n",
       "       ['300436703',\n",
       "        '#DeportesEnRadioCOCO Carlos Daniel Albornoz: “El ajedrez requiere de mucha preparación física” @pipamediaslarga @lenybs @chamberohoy @RosabalCaridad @JesuscubaMM89 @Guajiritasoy @Ynmeley @educarabos @RadioMetroCuba 🇨🇺 https://t.co/9EYTz8W9fg'],\n",
       "       ['300436703',\n",
       "        '#LaHabana Vencer a la pandemia con el orgullo del deber cumplido @pipamediaslarga @lenybs @chamberohoy @RosabalCaridad @rciudadhabana @MirelysMesa @Laguantanamera @Monstruoplayero @Guajiritasoy @Ynmeley @educarabos @RadioMetroCuba 🇨🇺 https://t.co/gE7ZZse7IL'],\n",
       "       ['300436703',\n",
       "        'Comunistas daneses condenan agresiones de #EEUU a #Cuba #NoMásBloqueo @pipamediaslarga @lenybs @chamberohoy @RosabalCaridad @rciudadhabana @MirelysMesa @Laguantanamera @Monstruoplayero @Guajiritasoy @Ynmeley @educarabos @RadioMetroCuba 🇨🇺 https://t.co/cFL9H9v6dK'],\n",
       "       ['207529591',\n",
       "        '@malaleche_ehh @CubaSolida @CarlosQban @comunista_1977 @charlibc80 @AlinaLibertad @arnaiz_alfonso @Don96593718 @AteusPower92 @EGuerraArias @MarceloQbno @Canoarauco @YordankaGiraldo @ycamejo @MagnusDracoIV @Jonnyhp2020 @GuerreroCuba @xcibo @alexotaola @Vicente73977721 @BettyCRodri @MinoskaCuba @Guajiritasoy El error de los vejetes lamebotas como tú es creer que todo el mundo hace lo que hacen ustedes. Mis familiares no necesitan revender las recargas como hacen los parásitos como tú. #Cuba'],\n",
       "       ['207529591',\n",
       "        '@malaleche_ehh @CubaSolida @RafaelFresmel @comunista_1977 @arnaiz_alfonso @AlinaLibertad @Don96593718 @AteusPower92 @EGuerraArias @MarceloQbno @Canoarauco @YordankaGiraldo @ycamejo @MagnusDracoIV @Jonnyhp2020 @GuerreroCuba @xcibo @alexotaola @Vicente73977721 @BettyCRodri @MinoskaCuba @Guajiritasoy Señor pene ignorante, tu dictadura no es la patria. Denunciar tu dictadura mediocre y sus chivatones asalariados no es difamar de la patria. Cualquier persona en un país extranjero que lea esas idioteces se burlaría de ti, por comemierda. #Cuba'],\n",
       "       ['207529591',\n",
       "        '@CubaSolida @CarlosQban @comunista_1977 @charlibc80 @AlinaLibertad @arnaiz_alfonso @malaleche_ehh @Don96593718 @AteusPower92 @EGuerraArias @MarceloQbno @Canoarauco @YordankaGiraldo @ycamejo @MagnusDracoIV @Jonnyhp2020 @GuerreroCuba @xcibo @alexotaola @Vicente73977721 @BettyCRodri @MinoskaCuba @Guajiritasoy @BrunoRguezP La patria l traicionó Fidel cuando implantó su larga dictadura, y sin los gusanos esa dictadura habría caído hace rato. Ustedes son unos hipócritas que calumnian a los gusanos y a la vez les mendigan que regresen a hacer turismo y que hagan recargas y remesas. #Cuba'],\n",
       "       ['207529591',\n",
       "        'Los burócratas comunistas son expertos en proponer \"propuestas\" que no resuelven nada. #Cuba https://t.co/hq3uzamyuC'],\n",
       "       ['207529591',\n",
       "        '@CubaSolida @AteusPower92 @CarlosQban @comunista_1977 @charlibc80 @AlinaLibertad @arnaiz_alfonso @malaleche_ehh @Don96593718 @EGuerraArias @MarceloQbno @Canoarauco @YordankaGiraldo @ycamejo @MagnusDracoIV @Jonnyhp2020 @GuerreroCuba @xcibo @alexotaola @Vicente73977721 @BettyCRodri @MinoskaCuba @Guajiritasoy 5000 millones que se sacaron los burócratas del partido de sus gruesos trasteros. Ahí están las pérdidas por la ineficiencia crónica de la economía socialista, el desvío de recursos y la corrupción rampante. Ustedes causan las pérdidas y luego culpan a otros del desastre #Cuba'],\n",
       "       ['207529591',\n",
       "        '@malaleche_ehh @CubaSolida @RafaelFresmel @comunista_1977 @arnaiz_alfonso @AlinaLibertad @Don96593718 @AteusPower92 @EGuerraArias @MarceloQbno @Canoarauco @YordankaGiraldo @ycamejo @MagnusDracoIV @Jonnyhp2020 @GuerreroCuba @xcibo @alexotaola @Vicente73977721 @BettyCRodri @MinoskaCuba @Guajiritasoy Jajajaja riéndote con los socios, es decir, los demás chivatones del barrio jejejejeje. Seguro que hacen juntos las colas y están dispuestos a morir para que sus amos sigan disfrutando sus privilegios. Tonto! #Cuba'],\n",
       "       ['207529591',\n",
       "        '@comunista_1977 @Monzonaro @PecoraPaco @AlinaLibertad @arnaiz_alfonso @CubaSolida @malaleche_ehh @Don96593718 @AteusPower92 @EGuerraArias @MarceloQbno @Canoarauco @YordankaGiraldo @ycamejo @MagnusDracoIV @Jonnyhp2020 @GuerreroCuba @xcibo @alexotaola @Vicente73977721 @BettyCRodri @MinoskaCuba @Guajiritasoy Que imaginación tan fértil tienes, turista extranjero ignorante! Quién te dijo que voy a perder mi tiempo amenazando de muerte a un comemierda insignificante como tú. #Cuba'],\n",
       "       ['207529591',\n",
       "        '@CubaSolida @CarlosQban @comunista_1977 @charlibc80 @AlinaLibertad @arnaiz_alfonso @malaleche_ehh @Don96593718 @AteusPower92 @EGuerraArias @MarceloQbno @Canoarauco @YordankaGiraldo @ycamejo @MagnusDracoIV @Jonnyhp2020 @GuerreroCuba @xcibo @alexotaola @Vicente73977721 @BettyCRodri @MinoskaCuba @Guajiritasoy No es revolución, es una vulgar dictadura que está dirigida por gente baja, mezquina y ladrona. #Cuba'],\n",
       "       ['207529591',\n",
       "        '@CubaSolida @CarlosQban @comunista_1977 @charlibc80 @AlinaLibertad @arnaiz_alfonso @malaleche_ehh @Don96593718 @AteusPower92 @EGuerraArias @MarceloQbno @Canoarauco @YordankaGiraldo @ycamejo @MagnusDracoIV @Jonnyhp2020 @GuerreroCuba @xcibo @alexotaola @Vicente73977721 @BettyCRodri @MinoskaCuba @Guajiritasoy Abuela deja de hacer el ridículo, tú no sabes lo que realmente piensan esos millones, desde 1948 no hay elecciones democráticas ni se ha hecho un plebiscito verdadero. Deja de hablar por gente que no consultaste ni representas. #Cuba'],\n",
       "       ['207529591',\n",
       "        '@comunista_1977 @Monzonaro @PecoraPaco @AlinaLibertad @arnaiz_alfonso @CubaSolida @malaleche_ehh @Don96593718 @AteusPower92 @EGuerraArias @MarceloQbno @Canoarauco @YordankaGiraldo @ycamejo @MagnusDracoIV @Jonnyhp2020 @GuerreroCuba @xcibo @alexotaola @Vicente73977721 @BettyCRodri @MinoskaCuba @Guajiritasoy Mentirosisimo, eso eres tú charlatán, que habías dicho que llegaste a #Cuba en 2016 con 130 euros en el bolsillo. #Cuba'],\n",
       "       ['207529591',\n",
       "        '@CubaSolida @CarlosQban @comunista_1977 @charlibc80 @AlinaLibertad @arnaiz_alfonso @malaleche_ehh @Don96593718 @AteusPower92 @EGuerraArias @MarceloQbno @Canoarauco @YordankaGiraldo @ycamejo @MagnusDracoIV @Jonnyhp2020 @GuerreroCuba @xcibo @alexotaola @Vicente73977721 @BettyCRodri @MinoskaCuba @Guajiritasoy La dictadura sabe muy bien que seguiremos haciendo recargas a nuestros familiares, por eso los mantiene secuestrados. Cómo pagas tú el servicio? Ah, cierto, a ustedes se lo dan gratis, partía de parásitos. #Cuba'],\n",
       "       ['207529591',\n",
       "        '@malaleche_ehh @CubaSolida @RafaelFresmel @comunista_1977 @arnaiz_alfonso @AlinaLibertad @Don96593718 @AteusPower92 @EGuerraArias @MarceloQbno @Canoarauco @YordankaGiraldo @ycamejo @MagnusDracoIV @Jonnyhp2020 @GuerreroCuba @xcibo @alexotaola @Vicente73977721 @BettyCRodri @MinoskaCuba @Guajiritasoy Cazador de penes ignorantes y mediocres como tú, vejete ridículo. Ya hiciste las colas de hoy? #Cuba'],\n",
       "       ['207529591',\n",
       "        '@CubaSolida @RafaelFresmel @comunista_1977 @arnaiz_alfonso @AlinaLibertad @malaleche_ehh @Don96593718 @AteusPower92 @EGuerraArias @MarceloQbno @Canoarauco @YordankaGiraldo @ycamejo @MagnusDracoIV @Jonnyhp2020 @GuerreroCuba @xcibo @alexotaola @Vicente73977721 @BettyCRodri @MinoskaCuba @Guajiritasoy Para tu dictadura la Constitución de 1940 era ya inoperante en 1959, por eso no la restauraron y el país estuvo sin constitución hasta 1976. La \"nueva\" constitución es la de 1976 con cambios cosméticos. La esencia represiva y totalitaria sigue en el artículo 5. #Cuba'],\n",
       "       ['207529591',\n",
       "        '@comunista_1977 @malaleche_ehh @CubaSolida @RafaelFresmel @arnaiz_alfonso @AlinaLibertad @Don96593718 @AteusPower92 @EGuerraArias @MarceloQbno @Canoarauco @YordankaGiraldo @ycamejo @MagnusDracoIV @Jonnyhp2020 @GuerreroCuba @xcibo @alexotaola @Vicente73977721 @BettyCRodri @MinoskaCuba @Guajiritasoy Además de comemierda ignorante ahora me acusas de lo que hacía tu actual esposa cuando la conociste. Tú eres con tonto ignorante que un día dices ser extranjero y otro ser cubano. Un comemierda que en vez de ayudar a la dictadura la dejas en ridículo, anormal. #Cuba'],\n",
       "       ['207529591',\n",
       "        '@comunista_1977 Claro que no, tonto, mi madre no es una comemierda y si vive en #Cuba'],\n",
       "       ['207529591',\n",
       "        '@comunista_1977 Ya te dije que mi madre no simpatiza con comemierdas. Tú te fuiste a vivir a #Cuba en 2016 y te casaste con la primera jinetera que te abrió las piernas. Seguro que todos los días te recuerda que sería mejor vivir en tu país. A los comemierdas como tú los manipulan así.'],\n",
       "       ['207529591',\n",
       "        '@Eniel75149397 @ledif_mtz @EthanLeandro @LeyvaNoyka @JorgeRo79710107 @emarien1 @LIBRExDIGNO @FRANCIS50120536 @MiguelA90593941 @MarianapinedaB @ICastellsnos @NPad25 @Requiem20692 @Cubanabel90 @rsperez20161 @josedomino25 @AntonyAceaCuba @IndioHatuey1 @K1000lL @perezcapdevila @reiniercaba32 @Juan42630206 @ana_alicia_m @SrValdivia3 @Alberto98678422 @jagueygrande @DylanCosme @DylanCosme1 @HungGabriela @Alinarubio30 @AmayaJimenez90 Si, con muchos argumentos, los mismos que usan en el culto a la personalidad de los líderes que han destruido a #Cuba'],\n",
       "       ['207529591',\n",
       "        'Dice este tronco de comemierda que él va a Varadero y Cayo Coco con su salario en pesos cubanos. Y después dice que es cubano y que vive en #Cuba https://t.co/7ccQEYHlWr'],\n",
       "       ['207529591',\n",
       "        '@comunista_1977 @Cubano741 @AlinaLibertad @arnaiz_alfonso @CubaSolida @malaleche_ehh @Don96593718 @AteusPower92 @EGuerraArias @MarceloQbno @Canoarauco @YordankaGiraldo @ycamejo @MagnusDracoIV @Jonnyhp2020 @GuerreroCuba @xcibo @alexotaola @Vicente73977721 @BettyCRodri @MinoskaCuba @Guajiritasoy Entonces reconoces que ganas tu salario en CUC, porque con un salario en CUP no podrías ir a todos esos lugares. O es que sigues explotando a tu pobre madre que te mantiene desde el capitalismo? #Cuba'],\n",
       "       ['207529591',\n",
       "        'Juajuajuajua jijijijijijiji me meo de la risa con este comemierda, coño!!! Alguien haga algo, que me meo jajajaja jajajaja jajajaja #Cuba https://t.co/juJP1uPHnW'],\n",
       "       ['207529591',\n",
       "        '@DarianaGonzle17 @paulfriser @DeZurdaTeam @Guille830506 @citaconsilvio @DiazCanelB @CastroEspinM @mesa_tabares @RocneyGil @ManuelPeaReina1 @AndrsFernndezL1 @CeliaHernndezR1 Y cuántas horas estuviste en la cola pa conseguir el pollo? Y qué familiar gusano te mandó los fulas pa comprarlo? Eres una de las ciberclarias más ridículas de las redes. #Cuba'],\n",
       "       ['207529591',\n",
       "        '@hhcarles Tú no persigues a nadie, chivatón de México, tú entregas los informes al oficial que te atiende para que ellos repriman. Qué cómico eres, chivatiente, con esa cara de comemierda bigotudo y sirviendo perrunamente a la dictadura, el bufón eres tú. Leíste el artículo? #Cuba'],\n",
       "       ['207529591',\n",
       "        'Jajajaja jejejejeje jijijijijijiji éste seguro que sólo conoce jineteras jajajaja jajajaja jajajaja #Cuba https://t.co/axLJy7REJX'],\n",
       "       ['207529591',\n",
       "        '@malaleche_ehh @MagnusDracoIV @CubaSolida @AteusPower92 @EGuerraArias @comunista_1977 @MarceloQbno @Canoarauco @YordankaGiraldo @ycamejo @Jonnyhp2020 @GuerreroCuba @xcibo @alexotaola @Vicente73977721 @BettyCRodri @MinoskaCuba @Guajiritasoy Así es tonto, cazador de penes ignorantes como tú, que son presas fáciles. Vete a dormir vejete, que tienes que ir temprano pa las colas, chivatón arrastrao. #Cuba'],\n",
       "       ['207529591',\n",
       "        'A estos chivatos los tienen activos hasta de madrugada. #Cuba https://t.co/WJ9i4AbnAq'],\n",
       "       ['207529591',\n",
       "        '@malaleche_ehh @MagnusDracoIV @CubaSolida @AteusPower92 @EGuerraArias @comunista_1977 @MarceloQbno @Canoarauco @YordankaGiraldo @ycamejo @Jonnyhp2020 @GuerreroCuba @xcibo @alexotaola @Vicente73977721 @BettyCRodri @MinoskaCuba @Guajiritasoy Tú no duermes chivatón mediocre? Dile a tu oficial que te deje descansar, que a tu edad tú no estás pa estos trajines, muerto de hambre. #Cuba'],\n",
       "       ['207529591',\n",
       "        '@comunista_1977 @Cubano741 @AlinaLibertad @arnaiz_alfonso @CubaSolida @malaleche_ehh @Don96593718 @AteusPower92 @EGuerraArias @MarceloQbno @Canoarauco @YordankaGiraldo @ycamejo @MagnusDracoIV @Jonnyhp2020 @GuerreroCuba @xcibo @alexotaola @Vicente73977721 @BettyCRodri @MinoskaCuba @Guajiritasoy Cuba es tu tierra? Entonces mentiste cuando dijiste que llegaste en 2016 con 130 euros en tu bolsillo, turista extranjero ignorante? #Cuba'],\n",
       "       ['207529591',\n",
       "        '@MagnusDracoIV @malaleche_ehh @CubaSolida @AteusPower92 @EGuerraArias @comunista_1977 @MarceloQbno @Canoarauco @YordankaGiraldo @ycamejo @Jonnyhp2020 @GuerreroCuba @xcibo @alexotaola @Vicente73977721 @BettyCRodri @MinoskaCuba @Guajiritasoy No seas tan comemierda y acaba de entender que es sólo una sugerencia, para que dejes de sufrir. Yo quiero que seas feliz, chivatón de la Yuma. Por cierto, leíste el artículo que te envié? Léelo para que entiendas cuál es el bloqueo real que jode a nuestro pueblo. #Cuba'],\n",
       "       ['207529591',\n",
       "        '@hhcarles Pero de qué hablas chivatón de México si los verdaderos parásitos que no resuelven nada son los dirigentes de la dictadura que defiendes desde lejos con la panza llena de tacos! Miserable vida tenía en #Cuba bajo tu dictadura, igualito que tú, por eso nos fuimos del desastre.'],\n",
       "       ['207529591',\n",
       "        '@AnaRGrandaE @aylinalvarezG @Vicente73977721 @EDiosvany @UJCdeCuba @DiazCanelB @NislayMolina @KeylaEG72 @ArielRR85 @JuventudRebelde @DrRobertoMOjeda @DrMoraMartin1 @Yasmany04454856 @granma_ujc @YunielLabacena Repito que cuando no haya más dictadura, ustedes dejarán de existir, porque tendrían que autofinanciarse, y todos son una partía de vagos que ni trabajan ni producen nada. Más temprano que tarde el país se va a deshacer de esa pesada carga de aprovechados. #Cuba'],\n",
       "       ['207529591',\n",
       "        '@AnaRGrandaE @aylinalvarezG @Vicente73977721 @EDiosvany @UJCdeCuba @DiazCanelB @NislayMolina @KeylaEG72 @ArielRR85 @JuventudRebelde @DrRobertoMOjeda @DrMoraMartin1 @Yasmany04454856 @granma_ujc @YunielLabacena No, la UJC, el PCC y demás organizaciones parásitas del régimen no sólo son una carga para mi (que lo son) sino que son carga para todo el pueblo cubano y su economía. Los jóvenes se van por miles tras los cantos de sirena, así que han fallado miserablemente. #Cuba'],\n",
       "       ['207529591',\n",
       "        'jajajajajaja jajajajaja sigue el comunista comediante haciéndonos reír jejejejejeje #Cuba https://t.co/RnYkdqeqrE'],\n",
       "       ['207529591',\n",
       "        '@CubaSolida @arnaiz_alfonso @Cubano741 @comunista_1977 @Alex50784699 @AlinaLibertad @malaleche_ehh @Don96593718 @AteusPower92 @EGuerraArias @MarceloQbno @Canoarauco @YordankaGiraldo @ycamejo @MagnusDracoIV @Jonnyhp2020 @GuerreroCuba @xcibo @alexotaola @Vicente73977721 @BettyCRodri @MinoskaCuba @Guajiritasoy Los hospitales cubanos no escogen a quienes van a morir, allí lo mismo mueren niños que jóvenes que ancianos por la pésima calidad del servicio, las malas prácticas, los errores médicos y la pésima higiene en los hospitales. Ustedes ya no engañan a nadie. #Cuba'],\n",
       "       ['207529591',\n",
       "        '@CubaSolida @RafaelFresmel @arnaiz_alfonso @malaleche_ehh @comunista_1977 @AlinaLibertad @Don96593718 @AteusPower92 @EGuerraArias @MarceloQbno @Canoarauco @YordankaGiraldo @ycamejo @MagnusDracoIV @Jonnyhp2020 @GuerreroCuba @xcibo @alexotaola @Vicente73977721 @BettyCRodri @MinoskaCuba @Guajiritasoy Quién te dijo abuela que los cubanos dejamos de serlo porque tu dictadura nos discrimine o funcionarios venales como tú lo diga? Ustedes charlatanes corruptos que han destruido la nación cubana no tienen moral ni principios pa decidir quién es cubano y quién no. #Cuba']],\n",
       "      dtype=object)"
      ]
     },
     "execution_count": 132,
     "metadata": {},
     "output_type": "execute_result"
    }
   ],
   "source": [
    "df_required[['userid', 'tweet_text']].tail(500).values"
   ]
  },
  {
   "cell_type": "code",
   "execution_count": null,
   "id": "7a7d51c2-d287-4aee-ac06-0a7be86a68ef",
   "metadata": {},
   "outputs": [],
   "source": []
  }
 ],
 "metadata": {
  "kernelspec": {
   "display_name": "Python 3 (ipykernel)",
   "language": "python",
   "name": "python3"
  },
  "language_info": {
   "codemirror_mode": {
    "name": "ipython",
    "version": 3
   },
   "file_extension": ".py",
   "mimetype": "text/x-python",
   "name": "python",
   "nbconvert_exporter": "python",
   "pygments_lexer": "ipython3",
   "version": "3.10.9"
  }
 },
 "nbformat": 4,
 "nbformat_minor": 5
}
