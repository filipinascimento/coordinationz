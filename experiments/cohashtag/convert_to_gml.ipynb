{
 "cells": [
  {
   "cell_type": "markdown",
   "id": "57541e94-8c8a-4966-a76d-c230015151bb",
   "metadata": {},
   "source": [
    "#### **This script converts the xnet graph to dataframe**"
   ]
  },
  {
   "cell_type": "code",
   "execution_count": 5,
   "id": "2b7e7feb-768e-417e-ad9b-a3f826579e2b",
   "metadata": {
    "tags": []
   },
   "outputs": [
    {
     "name": "stderr",
     "output_type": "stream",
     "text": [
      "/N/slate/potem/project/coordinationz/source/coordinationz/config.py:31: UserWarning: Config file not found: None\n",
      "  warnings.warn(str(e))\n",
      "/N/slate/potem/project/coordinationz/source/coordinationz/config.py:32: UserWarning: Tried to find config.toml in this directory, and parent directories.\n",
      "  warnings.warn(\"Tried to find config.toml in this directory, and parent directories.\")\n",
      "/N/slate/potem/project/coordinationz/source/coordinationz/config.py:33: UserWarning: Please create a config.toml file with the necessary settings.\n",
      "  warnings.warn(\"Please create a config.toml file with the necessary settings.\")\n",
      "/N/slate/potem/project/coordinationz/source/coordinationz/config.py:34: UserWarning: Or manually call coordinationz.load_config('path/to/config.toml') in your code.\n",
      "  warnings.warn(\"Or manually call coordinationz.load_config('path/to/config.toml') in your code.\")\n",
      "/N/slate/potem/miniconda3/lib/python3.10/site-packages/tqdm/auto.py:21: TqdmWarning: IProgress not found. Please update jupyter and ipywidgets. See https://ipywidgets.readthedocs.io/en/stable/user_install.html\n",
      "  from .autonotebook import tqdm as notebook_tqdm\n"
     ]
    }
   ],
   "source": [
    "from xnetwork import load\n",
    "import coordinationz.cohashtag_helper as cohp"
   ]
  },
  {
   "cell_type": "code",
   "execution_count": 2,
   "id": "2377f5e4-85d9-4a5e-98ac-b6d775c785b4",
   "metadata": {
    "tags": []
   },
   "outputs": [],
   "source": [
    "file = './data/cuba_082020_tweets_onlyRetweets_coretweet.xnet'\n",
    "graph_10 = load(file)"
   ]
  },
  {
   "cell_type": "code",
   "execution_count": 6,
   "id": "32d018b2-6b79-4fec-9eb6-882bda88b7b9",
   "metadata": {
    "tags": []
   },
   "outputs": [],
   "source": [
    "filename = './data/cuba_082020_tweets_onlyRetweets_coretweet.gml'\n",
    "G = cohp.save_xnet_to_gml(graph_10, filename)"
   ]
  },
  {
   "cell_type": "code",
   "execution_count": 167,
   "id": "0e8bbbfd-6e1d-4911-9de8-6c512cc0e98d",
   "metadata": {
    "tags": []
   },
   "outputs": [
    {
     "name": "stdout",
     "output_type": "stream",
     "text": [
      "Total io : 443\n",
      "{'Label': '999964025038483456', 'category': 'control', 'left_degree': 33.0}\n",
      "Total control : 12143\n",
      "**********\n",
      "12570 12585 {'weight': 0.5424588917365284, 'pvalue': 1e-05, 'zscore': 650.3914895449764}\n",
      "Total node : 246\n",
      "Total edges : 465\n",
      "***********\n",
      "12340\n",
      "246\n"
     ]
    }
   ],
   "source": [
    "total = 0\n",
    "total_control = 0\n",
    "all_io = []\n",
    "all_control = []\n",
    "all_present_node = []\n",
    "all_check = []\n",
    "for i, node in G.nodes(data=True):\n",
    "    if node['category'] == 'io':\n",
    "        total = total + 1\n",
    "        all_io.append(i)\n",
    "        \n",
    "    if node['category'] == 'control':\n",
    "        total_control = total_control + 1\n",
    "        all_control.append(i)\n",
    "        \n",
    "    all_present_node.append(i)\n",
    "    all_check.append([i, node['category']])\n",
    "        \n",
    "print('Total io :', total)\n",
    "print(node)\n",
    "print('Total control :', total_control)\n",
    "print('**********')\n",
    "all_node = []\n",
    "total_edges = 0\n",
    "for u, v, attrs in G.edges(data=True):\n",
    "    if u not in all_node:\n",
    "        all_node.append(u)\n",
    "    if v not in all_node:\n",
    "        all_node.append(v)\n",
    "    total_edges = total_edges + 1\n",
    "    \n",
    "print(u, v, attrs)\n",
    "print('Total node :', len(all_node))\n",
    "print('Total edges :', total_edges)\n",
    "\n",
    "print('***********')\n",
    "print(len(set(all_present_node) - set(all_node)))\n",
    "print(len(set(all_present_node).intersection(set(all_node))))"
   ]
  },
  {
   "cell_type": "code",
   "execution_count": 175,
   "id": "73816d3a-84af-4f98-868a-9d539abaf3c2",
   "metadata": {
    "tags": []
   },
   "outputs": [],
   "source": [
    "(pd.DataFrame(data=all_check,\n",
    "              columns=['node', 'category'],\n",
    "             )\n",
    ").to_pickle('./data/retweet_index_category.pkl.gz')"
   ]
  },
  {
   "cell_type": "code",
   "execution_count": 20,
   "id": "83d07fb2-ecfd-4258-a315-0bf753d3aded",
   "metadata": {
    "tags": []
   },
   "outputs": [],
   "source": [
    "filename = './data/cuba_082020_tweets_onlyRetweets_coretweet.pkl.gz'\n",
    "\n",
    "import importlib\n",
    "\n",
    "importlib.reload(cohp)\n",
    "\n",
    "cohp.save_all_graph_attr(G, filename)\n",
    "\n",
    "import pandas as pd\n",
    "filename = './data/cuba_082020_tweets_onlyRetweets_coretweet.pkl.gz'\n",
    "\n",
    "df = pd.read_pickle(filename)"
   ]
  },
  {
   "cell_type": "markdown",
   "id": "029d6053-641d-4300-96ca-4c3825ddb4a9",
   "metadata": {},
   "source": [
    "#### **Check label**"
   ]
  },
  {
   "cell_type": "code",
   "execution_count": 33,
   "id": "d569430d-9526-4d1b-b558-8ef997c1efae",
   "metadata": {
    "tags": []
   },
   "outputs": [
    {
     "name": "stdout",
     "output_type": "stream",
     "text": [
      "41\n"
     ]
    }
   ],
   "source": [
    "sources = set(df.loc[df['source_label'] == 'io']['source'])\n",
    "targets = set(df.loc[df['target_label'] == 'io']['target'])\n",
    "\n",
    "print(len(sources.union(targets)))"
   ]
  },
  {
   "cell_type": "code",
   "execution_count": 34,
   "id": "746397b8-e81c-46d1-927c-61c69f01c671",
   "metadata": {
    "tags": []
   },
   "outputs": [
    {
     "name": "stdout",
     "output_type": "stream",
     "text": [
      "205\n"
     ]
    }
   ],
   "source": [
    "sources = set(df.loc[df['source_label'] == 'control']['source'])\n",
    "targets = set(df.loc[df['target_label'] == 'control']['target'])\n",
    "\n",
    "print(len(sources.union(targets)))"
   ]
  },
  {
   "cell_type": "code",
   "execution_count": 37,
   "id": "c3377653-429e-4d6d-9856-7ea84878e1e7",
   "metadata": {
    "tags": []
   },
   "outputs": [
    {
     "data": {
      "text/plain": [
       "0.2"
      ]
     },
     "execution_count": 37,
     "metadata": {},
     "output_type": "execute_result"
    }
   ],
   "source": [
    "41/205"
   ]
  },
  {
   "cell_type": "markdown",
   "id": "94b92345-2e01-4eb3-9e53-9e2ff37cfd36",
   "metadata": {},
   "source": [
    "#### **Get degree of node**"
   ]
  },
  {
   "cell_type": "code",
   "execution_count": 42,
   "id": "2629c4e5-c0e6-47e2-baf3-af3e55f0d8c7",
   "metadata": {
    "tags": []
   },
   "outputs": [
    {
     "data": {
      "text/html": [
       "<div>\n",
       "<style scoped>\n",
       "    .dataframe tbody tr th:only-of-type {\n",
       "        vertical-align: middle;\n",
       "    }\n",
       "\n",
       "    .dataframe tbody tr th {\n",
       "        vertical-align: top;\n",
       "    }\n",
       "\n",
       "    .dataframe thead th {\n",
       "        text-align: right;\n",
       "    }\n",
       "</style>\n",
       "<table border=\"1\" class=\"dataframe\">\n",
       "  <thead>\n",
       "    <tr style=\"text-align: right;\">\n",
       "      <th></th>\n",
       "      <th>weight</th>\n",
       "      <th>pvalue</th>\n",
       "      <th>zscore</th>\n",
       "      <th>source</th>\n",
       "      <th>target</th>\n",
       "      <th>source_label</th>\n",
       "      <th>target_label</th>\n",
       "    </tr>\n",
       "  </thead>\n",
       "  <tbody>\n",
       "    <tr>\n",
       "      <th>0</th>\n",
       "      <td>0.326712</td>\n",
       "      <td>0.00001</td>\n",
       "      <td>374.018450</td>\n",
       "      <td>1000522498268680193</td>\n",
       "      <td>924114230781063169</td>\n",
       "      <td>control</td>\n",
       "      <td>control</td>\n",
       "    </tr>\n",
       "    <tr>\n",
       "      <th>1</th>\n",
       "      <td>0.339437</td>\n",
       "      <td>0.00001</td>\n",
       "      <td>346.913110</td>\n",
       "      <td>1003827388705329153</td>\n",
       "      <td>152709803</td>\n",
       "      <td>control</td>\n",
       "      <td>control</td>\n",
       "    </tr>\n",
       "    <tr>\n",
       "      <th>2</th>\n",
       "      <td>0.580730</td>\n",
       "      <td>0.00001</td>\n",
       "      <td>629.048076</td>\n",
       "      <td>1008830474020630528</td>\n",
       "      <td>511190468</td>\n",
       "      <td>control</td>\n",
       "      <td>control</td>\n",
       "    </tr>\n",
       "    <tr>\n",
       "      <th>3</th>\n",
       "      <td>0.405542</td>\n",
       "      <td>0.00001</td>\n",
       "      <td>inf</td>\n",
       "      <td>1014851107745497088</td>\n",
       "      <td>2954364053</td>\n",
       "      <td>control</td>\n",
       "      <td>control</td>\n",
       "    </tr>\n",
       "    <tr>\n",
       "      <th>4</th>\n",
       "      <td>0.536031</td>\n",
       "      <td>0.00001</td>\n",
       "      <td>613.950096</td>\n",
       "      <td>1021872428346212352</td>\n",
       "      <td>923246371863281665</td>\n",
       "      <td>control</td>\n",
       "      <td>control</td>\n",
       "    </tr>\n",
       "  </tbody>\n",
       "</table>\n",
       "</div>"
      ],
      "text/plain": [
       "     weight   pvalue      zscore               source              target  \\\n",
       "0  0.326712  0.00001  374.018450  1000522498268680193  924114230781063169   \n",
       "1  0.339437  0.00001  346.913110  1003827388705329153           152709803   \n",
       "2  0.580730  0.00001  629.048076  1008830474020630528           511190468   \n",
       "3  0.405542  0.00001         inf  1014851107745497088          2954364053   \n",
       "4  0.536031  0.00001  613.950096  1021872428346212352  923246371863281665   \n",
       "\n",
       "  source_label target_label  \n",
       "0      control      control  \n",
       "1      control      control  \n",
       "2      control      control  \n",
       "3      control      control  \n",
       "4      control      control  "
      ]
     },
     "execution_count": 42,
     "metadata": {},
     "output_type": "execute_result"
    }
   ],
   "source": [
    "df.head()"
   ]
  },
  {
   "cell_type": "code",
   "execution_count": 128,
   "id": "f075d9de-1b87-4f81-9905-eab09c2ba97d",
   "metadata": {
    "tags": []
   },
   "outputs": [],
   "source": [
    "df['weight'] = df['weight'].apply(lambda x: round(x,2))"
   ]
  },
  {
   "cell_type": "code",
   "execution_count": 186,
   "id": "470a9b9a-e039-46cd-a523-2cc97bf19a1f",
   "metadata": {
    "tags": []
   },
   "outputs": [
    {
     "data": {
      "image/png": "[encoded data removed]",
      "text/plain": [
       "<Figure size 1000x1000 with 1 Axes>"
      ]
     },
     "metadata": {},
     "output_type": "display_data"
    }
   ],
   "source": [
    "import coordinationz.visualization as vz\n",
    "\n",
    "parameters =  {\n",
    "        'data': df,\n",
    "        'fontsize': 30,\n",
    "        'complementary': True,\n",
    "        'tick_size':20,\n",
    "        'columns': [\n",
    "            {'column': 'weight',\n",
    "             'label': '',\n",
    "            }\n",
    "        ],\n",
    "        'xlabel': 'weight of each node',\n",
    "        'ylabel': 'Number of nodes',\n",
    "        'bins': None,\n",
    "        # 'legend_location': '',\n",
    "        'log_yscale': False,\n",
    "        'log_xscale': False,\n",
    "        'title': '',\n",
    "        'save': {\n",
    "            'path': './plots/',\n",
    "            'filename': 'retweet_weight.png'\n",
    "        },\n",
    "        'random_color': False\n",
    "    }\n",
    "\n",
    "vz.plot_histogram(parameters)"
   ]
  },
  {
   "cell_type": "code",
   "execution_count": 44,
   "id": "cff6c6d4-a63a-4279-8821-797352d3085b",
   "metadata": {
    "tags": []
   },
   "outputs": [
    {
     "data": {
      "text/plain": [
       "1e-05"
      ]
     },
     "execution_count": 44,
     "metadata": {},
     "output_type": "execute_result"
    }
   ],
   "source": [
    "df['pvalue'].max()"
   ]
  },
  {
   "cell_type": "code",
   "execution_count": 68,
   "id": "484c5288-a8a6-49ae-9c21-607469514950",
   "metadata": {
    "tags": []
   },
   "outputs": [
    {
     "data": {
      "text/plain": [
       "0.30001127799401284"
      ]
     },
     "execution_count": 68,
     "metadata": {},
     "output_type": "execute_result"
    }
   ],
   "source": [
    "df['weight'].min()"
   ]
  },
  {
   "cell_type": "code",
   "execution_count": 53,
   "id": "199061eb-8d40-4b79-823b-7895332fe7ca",
   "metadata": {
    "tags": []
   },
   "outputs": [
    {
     "name": "stdout",
     "output_type": "stream",
     "text": [
      "Degree DataFrame:\n",
      "        Node  Degree\n",
      "0          0       0\n",
      "1          1       0\n",
      "2          2       0\n",
      "3          3       0\n",
      "4          4       0\n",
      "...      ...     ...\n",
      "12581  12581       0\n",
      "12582  12582       0\n",
      "12583  12583       0\n",
      "12584  12584       0\n",
      "12585  12585       8\n",
      "\n",
      "[12586 rows x 2 columns]\n"
     ]
    }
   ],
   "source": [
    "degrees = dict(G.degree())\n",
    "# Convert to DataFrame\n",
    "degree_df = pd.DataFrame(degrees.items(), columns=['Node', 'Degree'])\n",
    "\n",
    "# Display the DataFrame\n",
    "print(\"Degree DataFrame:\")\n",
    "print(degree_df)"
   ]
  },
  {
   "cell_type": "markdown",
   "id": "120fe09f-7d1f-4b8c-86c5-5fd291286215",
   "metadata": {},
   "source": [
    "#### **Check distribution**"
   ]
  },
  {
   "cell_type": "code",
   "execution_count": 66,
   "id": "a335d388-cc8b-42ae-b013-838e4007cea5",
   "metadata": {
    "tags": []
   },
   "outputs": [
    {
     "data": {
      "image/png": "[encoded data removed]",
      "text/plain": [
       "<Figure size 1000x1000 with 1 Axes>"
      ]
     },
     "metadata": {},
     "output_type": "display_data"
    }
   ],
   "source": [
    "import coordinationz.visualization as vz\n",
    "\n",
    "parameters =  {\n",
    "        'data': degree_df,\n",
    "        'fontsize': 30,\n",
    "        'complementary': True,\n",
    "        'tick_size':20,\n",
    "        'columns': [\n",
    "            {'column': 'Degree',\n",
    "             'label': '',\n",
    "            }\n",
    "        ],\n",
    "        'xlabel': 'Degree of each node',\n",
    "        'ylabel': 'Number of nodes',\n",
    "        'bins': None,\n",
    "        # 'legend_location': '',\n",
    "        'log_yscale': True,\n",
    "        'log_xscale': False,\n",
    "        'title': '',\n",
    "        'save': {\n",
    "            'path': './plots/',\n",
    "            'filename': 'retweet_degree.png'\n",
    "        },\n",
    "        'random_color': False\n",
    "    }\n",
    "\n",
    "vz.plot_histogram(parameters)"
   ]
  },
  {
   "cell_type": "code",
   "execution_count": 72,
   "id": "750d9d7a-feb8-4560-9471-26e1fc93a7bc",
   "metadata": {
    "tags": []
   },
   "outputs": [],
   "source": [
    "# all_io = []\n",
    "# all_control = []\n",
    "\n",
    "df_io = degree_df.loc[degree_df['Node'].isin(all_io)]\n",
    "df_control = degree_df.loc[degree_df['Node'].isin(all_control)]"
   ]
  },
  {
   "cell_type": "code",
   "execution_count": 77,
   "id": "ffbeb590-911d-4c77-88e9-ee2db8a564c8",
   "metadata": {
    "tags": []
   },
   "outputs": [
    {
     "name": "stdout",
     "output_type": "stream",
     "text": [
      "./plots/io_control_degree.png\n"
     ]
    },
    {
     "data": {
      "image/png": "[encoded data removed]",
      "text/plain": [
       "<Figure size 800x800 with 1 Axes>"
      ]
     },
     "metadata": {},
     "output_type": "display_data"
    }
   ],
   "source": [
    "parameters =  {\n",
    "        'data': [df_io, df_control],\n",
    "        'fontsize': 30,\n",
    "        'complementary': True,\n",
    "        'tick_size':20,\n",
    "        'columns': [\n",
    "            {'column': 'Degree',\n",
    "             'label': 'IO',\n",
    "            },\n",
    "             {'column': 'Degree',\n",
    "             'label': 'Control',\n",
    "            }\n",
    "        ],\n",
    "        'xlabel': 'Node degree',\n",
    "        'ylabel': '',\n",
    "        'legend_location': 'upper right',\n",
    "        'log_yscale': True,\n",
    "        'log_xscale': False,\n",
    "        'save': {\n",
    "            'path': './plots/',\n",
    "            'filename': 'io_control_degree.png'\n",
    "        },\n",
    "        'random_color': False\n",
    "    }\n",
    "\n",
    "vz.ccdf(parameters)"
   ]
  },
  {
   "cell_type": "markdown",
   "id": "f62685cb-8a25-4649-bf8b-c4bf3ae7f101",
   "metadata": {},
   "source": [
    "#### **Evaluate**"
   ]
  },
  {
   "cell_type": "code",
   "execution_count": 141,
   "id": "88bd5836-3a04-4162-bd4f-d5d8462f0938",
   "metadata": {
    "tags": []
   },
   "outputs": [],
   "source": [
    "def remove_isolated_nodes(H):\n",
    "    isolated_nodes = [node for node in H.nodes() if H.degree(node) == 0]\n",
    "\n",
    "    # Remove isolated nodes from the graph\n",
    "    H.remove_nodes_from(isolated_nodes)\n",
    "    \n",
    "    return H\n",
    "\n",
    "def disintegrate_network(G, \n",
    "                         weight_list,\n",
    "                         removal_strategy='weight',\n",
    "                         filename=None\n",
    "                         ):\n",
    "    H = G.copy()\n",
    "    \n",
    "    H = remove_isolated_nodes(H)\n",
    "    org_node = H.number_of_nodes()\n",
    "    \n",
    "    if removal_strategy == 'weight':\n",
    "        H_new = H.copy()\n",
    "    \n",
    "        all_data = []\n",
    "        for i in weight_list:\n",
    "            # Identify edges to remove based on the weight threshold\n",
    "            edges_to_remove = []\n",
    "            for u, v, weight in H_new.edges(data='weight'):\n",
    "                if round(weight,2) == i:\n",
    "                    edges_to_remove.append((u, v))\n",
    "                    \n",
    "                # print(i, round(weight,2))\n",
    "\n",
    "            # Remove the filtered edges from the graph\n",
    "            H_new.remove_edges_from(edges_to_remove)\n",
    "            \n",
    "            H_new = remove_isolated_nodes(H_new)\n",
    "\n",
    "            num_nodes = H_new.number_of_nodes()\n",
    "            \n",
    "            delta = org_node - num_nodes\n",
    "\n",
    "            all_data.append([i, delta, org_node, num_nodes])\n",
    "            \n",
    "        (pd.DataFrame(data=all_data,\n",
    "                      columns=['weight', 'delta', 'org_node', 'remain']\n",
    "                     )\n",
    "        ).to_pickle(filename)\n",
    "                      "
   ]
  },
  {
   "cell_type": "code",
   "execution_count": 131,
   "id": "d9604bbb-864b-46cb-b874-235b93be74c7",
   "metadata": {
    "tags": []
   },
   "outputs": [],
   "source": [
    "min_weight=df['weight'].min()\n",
    "max_weight=df['weight'].max()"
   ]
  },
  {
   "cell_type": "code",
   "execution_count": 132,
   "id": "a610bfce-e40e-4bbe-9b61-457433ad5dd1",
   "metadata": {
    "tags": []
   },
   "outputs": [
    {
     "name": "stdout",
     "output_type": "stream",
     "text": [
      "0.3\n",
      "1.0\n"
     ]
    }
   ],
   "source": [
    "print(min_weight)\n",
    "print(max_weight)"
   ]
  },
  {
   "cell_type": "code",
   "execution_count": 130,
   "id": "d5f88736-d86b-48b1-9409-575351824bff",
   "metadata": {
    "tags": []
   },
   "outputs": [
    {
     "data": {
      "text/plain": [
       "0    0.33\n",
       "1    0.34\n",
       "2    0.58\n",
       "3    0.41\n",
       "4    0.54\n",
       "Name: weight, dtype: float64"
      ]
     },
     "execution_count": 130,
     "metadata": {},
     "output_type": "execute_result"
    }
   ],
   "source": [
    "df['weight'].head()"
   ]
  },
  {
   "cell_type": "code",
   "execution_count": 234,
   "id": "0f350e8b-72c0-4498-9a6f-73558cce87bc",
   "metadata": {
    "tags": []
   },
   "outputs": [
    {
     "name": "stdout",
     "output_type": "stream",
     "text": [
      "[0.3  0.31 0.32 0.33 0.34 0.35 0.36 0.37 0.38 0.39 0.4  0.41 0.42 0.43\n",
      " 0.44 0.45 0.46 0.47 0.48 0.49 0.5  0.51 0.52 0.53 0.54 0.55 0.56 0.57\n",
      " 0.58 0.59 0.6  0.61 0.62 0.63 0.64 0.65 0.66 0.67 0.68 0.69 0.7  0.71\n",
      " 0.72 0.73 0.74 0.75 0.76 0.77 0.78 0.79 0.8  0.81 0.82 0.83 0.84 0.85\n",
      " 0.86 0.87 0.88 0.89 0.9  0.91 0.92 0.93 0.94 0.95 0.96 0.97 0.98 0.99\n",
      " 1.  ]\n"
     ]
    }
   ],
   "source": [
    "filename = './data/node_change.pkl.gz'\n",
    "import numpy as np\n",
    "\n",
    "weight_list = np.arange(min_weight, max_weight+0.01, 0.01)\n",
    "print(weight_list)\n",
    "disintegrate_network(G, \n",
    "                         weight_list,\n",
    "                         removal_strategy='weight',\n",
    "                         filename=filename\n",
    "                    )"
   ]
  },
  {
   "cell_type": "markdown",
   "id": "98ff2b51-daba-4c3c-945b-cf913feda7d7",
   "metadata": {},
   "source": [
    "#### **Check distribution**"
   ]
  },
  {
   "cell_type": "code",
   "execution_count": 235,
   "id": "94677743-74f0-43fd-9cbc-2f36df75a456",
   "metadata": {
    "tags": []
   },
   "outputs": [],
   "source": [
    "filename = './data/node_change.pkl.gz'\n",
    "\n",
    "df_dis = pd.read_pickle(filename)"
   ]
  },
  {
   "cell_type": "code",
   "execution_count": 147,
   "id": "8db08448-fed4-492d-bff9-7ace590da591",
   "metadata": {
    "tags": []
   },
   "outputs": [],
   "source": [
    "# df_1 = df_dis.loc[df_dis['weight'] <= 1.01]"
   ]
  },
  {
   "cell_type": "code",
   "execution_count": 236,
   "id": "fc543491-0281-4379-a435-5d0d7c6fa30f",
   "metadata": {
    "tags": []
   },
   "outputs": [
    {
     "data": {
      "text/html": [
       "<div>\n",
       "<style scoped>\n",
       "    .dataframe tbody tr th:only-of-type {\n",
       "        vertical-align: middle;\n",
       "    }\n",
       "\n",
       "    .dataframe tbody tr th {\n",
       "        vertical-align: top;\n",
       "    }\n",
       "\n",
       "    .dataframe thead th {\n",
       "        text-align: right;\n",
       "    }\n",
       "</style>\n",
       "<table border=\"1\" class=\"dataframe\">\n",
       "  <thead>\n",
       "    <tr style=\"text-align: right;\">\n",
       "      <th></th>\n",
       "      <th>weight</th>\n",
       "      <th>delta</th>\n",
       "      <th>org_node</th>\n",
       "      <th>remain</th>\n",
       "    </tr>\n",
       "  </thead>\n",
       "  <tbody>\n",
       "    <tr>\n",
       "      <th>0</th>\n",
       "      <td>0.30</td>\n",
       "      <td>5</td>\n",
       "      <td>246</td>\n",
       "      <td>241</td>\n",
       "    </tr>\n",
       "    <tr>\n",
       "      <th>1</th>\n",
       "      <td>0.31</td>\n",
       "      <td>11</td>\n",
       "      <td>246</td>\n",
       "      <td>235</td>\n",
       "    </tr>\n",
       "    <tr>\n",
       "      <th>2</th>\n",
       "      <td>0.32</td>\n",
       "      <td>25</td>\n",
       "      <td>246</td>\n",
       "      <td>221</td>\n",
       "    </tr>\n",
       "    <tr>\n",
       "      <th>3</th>\n",
       "      <td>0.33</td>\n",
       "      <td>31</td>\n",
       "      <td>246</td>\n",
       "      <td>215</td>\n",
       "    </tr>\n",
       "    <tr>\n",
       "      <th>4</th>\n",
       "      <td>0.34</td>\n",
       "      <td>42</td>\n",
       "      <td>246</td>\n",
       "      <td>204</td>\n",
       "    </tr>\n",
       "    <tr>\n",
       "      <th>...</th>\n",
       "      <td>...</td>\n",
       "      <td>...</td>\n",
       "      <td>...</td>\n",
       "      <td>...</td>\n",
       "    </tr>\n",
       "    <tr>\n",
       "      <th>66</th>\n",
       "      <td>0.96</td>\n",
       "      <td>42</td>\n",
       "      <td>246</td>\n",
       "      <td>204</td>\n",
       "    </tr>\n",
       "    <tr>\n",
       "      <th>67</th>\n",
       "      <td>0.97</td>\n",
       "      <td>42</td>\n",
       "      <td>246</td>\n",
       "      <td>204</td>\n",
       "    </tr>\n",
       "    <tr>\n",
       "      <th>68</th>\n",
       "      <td>0.98</td>\n",
       "      <td>42</td>\n",
       "      <td>246</td>\n",
       "      <td>204</td>\n",
       "    </tr>\n",
       "    <tr>\n",
       "      <th>69</th>\n",
       "      <td>0.99</td>\n",
       "      <td>42</td>\n",
       "      <td>246</td>\n",
       "      <td>204</td>\n",
       "    </tr>\n",
       "    <tr>\n",
       "      <th>70</th>\n",
       "      <td>1.00</td>\n",
       "      <td>42</td>\n",
       "      <td>246</td>\n",
       "      <td>204</td>\n",
       "    </tr>\n",
       "  </tbody>\n",
       "</table>\n",
       "<p>71 rows × 4 columns</p>\n",
       "</div>"
      ],
      "text/plain": [
       "    weight  delta  org_node  remain\n",
       "0     0.30      5       246     241\n",
       "1     0.31     11       246     235\n",
       "2     0.32     25       246     221\n",
       "3     0.33     31       246     215\n",
       "4     0.34     42       246     204\n",
       "..     ...    ...       ...     ...\n",
       "66    0.96     42       246     204\n",
       "67    0.97     42       246     204\n",
       "68    0.98     42       246     204\n",
       "69    0.99     42       246     204\n",
       "70    1.00     42       246     204\n",
       "\n",
       "[71 rows x 4 columns]"
      ]
     },
     "execution_count": 236,
     "metadata": {},
     "output_type": "execute_result"
    }
   ],
   "source": [
    "df_dis"
   ]
  },
  {
   "cell_type": "code",
   "execution_count": 238,
   "id": "f85fdb0a-864a-4c4d-912d-980e0e57f8ab",
   "metadata": {
    "tags": []
   },
   "outputs": [
    {
     "data": {
      "text/html": [
       "<div>\n",
       "<style scoped>\n",
       "    .dataframe tbody tr th:only-of-type {\n",
       "        vertical-align: middle;\n",
       "    }\n",
       "\n",
       "    .dataframe tbody tr th {\n",
       "        vertical-align: top;\n",
       "    }\n",
       "\n",
       "    .dataframe thead th {\n",
       "        text-align: right;\n",
       "    }\n",
       "</style>\n",
       "<table border=\"1\" class=\"dataframe\">\n",
       "  <thead>\n",
       "    <tr style=\"text-align: right;\">\n",
       "      <th></th>\n",
       "      <th>weight</th>\n",
       "      <th>delta</th>\n",
       "      <th>org_node</th>\n",
       "      <th>remain</th>\n",
       "    </tr>\n",
       "  </thead>\n",
       "  <tbody>\n",
       "    <tr>\n",
       "      <th>4</th>\n",
       "      <td>0.34</td>\n",
       "      <td>42</td>\n",
       "      <td>246</td>\n",
       "      <td>204</td>\n",
       "    </tr>\n",
       "    <tr>\n",
       "      <th>5</th>\n",
       "      <td>0.35</td>\n",
       "      <td>42</td>\n",
       "      <td>246</td>\n",
       "      <td>204</td>\n",
       "    </tr>\n",
       "    <tr>\n",
       "      <th>6</th>\n",
       "      <td>0.36</td>\n",
       "      <td>42</td>\n",
       "      <td>246</td>\n",
       "      <td>204</td>\n",
       "    </tr>\n",
       "    <tr>\n",
       "      <th>7</th>\n",
       "      <td>0.37</td>\n",
       "      <td>42</td>\n",
       "      <td>246</td>\n",
       "      <td>204</td>\n",
       "    </tr>\n",
       "    <tr>\n",
       "      <th>8</th>\n",
       "      <td>0.38</td>\n",
       "      <td>42</td>\n",
       "      <td>246</td>\n",
       "      <td>204</td>\n",
       "    </tr>\n",
       "    <tr>\n",
       "      <th>...</th>\n",
       "      <td>...</td>\n",
       "      <td>...</td>\n",
       "      <td>...</td>\n",
       "      <td>...</td>\n",
       "    </tr>\n",
       "    <tr>\n",
       "      <th>66</th>\n",
       "      <td>0.96</td>\n",
       "      <td>42</td>\n",
       "      <td>246</td>\n",
       "      <td>204</td>\n",
       "    </tr>\n",
       "    <tr>\n",
       "      <th>67</th>\n",
       "      <td>0.97</td>\n",
       "      <td>42</td>\n",
       "      <td>246</td>\n",
       "      <td>204</td>\n",
       "    </tr>\n",
       "    <tr>\n",
       "      <th>68</th>\n",
       "      <td>0.98</td>\n",
       "      <td>42</td>\n",
       "      <td>246</td>\n",
       "      <td>204</td>\n",
       "    </tr>\n",
       "    <tr>\n",
       "      <th>69</th>\n",
       "      <td>0.99</td>\n",
       "      <td>42</td>\n",
       "      <td>246</td>\n",
       "      <td>204</td>\n",
       "    </tr>\n",
       "    <tr>\n",
       "      <th>70</th>\n",
       "      <td>1.00</td>\n",
       "      <td>42</td>\n",
       "      <td>246</td>\n",
       "      <td>204</td>\n",
       "    </tr>\n",
       "  </tbody>\n",
       "</table>\n",
       "<p>67 rows × 4 columns</p>\n",
       "</div>"
      ],
      "text/plain": [
       "    weight  delta  org_node  remain\n",
       "4     0.34     42       246     204\n",
       "5     0.35     42       246     204\n",
       "6     0.36     42       246     204\n",
       "7     0.37     42       246     204\n",
       "8     0.38     42       246     204\n",
       "..     ...    ...       ...     ...\n",
       "66    0.96     42       246     204\n",
       "67    0.97     42       246     204\n",
       "68    0.98     42       246     204\n",
       "69    0.99     42       246     204\n",
       "70    1.00     42       246     204\n",
       "\n",
       "[67 rows x 4 columns]"
      ]
     },
     "execution_count": 238,
     "metadata": {},
     "output_type": "execute_result"
    }
   ],
   "source": [
    "df_dis.loc[df_dis['delta'] == df_dis['delta'].max()]"
   ]
  },
  {
   "cell_type": "code",
   "execution_count": null,
   "id": "1a176463-dd06-467c-9d99-b40b1eed9fc2",
   "metadata": {},
   "outputs": [],
   "source": []
  },
  {
   "cell_type": "code",
   "execution_count": 152,
   "id": "2657aef3-3264-4578-8fc2-5eccb7018df1",
   "metadata": {
    "tags": []
   },
   "outputs": [],
   "source": [
    "import networkx as nx\n",
    "nx.write_gml(G, './data/test.gml')"
   ]
  },
  {
   "cell_type": "code",
   "execution_count": 239,
   "id": "52a0ba66-46f7-4024-b4d0-6f3b4be2c1c5",
   "metadata": {
    "tags": []
   },
   "outputs": [
    {
     "name": "stdout",
     "output_type": "stream",
     "text": [
      "./plots//delta_graph.png\n",
      "./plots/delta_graph.png\n"
     ]
    },
    {
     "data": {
      "image/png": "[encoded data removed]",
      "text/plain": [
       "<Figure size 800x800 with 1 Axes>"
      ]
     },
     "metadata": {},
     "output_type": "display_data"
    }
   ],
   "source": [
    "parameters =  {\n",
    "        'data': df_dis,\n",
    "        'fontsize': 30,\n",
    "        'complementary': True,\n",
    "        'tick_size':20,\n",
    "        'columns': [\n",
    "            {'column': 'delta',\n",
    "             'label': 'Delta',\n",
    "            },\n",
    "            #  {'column': 'org_node',\n",
    "            #  'label': 'Original no. of node',\n",
    "            # },\n",
    "            # {'column': 'remain',\n",
    "            #  'label': 'nodes after filtering',\n",
    "            # },\n",
    "        ],\n",
    "        'x': 'weight',\n",
    "        'xlabel': 'Edge weight',\n",
    "        'ylabel': 'Delta (Change in number of nodes)',\n",
    "        # 'legend_location': 'upper right',\n",
    "        'log_yscale': False,\n",
    "        'log_xscale': False,\n",
    "        'save': {\n",
    "            'path': './plots/',\n",
    "            'filename': 'delta_graph.png'\n",
    "        },\n",
    "        'random_color': False\n",
    "}\n",
    "\n",
    "import importlib\n",
    "\n",
    "importlib.reload(vz)\n",
    "\n",
    "vz.line_plot(parameters)"
   ]
  },
  {
   "cell_type": "code",
   "execution_count": 240,
   "id": "c2bb6c3a-ea98-45d0-9874-f6f0478b4f0d",
   "metadata": {
    "tags": []
   },
   "outputs": [],
   "source": [
    "threshold = 0.34\n",
    "df_1 = df.loc[df['weight'] >= 0.34]\n",
    "df_0 = df.loc[df['weight']<0.34]"
   ]
  },
  {
   "cell_type": "code",
   "execution_count": 241,
   "id": "a4301351-6c63-4cf4-91bd-db8af65069e7",
   "metadata": {
    "tags": []
   },
   "outputs": [
    {
     "data": {
      "text/plain": [
       "array(['control', 'io'], dtype=object)"
      ]
     },
     "execution_count": 241,
     "metadata": {},
     "output_type": "execute_result"
    }
   ],
   "source": [
    "df_1['source_label'].unique()"
   ]
  },
  {
   "cell_type": "code",
   "execution_count": 242,
   "id": "8cf3b1dd-b52e-450e-8614-ca041d7ea121",
   "metadata": {
    "tags": []
   },
   "outputs": [
    {
     "data": {
      "text/plain": [
       "array(['control', 'io'], dtype=object)"
      ]
     },
     "execution_count": 242,
     "metadata": {},
     "output_type": "execute_result"
    }
   ],
   "source": [
    "df_1['target_label'].unique()"
   ]
  },
  {
   "cell_type": "code",
   "execution_count": 243,
   "id": "3c1fa3d1-7125-4226-9fb8-7ffd79ceb16e",
   "metadata": {
    "tags": []
   },
   "outputs": [
    {
     "data": {
      "text/html": [
       "<div>\n",
       "<style scoped>\n",
       "    .dataframe tbody tr th:only-of-type {\n",
       "        vertical-align: middle;\n",
       "    }\n",
       "\n",
       "    .dataframe tbody tr th {\n",
       "        vertical-align: top;\n",
       "    }\n",
       "\n",
       "    .dataframe thead th {\n",
       "        text-align: right;\n",
       "    }\n",
       "</style>\n",
       "<table border=\"1\" class=\"dataframe\">\n",
       "  <thead>\n",
       "    <tr style=\"text-align: right;\">\n",
       "      <th></th>\n",
       "      <th>weight</th>\n",
       "      <th>pvalue</th>\n",
       "      <th>zscore</th>\n",
       "      <th>source</th>\n",
       "      <th>target</th>\n",
       "      <th>source_label</th>\n",
       "      <th>target_label</th>\n",
       "    </tr>\n",
       "  </thead>\n",
       "  <tbody>\n",
       "  </tbody>\n",
       "</table>\n",
       "</div>"
      ],
      "text/plain": [
       "Empty DataFrame\n",
       "Columns: [weight, pvalue, zscore, source, target, source_label, target_label]\n",
       "Index: []"
      ]
     },
     "execution_count": 243,
     "metadata": {},
     "output_type": "execute_result"
    }
   ],
   "source": [
    "df.loc[(df['source_label'] == 'control') & (df['target_label'] == 'io')]"
   ]
  },
  {
   "cell_type": "code",
   "execution_count": 244,
   "id": "9b97eb47-fe84-4915-80b8-be78f1f42fea",
   "metadata": {
    "tags": []
   },
   "outputs": [
    {
     "data": {
      "text/plain": [
       "32"
      ]
     },
     "execution_count": 244,
     "metadata": {},
     "output_type": "execute_result"
    }
   ],
   "source": [
    "len(df.loc[(df['source_label'] == 'io') & (df['target_label'] == 'io')])"
   ]
  },
  {
   "cell_type": "code",
   "execution_count": 245,
   "id": "5e905fba-abd7-44f5-8fc6-e3ccb17c7e6d",
   "metadata": {
    "tags": []
   },
   "outputs": [
    {
     "data": {
      "text/plain": [
       "433"
      ]
     },
     "execution_count": 245,
     "metadata": {},
     "output_type": "execute_result"
    }
   ],
   "source": [
    "len(df.loc[(df['source_label'] == 'control') & (df['target_label'] == 'control')])"
   ]
  },
  {
   "cell_type": "code",
   "execution_count": 220,
   "id": "8bcd5027-406b-41ee-8c4b-d4e2bab741a8",
   "metadata": {
    "tags": []
   },
   "outputs": [
    {
     "data": {
      "text/plain": [
       "16"
      ]
     },
     "execution_count": 220,
     "metadata": {},
     "output_type": "execute_result"
    }
   ],
   "source": [
    "len(df_1.loc[(df_1['source_label'] == 'io') & (df_1['target_label'] == 'io')])"
   ]
  },
  {
   "cell_type": "code",
   "execution_count": 223,
   "id": "5b8096e2-1fc3-4d6a-8b6f-de6181ac46d2",
   "metadata": {
    "tags": []
   },
   "outputs": [
    {
     "data": {
      "text/plain": [
       "415"
      ]
     },
     "execution_count": 223,
     "metadata": {},
     "output_type": "execute_result"
    }
   ],
   "source": [
    "len(df_1.loc[(df_1['source_label'] == 'control') & (df_1['target_label'] == 'control')])"
   ]
  },
  {
   "cell_type": "code",
   "execution_count": 219,
   "id": "7fdcc014-2fe5-4419-8201-4ddeae5ab5be",
   "metadata": {
    "tags": []
   },
   "outputs": [
    {
     "data": {
      "text/plain": [
       "16"
      ]
     },
     "execution_count": 219,
     "metadata": {},
     "output_type": "execute_result"
    }
   ],
   "source": [
    "len(df_0.loc[(df_0['source_label'] == 'io') & (df_0['target_label'] == 'io')])"
   ]
  },
  {
   "cell_type": "code",
   "execution_count": 224,
   "id": "28c18464-d9ed-403e-a7b6-a8eeec3924cd",
   "metadata": {
    "tags": []
   },
   "outputs": [
    {
     "data": {
      "text/plain": [
       "18"
      ]
     },
     "execution_count": 224,
     "metadata": {},
     "output_type": "execute_result"
    }
   ],
   "source": [
    "len(df_0.loc[(df_0['source_label'] == 'control') & (df_0['target_label'] == 'control')])"
   ]
  },
  {
   "cell_type": "code",
   "execution_count": 246,
   "id": "6b27381f-6093-4505-9a8c-7ab9ee0dd285",
   "metadata": {
    "tags": []
   },
   "outputs": [],
   "source": [
    "df_check = df\n",
    "df_check['edge_label'] = 0\n",
    "df_check.loc[df['weight'] >= 0.34, 'edge_label'] = 1"
   ]
  },
  {
   "cell_type": "code",
   "execution_count": 247,
   "id": "8fbc77df-8c18-4bdb-8321-dc1fede72d3e",
   "metadata": {
    "tags": []
   },
   "outputs": [],
   "source": [
    "df_check['act_label'] = 0\n",
    "df_check.loc[(df_check['source_label'] == 'io') & (df_check['target_label'] == 'io')] = 1"
   ]
  },
  {
   "cell_type": "code",
   "execution_count": 282,
   "id": "4548b968-4b08-4037-b5d1-a231b014310b",
   "metadata": {
    "tags": []
   },
   "outputs": [
    {
     "name": "stdout",
     "output_type": "stream",
     "text": [
      "F1 score : 0.13361169102296452\n",
      "Recall : 1.0\n",
      "Precision : 0.07158836689038031\n"
     ]
    }
   ],
   "source": [
    "y_test = df_check['act_label']\n",
    "y_test_preds = df_check['edge_label']\n",
    "print('F1 score :', f1_score(y_test,y_test_preds))\n",
    "print('Recall :', recall_score(y_test,y_test_preds))\n",
    "print('Precision :',precision_score(y_test,y_test_preds))"
   ]
  },
  {
   "cell_type": "markdown",
   "id": "d92fd76e-3dc4-4a4d-b707-225eed7e229d",
   "metadata": {
    "tags": []
   },
   "source": [
    "#### **Clustering based**"
   ]
  },
  {
   "cell_type": "code",
   "execution_count": 165,
   "id": "356968e6-93e8-421f-ad77-d314bd7f720a",
   "metadata": {
    "tags": []
   },
   "outputs": [
    {
     "name": "stdout",
     "output_type": "stream",
     "text": [
      "Degree DataFrame:\n",
      "      Node  weighted_clustering\n",
      "0        6             0.000000\n",
      "1       33             0.000000\n",
      "2       66             0.000000\n",
      "3       99             0.000000\n",
      "4      141             0.000000\n",
      "..     ...                  ...\n",
      "241  12544             0.638684\n",
      "242  12567             0.345428\n",
      "243  12570             0.471396\n",
      "244  12579             0.000000\n",
      "245  12585             0.524534\n",
      "\n",
      "[246 rows x 2 columns]\n"
     ]
    }
   ],
   "source": [
    "H = G.copy()\n",
    "    \n",
    "H = remove_isolated_nodes(H)\n",
    "weighted_clustering = nx.clustering(H, weight='weight')\n",
    "clust_df = pd.DataFrame(weighted_clustering.items(), \n",
    "                         columns=['Node', 'weighted_clustering'])\n",
    "\n",
    "# Display the DataFrame\n",
    "print(\"Degree DataFrame:\")\n",
    "print(clust_df)"
   ]
  },
  {
   "cell_type": "code",
   "execution_count": 176,
   "id": "88a47017-934b-4525-b3bc-ca2c8e23370d",
   "metadata": {
    "tags": []
   },
   "outputs": [],
   "source": [
    "df_index = pd.read_pickle('./data/retweet_index_category.pkl.gz')"
   ]
  },
  {
   "cell_type": "code",
   "execution_count": 177,
   "id": "7cbf4175-64cf-4d29-8d01-d7dba4ae6bec",
   "metadata": {
    "tags": []
   },
   "outputs": [
    {
     "data": {
      "text/html": [
       "<div>\n",
       "<style scoped>\n",
       "    .dataframe tbody tr th:only-of-type {\n",
       "        vertical-align: middle;\n",
       "    }\n",
       "\n",
       "    .dataframe tbody tr th {\n",
       "        vertical-align: top;\n",
       "    }\n",
       "\n",
       "    .dataframe thead th {\n",
       "        text-align: right;\n",
       "    }\n",
       "</style>\n",
       "<table border=\"1\" class=\"dataframe\">\n",
       "  <thead>\n",
       "    <tr style=\"text-align: right;\">\n",
       "      <th></th>\n",
       "      <th>node</th>\n",
       "      <th>category</th>\n",
       "    </tr>\n",
       "  </thead>\n",
       "  <tbody>\n",
       "    <tr>\n",
       "      <th>0</th>\n",
       "      <td>0</td>\n",
       "      <td>control</td>\n",
       "    </tr>\n",
       "    <tr>\n",
       "      <th>1</th>\n",
       "      <td>1</td>\n",
       "      <td>control</td>\n",
       "    </tr>\n",
       "    <tr>\n",
       "      <th>2</th>\n",
       "      <td>2</td>\n",
       "      <td>control</td>\n",
       "    </tr>\n",
       "    <tr>\n",
       "      <th>3</th>\n",
       "      <td>3</td>\n",
       "      <td>control</td>\n",
       "    </tr>\n",
       "    <tr>\n",
       "      <th>4</th>\n",
       "      <td>4</td>\n",
       "      <td>control</td>\n",
       "    </tr>\n",
       "    <tr>\n",
       "      <th>...</th>\n",
       "      <td>...</td>\n",
       "      <td>...</td>\n",
       "    </tr>\n",
       "    <tr>\n",
       "      <th>12581</th>\n",
       "      <td>12581</td>\n",
       "      <td>control</td>\n",
       "    </tr>\n",
       "    <tr>\n",
       "      <th>12582</th>\n",
       "      <td>12582</td>\n",
       "      <td>control</td>\n",
       "    </tr>\n",
       "    <tr>\n",
       "      <th>12583</th>\n",
       "      <td>12583</td>\n",
       "      <td>control</td>\n",
       "    </tr>\n",
       "    <tr>\n",
       "      <th>12584</th>\n",
       "      <td>12584</td>\n",
       "      <td>control</td>\n",
       "    </tr>\n",
       "    <tr>\n",
       "      <th>12585</th>\n",
       "      <td>12585</td>\n",
       "      <td>control</td>\n",
       "    </tr>\n",
       "  </tbody>\n",
       "</table>\n",
       "<p>12586 rows × 2 columns</p>\n",
       "</div>"
      ],
      "text/plain": [
       "        node category\n",
       "0          0  control\n",
       "1          1  control\n",
       "2          2  control\n",
       "3          3  control\n",
       "4          4  control\n",
       "...      ...      ...\n",
       "12581  12581  control\n",
       "12582  12582  control\n",
       "12583  12583  control\n",
       "12584  12584  control\n",
       "12585  12585  control\n",
       "\n",
       "[12586 rows x 2 columns]"
      ]
     },
     "execution_count": 177,
     "metadata": {},
     "output_type": "execute_result"
    }
   ],
   "source": [
    "df_index"
   ]
  },
  {
   "cell_type": "code",
   "execution_count": 192,
   "id": "e9edfdee-288b-442b-840f-63126bf5f730",
   "metadata": {
    "tags": []
   },
   "outputs": [],
   "source": [
    "df_merge = clust_df.merge(df_index,\n",
    "                          left_on='Node',\n",
    "                          right_on='node'\n",
    "                         )"
   ]
  },
  {
   "cell_type": "code",
   "execution_count": 193,
   "id": "6797b33b-6948-4586-9759-d4214b41fceb",
   "metadata": {
    "tags": []
   },
   "outputs": [],
   "source": [
    "df_merge_1 = df_merge.loc[df_merge['category'] == 'io']\n",
    "df_merge_0 = df_merge.loc[df_merge['category'] == 'control']"
   ]
  },
  {
   "cell_type": "code",
   "execution_count": 185,
   "id": "b0cfba05-8e7c-4cb6-b835-de08fa18e573",
   "metadata": {
    "tags": []
   },
   "outputs": [
    {
     "name": "stdout",
     "output_type": "stream",
     "text": [
      "./plots/io_control_clustering.png\n"
     ]
    },
    {
     "data": {
      "image/png": "[encoded data removed]",
      "text/plain": [
       "<Figure size 800x800 with 1 Axes>"
      ]
     },
     "metadata": {},
     "output_type": "display_data"
    }
   ],
   "source": [
    "parameters =  {\n",
    "        'data': [df_merge_1, df_merge_0],\n",
    "        'fontsize': 30,\n",
    "        'complementary': True,\n",
    "        'tick_size':20,\n",
    "        'columns': [\n",
    "            {'column': 'weighted_clustering',\n",
    "             'label': 'IO',\n",
    "            },\n",
    "             {'column': 'weighted_clustering',\n",
    "             'label': 'Control',\n",
    "            }\n",
    "        ],\n",
    "        'xlabel': 'weighted_clustering coefficient',\n",
    "        'ylabel': '',\n",
    "        'legend_location': 'upper right',\n",
    "        'log_yscale': False,\n",
    "        'log_xscale': False,\n",
    "        'save': {\n",
    "            'path': './plots/',\n",
    "            'filename': 'io_control_clustering.png'\n",
    "        },\n",
    "        'random_color': False\n",
    "    }\n",
    "\n",
    "vz.ccdf(parameters)"
   ]
  },
  {
   "cell_type": "code",
   "execution_count": 190,
   "id": "b0501432-9c5f-4436-8d07-309946625982",
   "metadata": {
    "tags": []
   },
   "outputs": [
    {
     "data": {
      "text/html": [
       "<div>\n",
       "<style scoped>\n",
       "    .dataframe tbody tr th:only-of-type {\n",
       "        vertical-align: middle;\n",
       "    }\n",
       "\n",
       "    .dataframe tbody tr th {\n",
       "        vertical-align: top;\n",
       "    }\n",
       "\n",
       "    .dataframe thead th {\n",
       "        text-align: right;\n",
       "    }\n",
       "</style>\n",
       "<table border=\"1\" class=\"dataframe\">\n",
       "  <thead>\n",
       "    <tr style=\"text-align: right;\">\n",
       "      <th></th>\n",
       "      <th>Node</th>\n",
       "      <th>weighted_clustering</th>\n",
       "      <th>node</th>\n",
       "      <th>category</th>\n",
       "      <th>label</th>\n",
       "    </tr>\n",
       "  </thead>\n",
       "  <tbody>\n",
       "    <tr>\n",
       "      <th>0</th>\n",
       "      <td>6</td>\n",
       "      <td>0.0</td>\n",
       "      <td>6</td>\n",
       "      <td>control</td>\n",
       "      <td>0</td>\n",
       "    </tr>\n",
       "    <tr>\n",
       "      <th>1</th>\n",
       "      <td>33</td>\n",
       "      <td>0.0</td>\n",
       "      <td>33</td>\n",
       "      <td>control</td>\n",
       "      <td>0</td>\n",
       "    </tr>\n",
       "    <tr>\n",
       "      <th>2</th>\n",
       "      <td>66</td>\n",
       "      <td>0.0</td>\n",
       "      <td>66</td>\n",
       "      <td>control</td>\n",
       "      <td>0</td>\n",
       "    </tr>\n",
       "    <tr>\n",
       "      <th>3</th>\n",
       "      <td>99</td>\n",
       "      <td>0.0</td>\n",
       "      <td>99</td>\n",
       "      <td>control</td>\n",
       "      <td>0</td>\n",
       "    </tr>\n",
       "    <tr>\n",
       "      <th>4</th>\n",
       "      <td>141</td>\n",
       "      <td>0.0</td>\n",
       "      <td>141</td>\n",
       "      <td>control</td>\n",
       "      <td>0</td>\n",
       "    </tr>\n",
       "  </tbody>\n",
       "</table>\n",
       "</div>"
      ],
      "text/plain": [
       "   Node  weighted_clustering  node category  label\n",
       "0     6                  0.0     6  control      0\n",
       "1    33                  0.0    33  control      0\n",
       "2    66                  0.0    66  control      0\n",
       "3    99                  0.0    99  control      0\n",
       "4   141                  0.0   141  control      0"
      ]
     },
     "execution_count": 190,
     "metadata": {},
     "output_type": "execute_result"
    }
   ],
   "source": [
    "df_merge.head()"
   ]
  },
  {
   "cell_type": "code",
   "execution_count": 194,
   "id": "9c9fe838-2746-4d2b-a8bf-2244a0a8ac4a",
   "metadata": {
    "tags": []
   },
   "outputs": [],
   "source": [
    "df_merge['label'] = 0\n",
    "df_merge.loc[df_merge['category'] == 'io', 'label'] = 1"
   ]
  },
  {
   "cell_type": "code",
   "execution_count": 198,
   "id": "b23f45e2-be12-4c0d-8ae5-282a81233312",
   "metadata": {
    "tags": []
   },
   "outputs": [],
   "source": [
    "from sklearn.metrics import roc_curve, roc_auc_score"
   ]
  },
  {
   "cell_type": "code",
   "execution_count": 267,
   "id": "0ca0ae36-a9f9-42c7-afab-713ef43dafb4",
   "metadata": {
    "tags": []
   },
   "outputs": [],
   "source": [
    "y_test = df_merge['label']\n",
    "y_probs = df_merge['weighted_clustering']\n",
    "fpr, tpr, thresholds = roc_curve(y_test, y_probs)\n"
   ]
  },
  {
   "cell_type": "code",
   "execution_count": 268,
   "id": "764a4279-4d74-4971-a66c-26ba76b87e7c",
   "metadata": {
    "tags": []
   },
   "outputs": [
    {
     "data": {
      "image/png": "[encoded data removed]",
      "text/plain": [
       "<Figure size 1000x600 with 1 Axes>"
      ]
     },
     "metadata": {},
     "output_type": "display_data"
    }
   ],
   "source": [
    "# Plot the ROC curve\n",
    "import matplotlib.pyplot as plt\n",
    "roc_auc = roc_auc_score(y_test, y_probs)\n",
    "\n",
    "plt.figure(figsize=(10, 6))\n",
    "plt.plot(fpr, tpr, color='blue', lw=2, label=f'ROC curve (AUC = {roc_auc:.2f})')\n",
    "plt.plot([0, 1], [0, 1], color='gray', lw=2, linestyle='--')\n",
    "plt.xlim([0.0, 1.0])\n",
    "plt.ylim([0.0, 1.05])\n",
    "plt.xlabel('False Positive Rate')\n",
    "plt.ylabel('True Positive Rate')\n",
    "plt.title('Receiver Operating Characteristic (ROC) Curve')\n",
    "plt.legend(loc=\"lower right\")\n",
    "plt.grid()\n",
    "plt.show()"
   ]
  },
  {
   "cell_type": "markdown",
   "id": "db8494a3-8ac6-4d3f-970d-3a9d65aefe42",
   "metadata": {
    "tags": []
   },
   "source": [
    "#### **Pvalue**"
   ]
  },
  {
   "cell_type": "code",
   "execution_count": 207,
   "id": "58760135-1199-4646-8e06-90ad1afac21a",
   "metadata": {
    "tags": []
   },
   "outputs": [
    {
     "data": {
      "image/png": "[encoded data removed]",
      "text/plain": [
       "<Figure size 800x800 with 1 Axes>"
      ]
     },
     "metadata": {},
     "output_type": "display_data"
    }
   ],
   "source": [
    "import coordinationz.visualization as vz\n",
    "\n",
    "parameters =  {\n",
    "        'data': df,\n",
    "        'fontsize': 14,\n",
    "        'columns': {\n",
    "            'y': 'pvalue',\n",
    "            'x': 'weight',\n",
    "        },\n",
    "        'alpha': 0.5,\n",
    "        'marker_size': 5,\n",
    "        'marker': None,\n",
    "        'xlabel': 'edge weight',\n",
    "        'ylabel': 'pvalue',\n",
    "        'legend_location': '',\n",
    "        'log_yscale': False,\n",
    "        'log_xscale': False,\n",
    "        'bins': None,\n",
    "        'title': f'',\n",
    "        'save': {\n",
    "            'path': f'./plots',\n",
    "            'filename': f'cuba_weight_pvalue.png'\n",
    "        },\n",
    "    }\n",
    "\n",
    "vz.scatter_plot(parameters)"
   ]
  },
  {
   "cell_type": "markdown",
   "id": "6536a8c1-da69-424c-948b-a3eba05a8db2",
   "metadata": {},
   "source": [
    "#### **Test train**"
   ]
  },
  {
   "cell_type": "code",
   "execution_count": 276,
   "id": "c2cc0b1b-f26f-435d-a127-3098b5071523",
   "metadata": {
    "tags": []
   },
   "outputs": [],
   "source": [
    "import pandas as pd\n",
    "import numpy as np\n",
    "\n",
    "from sklearn.metrics import f1_score,precision_score,recall_score\n",
    "from sklearn.model_selection import StratifiedKFold\n",
    "\n",
    "def evaluation_metrics(labels_map,n_splits=5):\n",
    "    \"\"\"\n",
    "    Args:\n",
    "        label_map: dataframe with the classification label for each userid (columns = ['userid', 'label' (0 or 1),'eigen_centrality])\n",
    "    Returns:\n",
    "        Average Performance across 10 folds\n",
    "    \"\"\"\n",
    "\n",
    "    skf = StratifiedKFold(n_splits=n_splits)\n",
    "    X = labels_map[['node','weighted_clustering']]\n",
    "    y = labels_map['label']\n",
    "    skf.get_n_splits(X, y)\n",
    "\n",
    "    metrics = {\"f1_score\":0,\"recall\":0,\"precision\":0}\n",
    "\n",
    "    for fold, (train_index, test_index) in enumerate(skf.split(X, y)):\n",
    "        X_train, X_test = X.iloc[train_index], X.iloc[test_index]\n",
    "        y_train, y_test = y.iloc[train_index], y.iloc[test_index]\n",
    "\n",
    "        # thresh = [i for i in range(1,100,2)]\n",
    "        thresh = np.arange(0,1.01,0.01)\n",
    "        # print(thresh)\n",
    "        # centrality_ranges = [np.percentile(\n",
    "        #     X_train['weighted_clustering'].values,t\n",
    "        # ) for t in thresh]\n",
    "        labels_map['weighted_clustering'] = labels_map['weighted_clustering'].apply(\n",
    "            lambda x: round(x,2)\n",
    "        )\n",
    "        centrality_ranges = labels_map.sort_values(by=['weighted_clustering'],\n",
    "                                                   ascending=True\n",
    "                                                  )['weighted_clustering'].tolist()\n",
    "        max_centrality_range = -1\n",
    "        max_f1_score = -1\n",
    "        for cent in centrality_ranges:\n",
    "            new_y_train = X_test['weighted_clustering'].apply(lambda x: 1 if x>=cent else 0)\n",
    "            if(max_f1_score<f1_score(new_y_train,y_train)):\n",
    "                max_f1_score = f1_score(new_y_train,y_train)\n",
    "                max_centrality_range = cent\n",
    "\n",
    "        y_test_preds = X_test['weighted_clustering'].apply(lambda x: 1 if x>=max_centrality_range else 0)\n",
    "\n",
    "        metrics['f1_score']+=f1_score(y_test,y_test_preds)\n",
    "        metrics['recall']+=recall_score(y_test,y_test_preds)\n",
    "        metrics['precision']+=precision_score(y_test,y_test_preds)\n",
    "\n",
    "    metrics['f1_score']/=float(n_splits)\n",
    "    metrics['recall']/=float(n_splits)\n",
    "    metrics['precision']/=float(n_splits)\n",
    "\n",
    "    return metrics"
   ]
  },
  {
   "cell_type": "code",
   "execution_count": 250,
   "id": "50d81812-3c56-4f66-a3df-4d1ae458d6bd",
   "metadata": {
    "tags": []
   },
   "outputs": [
    {
     "data": {
      "text/html": [
       "<div>\n",
       "<style scoped>\n",
       "    .dataframe tbody tr th:only-of-type {\n",
       "        vertical-align: middle;\n",
       "    }\n",
       "\n",
       "    .dataframe tbody tr th {\n",
       "        vertical-align: top;\n",
       "    }\n",
       "\n",
       "    .dataframe thead th {\n",
       "        text-align: right;\n",
       "    }\n",
       "</style>\n",
       "<table border=\"1\" class=\"dataframe\">\n",
       "  <thead>\n",
       "    <tr style=\"text-align: right;\">\n",
       "      <th></th>\n",
       "      <th>Node</th>\n",
       "      <th>weighted_clustering</th>\n",
       "      <th>node</th>\n",
       "      <th>category</th>\n",
       "      <th>label</th>\n",
       "    </tr>\n",
       "  </thead>\n",
       "  <tbody>\n",
       "    <tr>\n",
       "      <th>0</th>\n",
       "      <td>6</td>\n",
       "      <td>0.0</td>\n",
       "      <td>6</td>\n",
       "      <td>control</td>\n",
       "      <td>0</td>\n",
       "    </tr>\n",
       "    <tr>\n",
       "      <th>1</th>\n",
       "      <td>33</td>\n",
       "      <td>0.0</td>\n",
       "      <td>33</td>\n",
       "      <td>control</td>\n",
       "      <td>0</td>\n",
       "    </tr>\n",
       "    <tr>\n",
       "      <th>2</th>\n",
       "      <td>66</td>\n",
       "      <td>0.0</td>\n",
       "      <td>66</td>\n",
       "      <td>control</td>\n",
       "      <td>0</td>\n",
       "    </tr>\n",
       "    <tr>\n",
       "      <th>3</th>\n",
       "      <td>99</td>\n",
       "      <td>0.0</td>\n",
       "      <td>99</td>\n",
       "      <td>control</td>\n",
       "      <td>0</td>\n",
       "    </tr>\n",
       "    <tr>\n",
       "      <th>4</th>\n",
       "      <td>141</td>\n",
       "      <td>0.0</td>\n",
       "      <td>141</td>\n",
       "      <td>control</td>\n",
       "      <td>0</td>\n",
       "    </tr>\n",
       "  </tbody>\n",
       "</table>\n",
       "</div>"
      ],
      "text/plain": [
       "   Node  weighted_clustering  node category  label\n",
       "0     6                  0.0     6  control      0\n",
       "1    33                  0.0    33  control      0\n",
       "2    66                  0.0    66  control      0\n",
       "3    99                  0.0    99  control      0\n",
       "4   141                  0.0   141  control      0"
      ]
     },
     "execution_count": 250,
     "metadata": {},
     "output_type": "execute_result"
    }
   ],
   "source": [
    "df_merge.head()"
   ]
  },
  {
   "cell_type": "code",
   "execution_count": 260,
   "id": "da1b290e-8df2-4149-9ebe-cc59ec34b1fc",
   "metadata": {
    "tags": []
   },
   "outputs": [
    {
     "data": {
      "text/plain": [
       "205"
      ]
     },
     "execution_count": 260,
     "metadata": {},
     "output_type": "execute_result"
    }
   ],
   "source": [
    "len(df_merge.loc[df_merge['category'] == 'control'])"
   ]
  },
  {
   "cell_type": "code",
   "execution_count": 261,
   "id": "01293ffb-9201-4d33-a7f4-faeb271a9052",
   "metadata": {
    "tags": []
   },
   "outputs": [
    {
     "data": {
      "text/plain": [
       "41"
      ]
     },
     "execution_count": 261,
     "metadata": {},
     "output_type": "execute_result"
    }
   ],
   "source": [
    "len(df_merge.loc[df_merge['category'] == 'io'])"
   ]
  },
  {
   "cell_type": "code",
   "execution_count": 277,
   "id": "aefa5684-172d-43fc-9357-fd7f49b1c4ba",
   "metadata": {
    "tags": []
   },
   "outputs": [
    {
     "ename": "ValueError",
     "evalue": "Found input variables with inconsistent numbers of samples: [82, 164]",
     "output_type": "error",
     "traceback": [
      "\u001b[0;31m---------------------------------------------------------------------------\u001b[0m",
      "\u001b[0;31mValueError\u001b[0m                                Traceback (most recent call last)",
      "Cell \u001b[0;32mIn[277], line 1\u001b[0m\n\u001b[0;32m----> 1\u001b[0m \u001b[43mevaluation_metrics\u001b[49m\u001b[43m(\u001b[49m\u001b[43mdf_merge\u001b[49m\u001b[43m,\u001b[49m\u001b[43mn_splits\u001b[49m\u001b[38;5;241;43m=\u001b[39;49m\u001b[38;5;241;43m3\u001b[39;49m\u001b[43m)\u001b[49m\n",
      "Cell \u001b[0;32mIn[276], line 42\u001b[0m, in \u001b[0;36mevaluation_metrics\u001b[0;34m(labels_map, n_splits)\u001b[0m\n\u001b[1;32m     40\u001b[0m \u001b[38;5;28;01mfor\u001b[39;00m cent \u001b[38;5;129;01min\u001b[39;00m centrality_ranges:\n\u001b[1;32m     41\u001b[0m     new_y_train \u001b[38;5;241m=\u001b[39m X_test[\u001b[38;5;124m'\u001b[39m\u001b[38;5;124mweighted_clustering\u001b[39m\u001b[38;5;124m'\u001b[39m]\u001b[38;5;241m.\u001b[39mapply(\u001b[38;5;28;01mlambda\u001b[39;00m x: \u001b[38;5;241m1\u001b[39m \u001b[38;5;28;01mif\u001b[39;00m x\u001b[38;5;241m>\u001b[39m\u001b[38;5;241m=\u001b[39mcent \u001b[38;5;28;01melse\u001b[39;00m \u001b[38;5;241m0\u001b[39m)\n\u001b[0;32m---> 42\u001b[0m     \u001b[38;5;28;01mif\u001b[39;00m(max_f1_score\u001b[38;5;241m<\u001b[39m\u001b[43mf1_score\u001b[49m\u001b[43m(\u001b[49m\u001b[43mnew_y_train\u001b[49m\u001b[43m,\u001b[49m\u001b[43my_train\u001b[49m\u001b[43m)\u001b[49m):\n\u001b[1;32m     43\u001b[0m         max_f1_score \u001b[38;5;241m=\u001b[39m f1_score(new_y_train,y_train)\n\u001b[1;32m     44\u001b[0m         max_centrality_range \u001b[38;5;241m=\u001b[39m cent\n",
      "File \u001b[0;32m/N/slate/potem/miniconda3/lib/python3.10/site-packages/sklearn/metrics/_classification.py:1146\u001b[0m, in \u001b[0;36mf1_score\u001b[0;34m(y_true, y_pred, labels, pos_label, average, sample_weight, zero_division)\u001b[0m\n\u001b[1;32m   1011\u001b[0m \u001b[38;5;28;01mdef\u001b[39;00m \u001b[38;5;21mf1_score\u001b[39m(\n\u001b[1;32m   1012\u001b[0m     y_true,\n\u001b[1;32m   1013\u001b[0m     y_pred,\n\u001b[0;32m   (...)\u001b[0m\n\u001b[1;32m   1019\u001b[0m     zero_division\u001b[38;5;241m=\u001b[39m\u001b[38;5;124m\"\u001b[39m\u001b[38;5;124mwarn\u001b[39m\u001b[38;5;124m\"\u001b[39m,\n\u001b[1;32m   1020\u001b[0m ):\n\u001b[1;32m   1021\u001b[0m \u001b[38;5;250m    \u001b[39m\u001b[38;5;124;03m\"\"\"Compute the F1 score, also known as balanced F-score or F-measure.\u001b[39;00m\n\u001b[1;32m   1022\u001b[0m \n\u001b[1;32m   1023\u001b[0m \u001b[38;5;124;03m    The F1 score can be interpreted as a harmonic mean of the precision and\u001b[39;00m\n\u001b[0;32m   (...)\u001b[0m\n\u001b[1;32m   1144\u001b[0m \u001b[38;5;124;03m    array([0.66666667, 1.        , 0.66666667])\u001b[39;00m\n\u001b[1;32m   1145\u001b[0m \u001b[38;5;124;03m    \"\"\"\u001b[39;00m\n\u001b[0;32m-> 1146\u001b[0m     \u001b[38;5;28;01mreturn\u001b[39;00m \u001b[43mfbeta_score\u001b[49m\u001b[43m(\u001b[49m\n\u001b[1;32m   1147\u001b[0m \u001b[43m        \u001b[49m\u001b[43my_true\u001b[49m\u001b[43m,\u001b[49m\n\u001b[1;32m   1148\u001b[0m \u001b[43m        \u001b[49m\u001b[43my_pred\u001b[49m\u001b[43m,\u001b[49m\n\u001b[1;32m   1149\u001b[0m \u001b[43m        \u001b[49m\u001b[43mbeta\u001b[49m\u001b[38;5;241;43m=\u001b[39;49m\u001b[38;5;241;43m1\u001b[39;49m\u001b[43m,\u001b[49m\n\u001b[1;32m   1150\u001b[0m \u001b[43m        \u001b[49m\u001b[43mlabels\u001b[49m\u001b[38;5;241;43m=\u001b[39;49m\u001b[43mlabels\u001b[49m\u001b[43m,\u001b[49m\n\u001b[1;32m   1151\u001b[0m \u001b[43m        \u001b[49m\u001b[43mpos_label\u001b[49m\u001b[38;5;241;43m=\u001b[39;49m\u001b[43mpos_label\u001b[49m\u001b[43m,\u001b[49m\n\u001b[1;32m   1152\u001b[0m \u001b[43m        \u001b[49m\u001b[43maverage\u001b[49m\u001b[38;5;241;43m=\u001b[39;49m\u001b[43maverage\u001b[49m\u001b[43m,\u001b[49m\n\u001b[1;32m   1153\u001b[0m \u001b[43m        \u001b[49m\u001b[43msample_weight\u001b[49m\u001b[38;5;241;43m=\u001b[39;49m\u001b[43msample_weight\u001b[49m\u001b[43m,\u001b[49m\n\u001b[1;32m   1154\u001b[0m \u001b[43m        \u001b[49m\u001b[43mzero_division\u001b[49m\u001b[38;5;241;43m=\u001b[39;49m\u001b[43mzero_division\u001b[49m\u001b[43m,\u001b[49m\n\u001b[1;32m   1155\u001b[0m \u001b[43m    \u001b[49m\u001b[43m)\u001b[49m\n",
      "File \u001b[0;32m/N/slate/potem/miniconda3/lib/python3.10/site-packages/sklearn/metrics/_classification.py:1287\u001b[0m, in \u001b[0;36mfbeta_score\u001b[0;34m(y_true, y_pred, beta, labels, pos_label, average, sample_weight, zero_division)\u001b[0m\n\u001b[1;32m   1158\u001b[0m \u001b[38;5;28;01mdef\u001b[39;00m \u001b[38;5;21mfbeta_score\u001b[39m(\n\u001b[1;32m   1159\u001b[0m     y_true,\n\u001b[1;32m   1160\u001b[0m     y_pred,\n\u001b[0;32m   (...)\u001b[0m\n\u001b[1;32m   1167\u001b[0m     zero_division\u001b[38;5;241m=\u001b[39m\u001b[38;5;124m\"\u001b[39m\u001b[38;5;124mwarn\u001b[39m\u001b[38;5;124m\"\u001b[39m,\n\u001b[1;32m   1168\u001b[0m ):\n\u001b[1;32m   1169\u001b[0m \u001b[38;5;250m    \u001b[39m\u001b[38;5;124;03m\"\"\"Compute the F-beta score.\u001b[39;00m\n\u001b[1;32m   1170\u001b[0m \n\u001b[1;32m   1171\u001b[0m \u001b[38;5;124;03m    The F-beta score is the weighted harmonic mean of precision and recall,\u001b[39;00m\n\u001b[0;32m   (...)\u001b[0m\n\u001b[1;32m   1284\u001b[0m \u001b[38;5;124;03m    array([0.71..., 0.        , 0.        ])\u001b[39;00m\n\u001b[1;32m   1285\u001b[0m \u001b[38;5;124;03m    \"\"\"\u001b[39;00m\n\u001b[0;32m-> 1287\u001b[0m     _, _, f, _ \u001b[38;5;241m=\u001b[39m \u001b[43mprecision_recall_fscore_support\u001b[49m\u001b[43m(\u001b[49m\n\u001b[1;32m   1288\u001b[0m \u001b[43m        \u001b[49m\u001b[43my_true\u001b[49m\u001b[43m,\u001b[49m\n\u001b[1;32m   1289\u001b[0m \u001b[43m        \u001b[49m\u001b[43my_pred\u001b[49m\u001b[43m,\u001b[49m\n\u001b[1;32m   1290\u001b[0m \u001b[43m        \u001b[49m\u001b[43mbeta\u001b[49m\u001b[38;5;241;43m=\u001b[39;49m\u001b[43mbeta\u001b[49m\u001b[43m,\u001b[49m\n\u001b[1;32m   1291\u001b[0m \u001b[43m        \u001b[49m\u001b[43mlabels\u001b[49m\u001b[38;5;241;43m=\u001b[39;49m\u001b[43mlabels\u001b[49m\u001b[43m,\u001b[49m\n\u001b[1;32m   1292\u001b[0m \u001b[43m        \u001b[49m\u001b[43mpos_label\u001b[49m\u001b[38;5;241;43m=\u001b[39;49m\u001b[43mpos_label\u001b[49m\u001b[43m,\u001b[49m\n\u001b[1;32m   1293\u001b[0m \u001b[43m        \u001b[49m\u001b[43maverage\u001b[49m\u001b[38;5;241;43m=\u001b[39;49m\u001b[43maverage\u001b[49m\u001b[43m,\u001b[49m\n\u001b[1;32m   1294\u001b[0m \u001b[43m        \u001b[49m\u001b[43mwarn_for\u001b[49m\u001b[38;5;241;43m=\u001b[39;49m\u001b[43m(\u001b[49m\u001b[38;5;124;43m\"\u001b[39;49m\u001b[38;5;124;43mf-score\u001b[39;49m\u001b[38;5;124;43m\"\u001b[39;49m\u001b[43m,\u001b[49m\u001b[43m)\u001b[49m\u001b[43m,\u001b[49m\n\u001b[1;32m   1295\u001b[0m \u001b[43m        \u001b[49m\u001b[43msample_weight\u001b[49m\u001b[38;5;241;43m=\u001b[39;49m\u001b[43msample_weight\u001b[49m\u001b[43m,\u001b[49m\n\u001b[1;32m   1296\u001b[0m \u001b[43m        \u001b[49m\u001b[43mzero_division\u001b[49m\u001b[38;5;241;43m=\u001b[39;49m\u001b[43mzero_division\u001b[49m\u001b[43m,\u001b[49m\n\u001b[1;32m   1297\u001b[0m \u001b[43m    \u001b[49m\u001b[43m)\u001b[49m\n\u001b[1;32m   1298\u001b[0m     \u001b[38;5;28;01mreturn\u001b[39;00m f\n",
      "File \u001b[0;32m/N/slate/potem/miniconda3/lib/python3.10/site-packages/sklearn/metrics/_classification.py:1573\u001b[0m, in \u001b[0;36mprecision_recall_fscore_support\u001b[0;34m(y_true, y_pred, beta, labels, pos_label, average, warn_for, sample_weight, zero_division)\u001b[0m\n\u001b[1;32m   1571\u001b[0m \u001b[38;5;28;01mif\u001b[39;00m beta \u001b[38;5;241m<\u001b[39m \u001b[38;5;241m0\u001b[39m:\n\u001b[1;32m   1572\u001b[0m     \u001b[38;5;28;01mraise\u001b[39;00m \u001b[38;5;167;01mValueError\u001b[39;00m(\u001b[38;5;124m\"\u001b[39m\u001b[38;5;124mbeta should be >=0 in the F-beta score\u001b[39m\u001b[38;5;124m\"\u001b[39m)\n\u001b[0;32m-> 1573\u001b[0m labels \u001b[38;5;241m=\u001b[39m \u001b[43m_check_set_wise_labels\u001b[49m\u001b[43m(\u001b[49m\u001b[43my_true\u001b[49m\u001b[43m,\u001b[49m\u001b[43m \u001b[49m\u001b[43my_pred\u001b[49m\u001b[43m,\u001b[49m\u001b[43m \u001b[49m\u001b[43maverage\u001b[49m\u001b[43m,\u001b[49m\u001b[43m \u001b[49m\u001b[43mlabels\u001b[49m\u001b[43m,\u001b[49m\u001b[43m \u001b[49m\u001b[43mpos_label\u001b[49m\u001b[43m)\u001b[49m\n\u001b[1;32m   1575\u001b[0m \u001b[38;5;66;03m# Calculate tp_sum, pred_sum, true_sum ###\u001b[39;00m\n\u001b[1;32m   1576\u001b[0m samplewise \u001b[38;5;241m=\u001b[39m average \u001b[38;5;241m==\u001b[39m \u001b[38;5;124m\"\u001b[39m\u001b[38;5;124msamples\u001b[39m\u001b[38;5;124m\"\u001b[39m\n",
      "File \u001b[0;32m/N/slate/potem/miniconda3/lib/python3.10/site-packages/sklearn/metrics/_classification.py:1374\u001b[0m, in \u001b[0;36m_check_set_wise_labels\u001b[0;34m(y_true, y_pred, average, labels, pos_label)\u001b[0m\n\u001b[1;32m   1371\u001b[0m \u001b[38;5;28;01mif\u001b[39;00m average \u001b[38;5;129;01mnot\u001b[39;00m \u001b[38;5;129;01min\u001b[39;00m average_options \u001b[38;5;129;01mand\u001b[39;00m average \u001b[38;5;241m!=\u001b[39m \u001b[38;5;124m\"\u001b[39m\u001b[38;5;124mbinary\u001b[39m\u001b[38;5;124m\"\u001b[39m:\n\u001b[1;32m   1372\u001b[0m     \u001b[38;5;28;01mraise\u001b[39;00m \u001b[38;5;167;01mValueError\u001b[39;00m(\u001b[38;5;124m\"\u001b[39m\u001b[38;5;124maverage has to be one of \u001b[39m\u001b[38;5;124m\"\u001b[39m \u001b[38;5;241m+\u001b[39m \u001b[38;5;28mstr\u001b[39m(average_options))\n\u001b[0;32m-> 1374\u001b[0m y_type, y_true, y_pred \u001b[38;5;241m=\u001b[39m \u001b[43m_check_targets\u001b[49m\u001b[43m(\u001b[49m\u001b[43my_true\u001b[49m\u001b[43m,\u001b[49m\u001b[43m \u001b[49m\u001b[43my_pred\u001b[49m\u001b[43m)\u001b[49m\n\u001b[1;32m   1375\u001b[0m \u001b[38;5;66;03m# Convert to Python primitive type to avoid NumPy type / Python str\u001b[39;00m\n\u001b[1;32m   1376\u001b[0m \u001b[38;5;66;03m# comparison. See https://github.com/numpy/numpy/issues/6784\u001b[39;00m\n\u001b[1;32m   1377\u001b[0m present_labels \u001b[38;5;241m=\u001b[39m unique_labels(y_true, y_pred)\u001b[38;5;241m.\u001b[39mtolist()\n",
      "File \u001b[0;32m/N/slate/potem/miniconda3/lib/python3.10/site-packages/sklearn/metrics/_classification.py:86\u001b[0m, in \u001b[0;36m_check_targets\u001b[0;34m(y_true, y_pred)\u001b[0m\n\u001b[1;32m     59\u001b[0m \u001b[38;5;28;01mdef\u001b[39;00m \u001b[38;5;21m_check_targets\u001b[39m(y_true, y_pred):\n\u001b[1;32m     60\u001b[0m \u001b[38;5;250m    \u001b[39m\u001b[38;5;124;03m\"\"\"Check that y_true and y_pred belong to the same classification task.\u001b[39;00m\n\u001b[1;32m     61\u001b[0m \n\u001b[1;32m     62\u001b[0m \u001b[38;5;124;03m    This converts multiclass or binary types to a common shape, and raises a\u001b[39;00m\n\u001b[0;32m   (...)\u001b[0m\n\u001b[1;32m     84\u001b[0m \u001b[38;5;124;03m    y_pred : array or indicator matrix\u001b[39;00m\n\u001b[1;32m     85\u001b[0m \u001b[38;5;124;03m    \"\"\"\u001b[39;00m\n\u001b[0;32m---> 86\u001b[0m     \u001b[43mcheck_consistent_length\u001b[49m\u001b[43m(\u001b[49m\u001b[43my_true\u001b[49m\u001b[43m,\u001b[49m\u001b[43m \u001b[49m\u001b[43my_pred\u001b[49m\u001b[43m)\u001b[49m\n\u001b[1;32m     87\u001b[0m     type_true \u001b[38;5;241m=\u001b[39m type_of_target(y_true, input_name\u001b[38;5;241m=\u001b[39m\u001b[38;5;124m\"\u001b[39m\u001b[38;5;124my_true\u001b[39m\u001b[38;5;124m\"\u001b[39m)\n\u001b[1;32m     88\u001b[0m     type_pred \u001b[38;5;241m=\u001b[39m type_of_target(y_pred, input_name\u001b[38;5;241m=\u001b[39m\u001b[38;5;124m\"\u001b[39m\u001b[38;5;124my_pred\u001b[39m\u001b[38;5;124m\"\u001b[39m)\n",
      "File \u001b[0;32m/N/slate/potem/miniconda3/lib/python3.10/site-packages/sklearn/utils/validation.py:397\u001b[0m, in \u001b[0;36mcheck_consistent_length\u001b[0;34m(*arrays)\u001b[0m\n\u001b[1;32m    395\u001b[0m uniques \u001b[38;5;241m=\u001b[39m np\u001b[38;5;241m.\u001b[39munique(lengths)\n\u001b[1;32m    396\u001b[0m \u001b[38;5;28;01mif\u001b[39;00m \u001b[38;5;28mlen\u001b[39m(uniques) \u001b[38;5;241m>\u001b[39m \u001b[38;5;241m1\u001b[39m:\n\u001b[0;32m--> 397\u001b[0m     \u001b[38;5;28;01mraise\u001b[39;00m \u001b[38;5;167;01mValueError\u001b[39;00m(\n\u001b[1;32m    398\u001b[0m         \u001b[38;5;124m\"\u001b[39m\u001b[38;5;124mFound input variables with inconsistent numbers of samples: \u001b[39m\u001b[38;5;132;01m%r\u001b[39;00m\u001b[38;5;124m\"\u001b[39m\n\u001b[1;32m    399\u001b[0m         \u001b[38;5;241m%\u001b[39m [\u001b[38;5;28mint\u001b[39m(l) \u001b[38;5;28;01mfor\u001b[39;00m l \u001b[38;5;129;01min\u001b[39;00m lengths]\n\u001b[1;32m    400\u001b[0m     )\n",
      "\u001b[0;31mValueError\u001b[0m: Found input variables with inconsistent numbers of samples: [82, 164]"
     ]
    }
   ],
   "source": [
    "evaluation_metrics(df_merge,n_splits=3)"
   ]
  },
  {
   "cell_type": "code",
   "execution_count": 294,
   "id": "85519a58-c75b-4397-821e-8ed6d47aa094",
   "metadata": {},
   "outputs": [
    {
     "name": "stdout",
     "output_type": "stream",
     "text": [
      "(6, {'Label': '1000522498268680193', 'category': 'control', 'left_degree': 43.0})\n"
     ]
    }
   ],
   "source": [
    "for node in H.nodes(data=True):\n",
    "    print(node)\n",
    "    break"
   ]
  },
  {
   "cell_type": "code",
   "execution_count": 293,
   "id": "df91d430-3936-43b6-9420-5852de09370e",
   "metadata": {
    "tags": []
   },
   "outputs": [
    {
     "name": "stdout",
     "output_type": "stream",
     "text": [
      "{'weight': 0.32671197774031946, 'pvalue': 1e-05, 'zscore': 374.0184499987242}\n"
     ]
    }
   ],
   "source": [
    "for u, v, attr in H.edges(data=True):\n",
    "    print(attr)\n",
    "    break"
   ]
  },
  {
   "cell_type": "code",
   "execution_count": 287,
   "id": "41177c29-64dc-4437-ade9-bb3c1470c111",
   "metadata": {
    "tags": []
   },
   "outputs": [],
   "source": [
    "import networkx as nx\n",
    "nx.write_gml(H, './data/test_H.gml')"
   ]
  },
  {
   "cell_type": "code",
   "execution_count": 291,
   "id": "8097212a-4a95-45a8-9fd0-e88673eee78d",
   "metadata": {
    "tags": []
   },
   "outputs": [
    {
     "name": "stdout",
     "output_type": "stream",
     "text": [
      "(0, {'color': 'red'})\n"
     ]
    }
   ],
   "source": [
    "G = nx.Graph()\n",
    "G.add_node(0)\n",
    "nx.set_node_attributes(G, {0: \"red\", 1: \"blue\"}, name=\"color\")\n",
    "for  node in G.nodes(data=True):\n",
    "    print(node)\n",
    "    break"
   ]
  },
  {
   "cell_type": "code",
   "execution_count": 292,
   "id": "d747aeb4-f34c-4cd4-a604-09767d091015",
   "metadata": {
    "tags": []
   },
   "outputs": [],
   "source": [
    "nx.write_gexf(H, \"./data/test.gexf\")"
   ]
  },
  {
   "cell_type": "code",
   "execution_count": null,
   "id": "69b143c6-a398-45c1-a622-9a2952a7a039",
   "metadata": {},
   "outputs": [],
   "source": []
  }
 ],
 "metadata": {
  "kernelspec": {
   "display_name": "Python 3 (ipykernel)",
   "language": "python",
   "name": "python3"
  },
  "language_info": {
   "codemirror_mode": {
    "name": "ipython",
    "version": 3
   },
   "file_extension": ".py",
   "mimetype": "text/x-python",
   "name": "python",
   "nbconvert_exporter": "python",
   "pygments_lexer": "ipython3",
   "version": "3.12.2"
  }
 },
 "nbformat": 4,
 "nbformat_minor": 5
}
