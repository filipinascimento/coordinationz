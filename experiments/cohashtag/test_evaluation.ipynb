{
 "cells": [
  {
   "cell_type": "markdown",
   "id": "bfc4533d-2604-42c0-bab0-e3030f93822a",
   "metadata": {},
   "source": [
    "#### **This notebook test for the evaulation code**"
   ]
  },
  {
   "cell_type": "code",
   "execution_count": 1,
   "id": "0f6a9adc-f03e-482e-b215-2bb48b1f5616",
   "metadata": {
    "tags": []
   },
   "outputs": [
    {
     "name": "stderr",
     "output_type": "stream",
     "text": [
      "/N/slate/potem/project/coordinationz/source/coordinationz/config.py:31: UserWarning: Config file not found: None\n",
      "  warnings.warn(str(e))\n",
      "/N/slate/potem/project/coordinationz/source/coordinationz/config.py:32: UserWarning: Tried to find config.toml in this directory, and parent directories.\n",
      "  warnings.warn(\"Tried to find config.toml in this directory, and parent directories.\")\n",
      "/N/slate/potem/project/coordinationz/source/coordinationz/config.py:33: UserWarning: Please create a config.toml file with the necessary settings.\n",
      "  warnings.warn(\"Please create a config.toml file with the necessary settings.\")\n",
      "/N/slate/potem/project/coordinationz/source/coordinationz/config.py:34: UserWarning: Or manually call coordinationz.load_config('path/to/config.toml') in your code.\n",
      "  warnings.warn(\"Or manually call coordinationz.load_config('path/to/config.toml') in your code.\")\n",
      "/N/slate/potem/miniconda3/lib/python3.10/site-packages/tqdm/auto.py:21: TqdmWarning: IProgress not found. Please update jupyter and ipywidgets. See https://ipywidgets.readthedocs.io/en/stable/user_install.html\n",
      "  from .autonotebook import tqdm as notebook_tqdm\n"
     ]
    }
   ],
   "source": [
    "import pandas as pd\n",
    "\n",
    "import coordinationz.cohashtag_helper as cohp\n",
    "\n",
    "import importlib"
   ]
  },
  {
   "cell_type": "markdown",
   "id": "3e8454c2-2a47-41a2-aa96-aaa3bcd6d9bf",
   "metadata": {},
   "source": [
    "#### **Load IO data**"
   ]
  },
  {
   "cell_type": "code",
   "execution_count": 2,
   "id": "df3fcb4f-0434-4e3b-8b94-c2f6b568bb3a",
   "metadata": {
    "tags": []
   },
   "outputs": [],
   "source": [
    "importlib.reload(cohp)\n",
    "\n",
    "io_path = '/N/project/INCAS/new_parse/io/cuba_082020_tweets.pkl.gz'\n",
    "control_path = '/N/project/INCAS/new_parse/control/cuba_082020_tweets_control.pkl.gz'"
   ]
  },
  {
   "cell_type": "code",
   "execution_count": 3,
   "id": "8ea258e8-906c-46ce-825e-961ab8243688",
   "metadata": {
    "tags": []
   },
   "outputs": [
    {
     "name": "stdout",
     "output_type": "stream",
     "text": [
      "Total control users : 30099\n",
      "Total io users : 446\n",
      "Total control data:  1353088\n",
      "Total IO data:  250367\n"
     ]
    }
   ],
   "source": [
    "importlib.reload(cohp)\n",
    "\n",
    "df = cohp.load_file(io_path, control_path)"
   ]
  },
  {
   "cell_type": "code",
   "execution_count": 4,
   "id": "9dd342e2-116a-4e7a-9847-a6f73b1a0993",
   "metadata": {
    "tags": []
   },
   "outputs": [
    {
     "data": {
      "text/plain": [
       "Index(['tweetid', 'tweet_text', 'in_reply_to_tweetid', 'in_reply_to_userid',\n",
       "       'created_at', 'tweet_client_name', 'tweet_language', 'hashtags',\n",
       "       'mentions', 'urls', 'is_retweet', 'retweet_tweetid', 'retweet_userid',\n",
       "       'userid', 'user_profile_image_url', 'user_screen_name',\n",
       "       'account_creation_date', 'user_verified', 'user_protected',\n",
       "       'user_profile_description', 'user_profile_entites', 'user_profile_url',\n",
       "       'follower_count', 'following_count', 'user_profile_status_count',\n",
       "       'user_profile_listed_count', 'user_profile_favourites_count',\n",
       "       'user_reported_geo', 'user_reported_coordinates',\n",
       "       'user_reported_location', 'label', 'user_display_name',\n",
       "       'account_language', 'tweet_time', 'quoted_tweet_tweetid', 'latitude',\n",
       "       'longitude', 'quote_count', 'reply_count', 'like_count',\n",
       "       'retweet_count', 'user_mentions'],\n",
       "      dtype='object')"
      ]
     },
     "execution_count": 4,
     "metadata": {},
     "output_type": "execute_result"
    }
   ],
   "source": [
    "df.columns"
   ]
  },
  {
   "cell_type": "code",
   "execution_count": 5,
   "id": "664bc26d-87bf-4947-9cd2-e9bb43e216c1",
   "metadata": {
    "tags": []
   },
   "outputs": [],
   "source": [
    "filename='./data/cuba_network_all_attributes_with_node_label.pkl.gz'\n",
    "df_attr = pd.read_pickle(filename)"
   ]
  },
  {
   "cell_type": "markdown",
   "id": "cc1d1263-f092-44ad-9998-c09846e83c26",
   "metadata": {},
   "source": [
    "#### **Get label data**"
   ]
  },
  {
   "cell_type": "code",
   "execution_count": 6,
   "id": "8823818c-963f-4bfe-b4ec-0cb60b733cea",
   "metadata": {
    "tags": []
   },
   "outputs": [],
   "source": [
    "df_grp = (df\n",
    "           .groupby(['userid', 'label'])['tweetid']\n",
    "           .nunique()\n",
    "           .to_frame('count')\n",
    "           .reset_index()\n",
    "          )"
   ]
  },
  {
   "cell_type": "code",
   "execution_count": 14,
   "id": "c08994da-168b-4e3e-9f5a-613513f06a7a",
   "metadata": {
    "tags": []
   },
   "outputs": [
    {
     "data": {
      "text/plain": [
       "Index(['weight', 'pvalue', 'zscore', 'source', 'target', 'userid_x', 'label_x',\n",
       "       'userid_y', 'label_y'],\n",
       "      dtype='object')"
      ]
     },
     "execution_count": 14,
     "metadata": {},
     "output_type": "execute_result"
    }
   ],
   "source": [
    "df_attr.columns"
   ]
  },
  {
   "cell_type": "code",
   "execution_count": 16,
   "id": "680e1456-4585-44b9-8bcf-c93392e3c645",
   "metadata": {
    "tags": []
   },
   "outputs": [
    {
     "data": {
      "text/plain": [
       "45454"
      ]
     },
     "execution_count": 16,
     "metadata": {},
     "output_type": "execute_result"
    }
   ],
   "source": [
    "len(df_attr)"
   ]
  },
  {
   "cell_type": "code",
   "execution_count": 15,
   "id": "806ca982-77e9-44ee-b3f1-44f5730e2f47",
   "metadata": {
    "tags": []
   },
   "outputs": [
    {
     "name": "stdout",
     "output_type": "stream",
     "text": [
      "2266\n"
     ]
    }
   ],
   "source": [
    "total_x = set(df_attr['source']).union(set(df_attr['target']))\n",
    "print(len(total_x))"
   ]
  },
  {
   "cell_type": "code",
   "execution_count": 21,
   "id": "01af67f2-9f39-4f9e-8701-591882a790bf",
   "metadata": {
    "tags": []
   },
   "outputs": [],
   "source": [
    "def add_labels(graph_attr_filename, io_path, control_path):\n",
    "    '''\n",
    "    Adds label in \n",
    "    '''\n",
    "    df = cohp.load_file(io_path, control_path)\n",
    "    df_attr = pd.read_pickle(filename)\n",
    "    \n",
    "    df_grp = (df\n",
    "           .groupby(['userid', 'label'])['tweetid']\n",
    "           .nunique()\n",
    "           .to_frame('count')\n",
    "           .reset_index()\n",
    "          )\n",
    "\n",
    "    df_attr = df_attr.merge(df_grp[['userid', 'label']],\n",
    "                            left_on='source',\n",
    "                            right_on='userid',\n",
    "                            how='left'\n",
    "                           )\n",
    "    df_attr = df_attr.merge(df_grp[['userid', 'label']],\n",
    "                            left_on='target',\n",
    "                            right_on='userid',\n",
    "                            how='left'\n",
    "                           )\n",
    "\n",
    "    df_attr = df_attr.rename(columns={\n",
    "        'label_x': 'source_label',\n",
    "        'label_y': 'target_label'\n",
    "    })\n",
    "\n",
    "    df_need = df_attr[['weight', 'pvalue', \n",
    "                       'zscore', 'source', \n",
    "                       'target', 'source_label',\n",
    "                       'target_label'\n",
    "                      ]]\n",
    "    \n",
    "    return df_need\n",
    "\n",
    "# filename='./data/cuba_network_all_attributes_with_node_label.pkl.gz'\n",
    "graph_attr_filename='./data/cuba_network_all_attributes_with_node_label.pkl.gz'\n",
    "\n",
    "df_need = add_labels(graph_attr_filename, \n",
    "                     df\n",
    "                    )"
   ]
  },
  {
   "cell_type": "code",
   "execution_count": 25,
   "id": "f3efddc1-fbfa-4d21-9fd9-d88a564c7ad0",
   "metadata": {
    "tags": []
   },
   "outputs": [
    {
     "name": "stdout",
     "output_type": "stream",
     "text": [
      "[0 1]\n",
      "[0 1]\n"
     ]
    }
   ],
   "source": [
    "print(df_need['source_label'].unique())\n",
    "print(df_need['target_label'].unique())"
   ]
  },
  {
   "cell_type": "code",
   "execution_count": 29,
   "id": "9fad9968-24cc-4132-a4d2-a049d731533a",
   "metadata": {
    "tags": []
   },
   "outputs": [
    {
     "name": "stdout",
     "output_type": "stream",
     "text": [
      "{'1114684484698497029', '1120764379610456070', '1117864200712413184', '1136304899761815553'}\n",
      "{'1120764379610456070', '1117864200712413184', '1144701211238645760', '1204492919673180160'}\n"
     ]
    }
   ],
   "source": [
    "sources = set(df_need.loc[df_need['source_label'] == 1]['source'])\n",
    "targets = set(df_need.loc[df_need['target_label'] == 1]['target'])\n",
    "\n",
    "print(sources)\n",
    "print(targets)"
   ]
  },
  {
   "cell_type": "code",
   "execution_count": null,
   "id": "4db1f04c-8827-4955-b73e-e43832f73d31",
   "metadata": {
    "tags": []
   },
   "outputs": [],
   "source": [
    "import pandas as pd\n",
    "import numpy as np\n",
    "\n",
    "from sklearn.metrics import f1_score,precision_score,recall_score\n",
    "from sklearn.model_selection import StratifiedKFold\n",
    "\n",
    "def evaluation_metrics(labels_map,n_splits=10):\n",
    "    \"\"\"\n",
    "    Args:\n",
    "        label_map: dataframe with the classification label for each userid (columns = ['userid', 'label' (0 or 1),'eigen_centrality])\n",
    "    Returns:\n",
    "        Average Performance across 10 folds\n",
    "    \"\"\"\n",
    "\n",
    "    skf = StratifiedKFold(n_splits=n_splits)\n",
    "    X = labels_map[['user_id','eigen_centrality']]\n",
    "    y = labels_map['label']\n",
    "    skf.get_n_splits(X, y)\n",
    "\n",
    "    metrics = {\"f1_score\":0,\"recall\":0,\"precision\":0}\n",
    "\n",
    "    for fold, (train_index, test_index) in enumerate(skf.split(X, y)):\n",
    "        X_train, X_test = X.iloc[train_index], X.iloc[test_index]\n",
    "        y_train, y_test = y.iloc[train_index], y.iloc[test_index]\n",
    "\n",
    "        thresh = [i for i in range(1,100,2)]\n",
    "        centrality_ranges = [np.percentile(X_train['eigen_centrality'].values,t) for t in thresh]\n",
    "        max_centrality_range = -1\n",
    "        max_f1_score = -1\n",
    "\n",
    "        for cent in centrality_ranges:\n",
    "            new_y_train = X_test['eigen_centrality'].apply(lambda x: 1 if x>=cent else 0)\n",
    "            if(max_f1_score<f1_score(new_y_train,y_train)):\n",
    "                max_f1_score = f1_score(new_y_train,y_train)\n",
    "                max_centrality_range = cent\n",
    "\n",
    "        y_test_preds = X_test['eigen_centrality'].apply(lambda x: 1 if x>=max_centrality_range else 0)\n",
    "\n",
    "        metrics['f1_score']+=f1_score(y_test,y_test_preds)\n",
    "        metrics['recall']+=recall_score(y_test,y_test_preds)\n",
    "        metrics['precision']+=precision_score(y_test,y_test_preds)\n",
    "\n",
    "    metrics['f1_score']/=float(n_splits)\n",
    "    metrics['recall']/=float(n_splits)\n",
    "    metrics['precision']/=float(n_splits)\n",
    "\n",
    "    return metrics"
   ]
  }
 ],
 "metadata": {
  "kernelspec": {
   "display_name": "Python 3 (ipykernel)",
   "language": "python",
   "name": "python3"
  },
  "language_info": {
   "codemirror_mode": {
    "name": "ipython",
    "version": 3
   },
   "file_extension": ".py",
   "mimetype": "text/x-python",
   "name": "python",
   "nbconvert_exporter": "python",
   "pygments_lexer": "ipython3",
   "version": "3.10.9"
  }
 },
 "nbformat": 4,
 "nbformat_minor": 5
}
