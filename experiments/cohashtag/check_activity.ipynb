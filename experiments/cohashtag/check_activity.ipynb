{
 "cells": [
  {
   "cell_type": "markdown",
   "id": "c9a6bfad-aab8-48fa-80ea-ebb6235f4e2c",
   "metadata": {
    "tags": []
   },
   "source": [
    "#### **This notebook checks the activity**"
   ]
  },
  {
   "cell_type": "code",
   "execution_count": 51,
   "id": "801c6aa5-4f5b-4d59-8c38-3bb34bbcc838",
   "metadata": {
    "tags": []
   },
   "outputs": [],
   "source": [
    "import pandas as pd\n",
    "import numpy as np\n",
    "import os\n",
    "import importlib\n",
    "import coordinationz.cohashtag_helper as cohp"
   ]
  },
  {
   "cell_type": "markdown",
   "id": "2e284862-a792-4538-88db-9744281e63bc",
   "metadata": {
    "tags": []
   },
   "source": [
    "#### **Path**"
   ]
  },
  {
   "cell_type": "code",
   "execution_count": 52,
   "id": "66e5d58f-80fc-4b13-b250-c51af67921b5",
   "metadata": {
    "tags": []
   },
   "outputs": [],
   "source": [
    "io_path = '/N/project/INCAS/new_parse/io/cuba_082020_tweets.pkl.gz'\n",
    "control_path = '/N/project/INCAS/new_parse/control/cuba_082020_tweets_control.pkl.gz'"
   ]
  },
  {
   "cell_type": "code",
   "execution_count": 53,
   "id": "36495011-e0ac-4d58-af1d-c47af8674b8f",
   "metadata": {
    "tags": []
   },
   "outputs": [
    {
     "name": "stderr",
     "output_type": "stream",
     "text": [
      "\n",
      "KeyboardInterrupt\n",
      "\n"
     ]
    }
   ],
   "source": [
    "df_io = cohp.load_file(io_path, None)"
   ]
  },
  {
   "cell_type": "code",
   "execution_count": null,
   "id": "f1cd1c10-0096-4878-b222-4e66cb3cfa6f",
   "metadata": {
    "tags": []
   },
   "outputs": [],
   "source": [
    "df_io['userid'].nunique()"
   ]
  },
  {
   "cell_type": "markdown",
   "id": "df7061b9-4e46-4af9-9cea-90c88257879c",
   "metadata": {},
   "source": [
    "#### **Check if reply has hashtags**"
   ]
  },
  {
   "cell_type": "code",
   "execution_count": null,
   "id": "0a14cbc7-aab3-4a6e-ae3e-002d8bbf54dd",
   "metadata": {
    "tags": []
   },
   "outputs": [],
   "source": [
    "df_hash = cohp.filter_tweets_with_hashtag(df_io)\n",
    "print('Filtering tweet with hashtag, class: ', \n",
    "      df_hash['label'].nunique()\n",
    "     )"
   ]
  },
  {
   "cell_type": "code",
   "execution_count": null,
   "id": "09503bea-60e9-4640-a122-0881ef7ff705",
   "metadata": {
    "tags": []
   },
   "outputs": [],
   "source": [
    "df_explode = df_hash.explode('list_hashtag')"
   ]
  },
  {
   "cell_type": "code",
   "execution_count": null,
   "id": "7ce91496-2c53-4ae0-a5c3-57fa73d72265",
   "metadata": {
    "tags": []
   },
   "outputs": [],
   "source": [
    "df_explode['list_hashtag'].nunique()"
   ]
  },
  {
   "cell_type": "code",
   "execution_count": null,
   "id": "928acdb3-5a0f-4f70-bd53-73af2e36117a",
   "metadata": {},
   "outputs": [],
   "source": [
    "df_grp = (df_explode\n",
    "          .groupby(['userid'])['list_hashtag']\n",
    "          .nunique()\n",
    "          .to_frame('count')\n",
    "          .reset_index()\n",
    "          .sort_values(by='count',\n",
    "                       ascending=False\n",
    "                      )\n",
    "         )"
   ]
  },
  {
   "cell_type": "code",
   "execution_count": null,
   "id": "7a55c166-2203-4ed2-bc40-f00130c0a354",
   "metadata": {
    "tags": []
   },
   "outputs": [],
   "source": [
    "df_grp.head()"
   ]
  },
  {
   "cell_type": "code",
   "execution_count": null,
   "id": "46dc899e-2fa8-47f1-8238-d784813670fe",
   "metadata": {
    "tags": []
   },
   "outputs": [],
   "source": [
    "len(df_grp)"
   ]
  },
  {
   "cell_type": "code",
   "execution_count": null,
   "id": "551ad27d-4de3-485e-aea0-8e54ff243c56",
   "metadata": {
    "tags": []
   },
   "outputs": [],
   "source": [
    "import coordinationz.visualization as vz\n",
    "\n",
    "parameters =  {\n",
    "        'data': df_grp,\n",
    "        'size': (10,10),\n",
    "        'fontsize': 14,\n",
    "        'columns': [\n",
    "            {'column': 'count',\n",
    "             'label': 'Count of Replies',\n",
    "            }\n",
    "        ],\n",
    "        'xlabel': 'number of unique hashtag \\n used by each user',\n",
    "        'ylabel': 'Frequency of user',\n",
    "        'legend_location': '',\n",
    "        'log_yscale': False,\n",
    "        'log_xscale': True,\n",
    "        'bins': None,\n",
    "        'save': {\n",
    "            'path': './plots',\n",
    "            'filename': 'number_hashtgs.png'\n",
    "        },\n",
    "        'title': ''\n",
    "    }\n",
    "\n",
    "vz.plot_histogram(parameters)"
   ]
  },
  {
   "cell_type": "code",
   "execution_count": null,
   "id": "1307e0cf-d599-48ad-a93d-d32d6d41777b",
   "metadata": {
    "tags": []
   },
   "outputs": [],
   "source": [
    "df_hash_grp = (df_explode\n",
    "          .groupby(['list_hashtag'])['userid']\n",
    "          .nunique()\n",
    "          .to_frame('count')\n",
    "          .reset_index()\n",
    "          .sort_values(by='count',\n",
    "                       ascending=False\n",
    "                      )\n",
    "         )"
   ]
  },
  {
   "cell_type": "code",
   "execution_count": null,
   "id": "b2e0bf5f-fcbf-44a1-849d-055b8cc10bda",
   "metadata": {
    "tags": []
   },
   "outputs": [],
   "source": [
    "len(df_hash_grp)"
   ]
  },
  {
   "cell_type": "code",
   "execution_count": null,
   "id": "52270e9c-b594-4272-88a0-d89193a28609",
   "metadata": {
    "tags": []
   },
   "outputs": [],
   "source": [
    "import coordinationz.visualization as vz\n",
    "\n",
    "parameters =  {\n",
    "        'data': df_hash_grp,\n",
    "        'size': (10,10),\n",
    "        'fontsize': 14,\n",
    "        'columns': [\n",
    "            {'column': 'count',\n",
    "             'label': 'Count of Replies',\n",
    "            }\n",
    "        ],\n",
    "        'xlabel': 'Each unique hashtag',\n",
    "        'ylabel': 'Number of times a hashtag is used',\n",
    "        'legend_location': '',\n",
    "        'log_yscale': False,\n",
    "        'log_xscale': False,\n",
    "        'bins': None,\n",
    "        'save': {\n",
    "            'path': './plots',\n",
    "            'filename': 'hashtag_use.png'\n",
    "        },\n",
    "        'title': ''\n",
    "    }\n",
    "\n",
    "vz.plot_histogram(parameters)"
   ]
  },
  {
   "cell_type": "code",
   "execution_count": null,
   "id": "6ae68425-6763-4cdf-8a4d-889cc907311b",
   "metadata": {
    "tags": []
   },
   "outputs": [],
   "source": [
    "df_explode.loc[df_explode['userid'] == '3519045554']['tweet_text'].head(5).values"
   ]
  },
  {
   "cell_type": "code",
   "execution_count": null,
   "id": "354850d7-e6d7-4496-91f8-e9ae48705aa5",
   "metadata": {
    "tags": []
   },
   "outputs": [],
   "source": [
    "(df_explode\n",
    " .loc[df_explode['userid'] == '3519045554']['list_hashtag']\n",
    " .unique()\n",
    " .tolist()[:5]\n",
    ")"
   ]
  },
  {
   "cell_type": "code",
   "execution_count": null,
   "id": "517772ed-bb15-49df-a7e7-502c107e272f",
   "metadata": {},
   "outputs": [],
   "source": []
  }
 ],
 "metadata": {
  "kernelspec": {
   "display_name": "Python 3 (ipykernel)",
   "language": "python",
   "name": "python3"
  },
  "language_info": {
   "codemirror_mode": {
    "name": "ipython",
    "version": 3
   },
   "file_extension": ".py",
   "mimetype": "text/x-python",
   "name": "python",
   "nbconvert_exporter": "python",
   "pygments_lexer": "ipython3",
   "version": "3.10.9"
  }
 },
 "nbformat": 4,
 "nbformat_minor": 5
}
