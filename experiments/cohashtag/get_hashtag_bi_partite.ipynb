{
 "cells": [
  {
   "cell_type": "markdown",
   "id": "8784d011-db03-40bf-a706-34d0a54ba0ae",
   "metadata": {},
   "source": [
    "#### **This notebook creates the hashtag bi-partite graph**"
   ]
  },
  {
   "cell_type": "markdown",
   "id": "fc680cc9-c51d-48f7-9dd8-b7853f3b82a1",
   "metadata": {
    "tags": []
   },
   "source": [
    "https://docs.google.com/document/d/1xU3G8P9kFfqXwQ8H_pkx-eIVownycBrIGm54JADjyTs/edit"
   ]
  },
  {
   "cell_type": "code",
   "execution_count": 1,
   "id": "9ebbba89-5581-4be3-9e84-73bfb686679a",
   "metadata": {
    "tags": []
   },
   "outputs": [],
   "source": [
    "import pandas as pd\n",
    "import numpy as np\n",
    "import os\n",
    "import importlib"
   ]
  },
  {
   "cell_type": "markdown",
   "id": "626b45f0-1a1b-45cd-a97b-552bd8b96448",
   "metadata": {},
   "source": [
    "#### **Load Datasets and Check for Control**"
   ]
  },
  {
   "cell_type": "code",
   "execution_count": 2,
   "id": "ccdcdd25-1ce9-4a1a-84b9-0ddc1f864916",
   "metadata": {
    "tags": []
   },
   "outputs": [],
   "source": [
    "io_path = '/N/project/INCAS/new_parse/io/cuba_082020_tweets.pkl.gz'\n",
    "control_path = '/N/project/INCAS/new_parse/control/cuba_082020_tweets_control.pkl.gz'"
   ]
  },
  {
   "cell_type": "markdown",
   "id": "efef5877-93ae-4bc2-bcf8-5fbb2e0cddf7",
   "metadata": {},
   "source": [
    "#### **Load Cuba Datasets**"
   ]
  },
  {
   "cell_type": "code",
   "execution_count": 3,
   "id": "0f96d0d9-4b4f-40b1-b5e2-54a995861393",
   "metadata": {
    "tags": []
   },
   "outputs": [],
   "source": [
    "import re"
   ]
  },
  {
   "cell_type": "raw",
   "id": "d9c3402a-e51d-4d7e-b18f-2097d9645dd1",
   "metadata": {},
   "source": [
    "Index(['tweetid', 'userid', 'user_display_name', 'user_screen_name',\n",
    "       'user_reported_location', 'user_profile_description',\n",
    "       'user_profile_url', 'follower_count', 'following_count',\n",
    "       'account_creation_date', 'account_language', 'tweet_language',\n",
    "       'tweet_text', 'tweet_time', 'tweet_client_name', 'in_reply_to_userid',\n",
    "       'in_reply_to_tweetid', 'quoted_tweet_tweetid', 'is_retweet',\n",
    "       'retweet_userid', 'retweet_tweetid', 'latitude', 'longitude',\n",
    "       'quote_count', 'reply_count', 'like_count', 'retweet_count', 'hashtags',\n",
    "       'urls', 'user_mentions'],\n",
    "      dtype='object')"
   ]
  },
  {
   "cell_type": "markdown",
   "id": "981d501e-d0ca-4ca2-880f-6ffc492fdf51",
   "metadata": {
    "tags": []
   },
   "source": [
    "#### **Get hashtag bi-partite network**"
   ]
  },
  {
   "cell_type": "code",
   "execution_count": 4,
   "id": "407adf14-91bc-4c66-95e1-29ed393462e7",
   "metadata": {
    "tags": []
   },
   "outputs": [],
   "source": [
    "def filter_user(df, min_activity=10):\n",
    "    '''\n",
    "    Filters the user based on number of activity\n",
    "    :param df: Dataframe\n",
    "    '''\n",
    "    df_grp = (df\n",
    "              .groupby(['userid'])['tweetid']\n",
    "              .nunique()\n",
    "              .to_frame('count')\n",
    "              .reset_index()\n",
    "             )\n",
    "    \n",
    "    df_grp = df_grp.loc[df_grp['count'] >= min_activity]\n",
    "    \n",
    "    df = df.loc[df['userid'].isin(df_grp['userid'])]\n",
    "    \n",
    "    print(f'After filtering user with min activity {min_activity}')\n",
    "    \n",
    "    df_1 = df.loc[df['label'] == 1]\n",
    "    df_0 = df.loc[df['label'] == 0]\n",
    "    \n",
    "    print('Class 1: ', len(df_1))\n",
    "    print('Class 2: ', len(df_0))\n",
    "    \n",
    "    return df\n",
    "    \n",
    "def get_original_tweet(df):\n",
    "    '''\n",
    "    Gets the original tweets only.\n",
    "    :param df: DataFrame\n",
    "    \n",
    "    :return DataFrame\n",
    "    '''\n",
    "    is_retweet = df['is_retweet'] == False\n",
    "    in_reply_to_tweetid = df['in_reply_to_tweetid'].isnull()\n",
    "    # quoted_tweet_tweetid = df['quoted_tweet_tweetid'].isnull()\n",
    "    \n",
    "    return df.loc[is_retweet & ~in_reply_to_tweetid]\n",
    "\n",
    "def filter_tweets_with_hashtag(df):\n",
    "    '''\n",
    "    Gets tweets with hashtag and convert the string hashtag to list\n",
    "    :param df: DataFrame\n",
    "    \n",
    "    :return DataFrame\n",
    "    '''\n",
    "    import ast\n",
    "    \n",
    "    df_hashtag = df.loc[\n",
    "        (~df['hashtags'].isnull()) & (df['hashtags'] != '[]')\n",
    "    ]\n",
    "    \n",
    "    df_hashtag['list_hashtag'] = df_hashtag['hashtags'].apply(\n",
    "        lambda x: ast.literal_eval(x)\n",
    "    )\n",
    "    \n",
    "    print(df_hashtag['label'].nunique())\n",
    "    \n",
    "    return df_hashtag\n",
    "\n",
    "def get_bipartite(df, columns):\n",
    "    return list(zip(*[df[col] for col in columns]))\n",
    "\n",
    "def load_file(io_path, control_path):\n",
    "    '''\n",
    "    Load io or control file or both\n",
    "    :param io_path: Path to IO file\n",
    "    :param control_path: Path to Control file\n",
    "    \n",
    "    :return DataFrame\n",
    "    '''\n",
    "    # columns = ['hashtags', 'userid', 'tweetid', 'label']\n",
    "    \n",
    "    if io_path == None:\n",
    "        df = pd.read_pickle(control_path)\n",
    "        df['hashtags'] = df['hashtags'].astype(str)\n",
    "        df['label'] = 0\n",
    "        \n",
    "        return df\n",
    "    elif control_path == None:\n",
    "        df = pd.read_pickle(io_path)\n",
    "        df_io = df_io.loc[\n",
    "            ~df_io['quoted_tweet_tweetid'].isnull()\n",
    "        ]\n",
    "        df['label'] = 1\n",
    "        \n",
    "        return df\n",
    "        \n",
    "    if io_path != None and control_path != None:\n",
    "        df_control = pd.read_pickle(control_path)\n",
    "        df_control['hashtags'] = df_control['hashtags'].astype(str)\n",
    "        df_control['label'] = 0\n",
    "        \n",
    "        df_io = pd.read_pickle(io_path)\n",
    "        df_io = df_io.loc[\n",
    "            ~df_io['quoted_tweet_tweetid'].isnull()\n",
    "        ]\n",
    "        df_io['label'] = 1\n",
    "        \n",
    "        print('Total control data: ', len(df_control))\n",
    "        print('Total IO data: ', len(df_io))\n",
    "        \n",
    "        df = pd.concat([df_control, df_io],\n",
    "                       ignore_index=True\n",
    "                      )\n",
    "        return df\n",
    "    \n",
    "\n",
    "def preprocess_data(io_path, control_path, min_activity):\n",
    "    '''\n",
    "    Loads, filter original tweets and filter tweets with\n",
    "    hashtags\n",
    "    :param io_path: Path to IO file\n",
    "    :param control_path: Path to Control File\n",
    "    \n",
    "    :return DataFrame\n",
    "    '''\n",
    "    df = load_file(io_path, control_path)\n",
    "    print('Loading data, class: ', df['label'].nunique())\n",
    "    \n",
    "    df = get_original_tweet(df)\n",
    "    print('Filtering original tweet, class: ', \n",
    "          df['label'].nunique())\n",
    "    \n",
    "    df = filter_tweets_with_hashtag(df)\n",
    "    print('Filtering tweet with hashtag, class: ', \n",
    "          df['label'].nunique())\n",
    "    \n",
    "    #filter user based on number of tweets with hashtags\n",
    "    df = filter_user(df, min_activity=min_activity)\n",
    "    print(f'Filtering the user with min activity {min_activity}, class: ', \n",
    "          df['label'].nunique())\n",
    "    \n",
    "    return df\n",
    "\n",
    "def save_bipartite(tuple_list, save_path):\n",
    "    '''\n",
    "    Saves the bipartite graph as json\n",
    "    :param tuple_list: List of tuple\n",
    "    :param save_path: Path to save the file\n",
    "    \n",
    "    :return None\n",
    "    '''\n",
    "    import json\n",
    "\n",
    "    with open(f'{save_path}', 'w') as f:\n",
    "        json.dump(tuple_list, f)\n",
    "\n",
    "    \n",
    "def get_hashtags_bipartite(io_path, \n",
    "                           control_path, \n",
    "                           save_path, \n",
    "                           min_activity=10\n",
    "                          ):\n",
    "    '''\n",
    "    Gets the bi-partite network of user and hashtags\n",
    "    :param path: Path to the file\n",
    "    \n",
    "    :return list of tuple (user, hashtag)\n",
    "    '''\n",
    "    df = preprocess_data(io_path, control_path, min_activity)\n",
    "    \n",
    "    df_1 = df.loc[df['label'] == 1]\n",
    "    df_0 = df.loc[df['label'] == 0]\n",
    "    \n",
    "    print('Total activity after filtering for IO:', len(df_1))\n",
    "    print('Total activity after filtering for Control:', len(df_0))\n",
    "    \n",
    "    df = df.explode(['list_hashtag'])\n",
    "\n",
    "    print(df.head())\n",
    "    \n",
    "    bipartite_graph = get_bipartite(df,\n",
    "                                    ['userid','list_hashtag','label']\n",
    "                                   )\n",
    "#     print(df.head())\n",
    "#     print(len(df))\n",
    "#     print(bipartite_graph[:5])\n",
    "    \n",
    "    save_bipartite(bipartite_graph, save_path)\n",
    "    \n",
    "    return df\n",
    "\n",
    "\n",
    "def visualize_original_tweet(io_path, control_path):\n",
    "    df = load_file(io_path, control_path)\n",
    "    df = get_original_tweet(df)\n",
    "    df = filter_tweets_with_hashtag(df)\n",
    "    \n",
    "    return df"
   ]
  },
  {
   "cell_type": "markdown",
   "id": "917c911b-c202-4964-a313-850167bcaab9",
   "metadata": {},
   "source": [
    "#### **Get Bipartite network**"
   ]
  },
  {
   "cell_type": "code",
   "execution_count": 12,
   "id": "adaf6107-0d77-4a41-b680-4b33caceebdd",
   "metadata": {
    "tags": []
   },
   "outputs": [
    {
     "name": "stdout",
     "output_type": "stream",
     "text": [
      "Total control data:  1353088\n",
      "Total IO data:  250367\n",
      "Loading data, class:  2\n"
     ]
    }
   ],
   "source": [
    "df = load_file(io_path, control_path)\n",
    "print('Loading data, class: ', df['label'].nunique())"
   ]
  },
  {
   "cell_type": "code",
   "execution_count": 13,
   "id": "c28a752e-6b37-4da6-8e27-f08f542d2b88",
   "metadata": {
    "tags": []
   },
   "outputs": [
    {
     "name": "stdout",
     "output_type": "stream",
     "text": [
      "Filtering original tweet, class:  2\n"
     ]
    }
   ],
   "source": [
    "df_org = get_original_tweet(df)\n",
    "print('Filtering original tweet, class: ', \n",
    "      df['label'].nunique())"
   ]
  },
  {
   "cell_type": "code",
   "execution_count": 14,
   "id": "a2932d96-d5bb-4eca-a93d-7481d595c3eb",
   "metadata": {
    "tags": []
   },
   "outputs": [
    {
     "name": "stdout",
     "output_type": "stream",
     "text": [
      "2\n",
      "Filtering tweet with hashtag, class:  2\n"
     ]
    },
    {
     "name": "stderr",
     "output_type": "stream",
     "text": [
      "/tmp/ipykernel_2794902/499524347.py:53: SettingWithCopyWarning: \n",
      "A value is trying to be set on a copy of a slice from a DataFrame.\n",
      "Try using .loc[row_indexer,col_indexer] = value instead\n",
      "\n",
      "See the caveats in the documentation: https://pandas.pydata.org/pandas-docs/stable/user_guide/indexing.html#returning-a-view-versus-a-copy\n",
      "  df_hashtag['list_hashtag'] = df_hashtag['hashtags'].apply(\n"
     ]
    }
   ],
   "source": [
    "df_hash = filter_tweets_with_hashtag(df_org)\n",
    "print('Filtering tweet with hashtag, class: ', \n",
    "      df_hash['label'].nunique()\n",
    "     )"
   ]
  },
  {
   "cell_type": "code",
   "execution_count": 15,
   "id": "1d70c8fa-f127-4afd-bdb6-49725bc3f4ce",
   "metadata": {
    "tags": []
   },
   "outputs": [
    {
     "name": "stdout",
     "output_type": "stream",
     "text": [
      "After filtering user with min activity 10\n",
      "Class 1:  654\n",
      "Class 2:  390640\n",
      "Filtering the user with min activity 10, class:  2\n"
     ]
    }
   ],
   "source": [
    "df_filter = filter_user(df_hash, min_activity=10)\n",
    "print(f'Filtering the user with min activity 10, class: ', \n",
    "      df_filter['label'].nunique()\n",
    "     )"
   ]
  },
  {
   "cell_type": "code",
   "execution_count": 20,
   "id": "76e2f0c5-5676-40d0-9b71-0860062f1b44",
   "metadata": {
    "tags": []
   },
   "outputs": [],
   "source": [
    "df_1 = df_filter.loc[df_filter['label'] == 1]\n",
    "df_0 = df_filter.loc[df_filter['label'] == 0]"
   ]
  },
  {
   "cell_type": "code",
   "execution_count": 22,
   "id": "5d5a615a-00ed-425d-a679-09d71d8460e7",
   "metadata": {
    "tags": []
   },
   "outputs": [
    {
     "name": "stdout",
     "output_type": "stream",
     "text": [
      "14\n",
      "6316\n"
     ]
    }
   ],
   "source": [
    "print(df_1['userid'].nunique())\n",
    "print(df_0['userid'].nunique())"
   ]
  },
  {
   "cell_type": "markdown",
   "id": "b3626a03-75de-486c-9d0b-f46a1b4a2d82",
   "metadata": {
    "jp-MarkdownHeadingCollapsed": true,
    "tags": []
   },
   "source": [
    "#### **With min activity 10**"
   ]
  },
  {
   "cell_type": "code",
   "execution_count": 111,
   "id": "16247b06-d9d6-48d4-a491-a490fdb95062",
   "metadata": {
    "tags": []
   },
   "outputs": [
    {
     "name": "stdout",
     "output_type": "stream",
     "text": [
      "Total control data:  1353088\n",
      "Total IO data:  250367\n",
      "Loading data, class:  2\n",
      "Filtering original tweet, class:  2\n",
      "2\n",
      "Filtering tweet with hashtag, class:  2\n",
      "After filtering user with min activity 10\n",
      "Class 1:  654\n",
      "Class 2:  390640\n",
      "Filtering the user with min activity 10, class:  2\n",
      "Total activity after filtering for IO: 654\n",
      "Total activity after filtering for Control: 390640\n",
      "        tweetid                                         tweet_text  \\\n",
      "1   24148595306  @yghome ¿Fidel estaba en directo en TV? me lo ...   \n",
      "1   24148595306  @yghome ¿Fidel estaba en directo en TV? me lo ...   \n",
      "9   24121887538  @tanialatwitera Solo en EEUU 49 millones se ma...   \n",
      "10  24121817827  @tanialatwitera El modelo capitalista://El mod...   \n",
      "11  24121693342  @Alecarlo q permita llevar felizmente adelante...   \n",
      "\n",
      "   in_reply_to_tweetid in_reply_to_userid                      created_at  \\\n",
      "1                 None           71024346  Fri Sep 10 23:59:48 +0000 2010   \n",
      "1                 None           71024346  Fri Sep 10 23:59:48 +0000 2010   \n",
      "9          24121608795          115400247  Fri Sep 10 17:04:34 +0000 2010   \n",
      "10         24121677964          115400247  Fri Sep 10 17:03:40 +0000 2010   \n",
      "11         24121373554          129839466  Fri Sep 10 17:02:04 +0000 2010   \n",
      "\n",
      "     tweet_client_name tweet_language               hashtags     mentions  \\\n",
      "1   Twitter Web Client             es  ['Cuba', 'Venezuela']  [274165870]   \n",
      "1   Twitter Web Client             es  ['Cuba', 'Venezuela']  [274165870]   \n",
      "9   Twitter Web Client             es               ['Cuba']  [115400247]   \n",
      "10  Twitter Web Client             es               ['Cuba']  [115400247]   \n",
      "11  Twitter Web Client             es               ['Cuba']  [129839466]   \n",
      "\n",
      "   urls  ...  tweet_time quoted_tweet_tweetid latitude longitude quote_count  \\\n",
      "1    []  ...         NaN                  NaN      NaN       NaN         NaN   \n",
      "1    []  ...         NaN                  NaN      NaN       NaN         NaN   \n",
      "9    []  ...         NaN                  NaN      NaN       NaN         NaN   \n",
      "10   []  ...         NaN                  NaN      NaN       NaN         NaN   \n",
      "11   []  ...         NaN                  NaN      NaN       NaN         NaN   \n",
      "\n",
      "   reply_count like_count retweet_count user_mentions list_hashtag  \n",
      "1          NaN        NaN           NaN           NaN         Cuba  \n",
      "1          NaN        NaN           NaN           NaN    Venezuela  \n",
      "9          NaN        NaN           NaN           NaN         Cuba  \n",
      "10         NaN        NaN           NaN           NaN         Cuba  \n",
      "11         NaN        NaN           NaN           NaN         Cuba  \n",
      "\n",
      "[5 rows x 43 columns]\n",
      "        tweetid                                         tweet_text  \\\n",
      "1   24148595306  @yghome ¿Fidel estaba en directo en TV? me lo ...   \n",
      "1   24148595306  @yghome ¿Fidel estaba en directo en TV? me lo ...   \n",
      "9   24121887538  @tanialatwitera Solo en EEUU 49 millones se ma...   \n",
      "10  24121817827  @tanialatwitera El modelo capitalista://El mod...   \n",
      "11  24121693342  @Alecarlo q permita llevar felizmente adelante...   \n",
      "\n",
      "   in_reply_to_tweetid in_reply_to_userid                      created_at  \\\n",
      "1                 None           71024346  Fri Sep 10 23:59:48 +0000 2010   \n",
      "1                 None           71024346  Fri Sep 10 23:59:48 +0000 2010   \n",
      "9          24121608795          115400247  Fri Sep 10 17:04:34 +0000 2010   \n",
      "10         24121677964          115400247  Fri Sep 10 17:03:40 +0000 2010   \n",
      "11         24121373554          129839466  Fri Sep 10 17:02:04 +0000 2010   \n",
      "\n",
      "     tweet_client_name tweet_language               hashtags     mentions  \\\n",
      "1   Twitter Web Client             es  ['Cuba', 'Venezuela']  [274165870]   \n",
      "1   Twitter Web Client             es  ['Cuba', 'Venezuela']  [274165870]   \n",
      "9   Twitter Web Client             es               ['Cuba']  [115400247]   \n",
      "10  Twitter Web Client             es               ['Cuba']  [115400247]   \n",
      "11  Twitter Web Client             es               ['Cuba']  [129839466]   \n",
      "\n",
      "   urls  ...  tweet_time quoted_tweet_tweetid latitude longitude quote_count  \\\n",
      "1    []  ...         NaN                  NaN      NaN       NaN         NaN   \n",
      "1    []  ...         NaN                  NaN      NaN       NaN         NaN   \n",
      "9    []  ...         NaN                  NaN      NaN       NaN         NaN   \n",
      "10   []  ...         NaN                  NaN      NaN       NaN         NaN   \n",
      "11   []  ...         NaN                  NaN      NaN       NaN         NaN   \n",
      "\n",
      "   reply_count like_count retweet_count user_mentions list_hashtag  \n",
      "1          NaN        NaN           NaN           NaN         Cuba  \n",
      "1          NaN        NaN           NaN           NaN    Venezuela  \n",
      "9          NaN        NaN           NaN           NaN         Cuba  \n",
      "10         NaN        NaN           NaN           NaN         Cuba  \n",
      "11         NaN        NaN           NaN           NaN         Cuba  \n",
      "\n",
      "[5 rows x 43 columns]\n",
      "1063141\n",
      "[('41929478', 'Cuba', 0), ('41929478', 'Venezuela', 0), ('41929478', 'Cuba', 0), ('41929478', 'Cuba', 0), ('41929478', 'Cuba', 0)]\n"
     ]
    }
   ],
   "source": [
    "save_path = '/N/project/INCAS/merge_network/cuba_bipartite_original_filter_10.json'\n",
    "\n",
    "df = get_hashtags_bipartite(io_path, control_path, \n",
    "                            save_path, min_activity=10)"
   ]
  },
  {
   "cell_type": "markdown",
   "id": "21504844-93a0-4120-8c29-c3b65fcda19b",
   "metadata": {
    "jp-MarkdownHeadingCollapsed": true,
    "tags": []
   },
   "source": [
    "#### **With min activity zero**"
   ]
  },
  {
   "cell_type": "code",
   "execution_count": 112,
   "id": "c3087e9d-214b-4652-a6a5-d2ca2ff75f32",
   "metadata": {
    "tags": []
   },
   "outputs": [
    {
     "name": "stdout",
     "output_type": "stream",
     "text": [
      "Total control data:  1353088\n",
      "Total IO data:  250367\n",
      "Loading data, class:  2\n",
      "Filtering original tweet, class:  2\n",
      "2\n",
      "Filtering tweet with hashtag, class:  2\n",
      "After filtering user with min activity 0\n",
      "Class 1:  771\n",
      "Class 2:  435050\n",
      "Filtering the user with min activity 0, class:  2\n",
      "Total activity after filtering for IO: 771\n",
      "Total activity after filtering for Control: 435050\n",
      "        tweetid                                         tweet_text  \\\n",
      "1   24148595306  @yghome ¿Fidel estaba en directo en TV? me lo ...   \n",
      "1   24148595306  @yghome ¿Fidel estaba en directo en TV? me lo ...   \n",
      "9   24121887538  @tanialatwitera Solo en EEUU 49 millones se ma...   \n",
      "10  24121817827  @tanialatwitera El modelo capitalista://El mod...   \n",
      "11  24121693342  @Alecarlo q permita llevar felizmente adelante...   \n",
      "\n",
      "   in_reply_to_tweetid in_reply_to_userid                      created_at  \\\n",
      "1                 None           71024346  Fri Sep 10 23:59:48 +0000 2010   \n",
      "1                 None           71024346  Fri Sep 10 23:59:48 +0000 2010   \n",
      "9          24121608795          115400247  Fri Sep 10 17:04:34 +0000 2010   \n",
      "10         24121677964          115400247  Fri Sep 10 17:03:40 +0000 2010   \n",
      "11         24121373554          129839466  Fri Sep 10 17:02:04 +0000 2010   \n",
      "\n",
      "     tweet_client_name tweet_language               hashtags     mentions  \\\n",
      "1   Twitter Web Client             es  ['Cuba', 'Venezuela']  [274165870]   \n",
      "1   Twitter Web Client             es  ['Cuba', 'Venezuela']  [274165870]   \n",
      "9   Twitter Web Client             es               ['Cuba']  [115400247]   \n",
      "10  Twitter Web Client             es               ['Cuba']  [115400247]   \n",
      "11  Twitter Web Client             es               ['Cuba']  [129839466]   \n",
      "\n",
      "   urls  ...  tweet_time quoted_tweet_tweetid latitude longitude quote_count  \\\n",
      "1    []  ...         NaN                  NaN      NaN       NaN         NaN   \n",
      "1    []  ...         NaN                  NaN      NaN       NaN         NaN   \n",
      "9    []  ...         NaN                  NaN      NaN       NaN         NaN   \n",
      "10   []  ...         NaN                  NaN      NaN       NaN         NaN   \n",
      "11   []  ...         NaN                  NaN      NaN       NaN         NaN   \n",
      "\n",
      "   reply_count like_count retweet_count user_mentions list_hashtag  \n",
      "1          NaN        NaN           NaN           NaN         Cuba  \n",
      "1          NaN        NaN           NaN           NaN    Venezuela  \n",
      "9          NaN        NaN           NaN           NaN         Cuba  \n",
      "10         NaN        NaN           NaN           NaN         Cuba  \n",
      "11         NaN        NaN           NaN           NaN         Cuba  \n",
      "\n",
      "[5 rows x 43 columns]\n",
      "        tweetid                                         tweet_text  \\\n",
      "1   24148595306  @yghome ¿Fidel estaba en directo en TV? me lo ...   \n",
      "1   24148595306  @yghome ¿Fidel estaba en directo en TV? me lo ...   \n",
      "9   24121887538  @tanialatwitera Solo en EEUU 49 millones se ma...   \n",
      "10  24121817827  @tanialatwitera El modelo capitalista://El mod...   \n",
      "11  24121693342  @Alecarlo q permita llevar felizmente adelante...   \n",
      "\n",
      "   in_reply_to_tweetid in_reply_to_userid                      created_at  \\\n",
      "1                 None           71024346  Fri Sep 10 23:59:48 +0000 2010   \n",
      "1                 None           71024346  Fri Sep 10 23:59:48 +0000 2010   \n",
      "9          24121608795          115400247  Fri Sep 10 17:04:34 +0000 2010   \n",
      "10         24121677964          115400247  Fri Sep 10 17:03:40 +0000 2010   \n",
      "11         24121373554          129839466  Fri Sep 10 17:02:04 +0000 2010   \n",
      "\n",
      "     tweet_client_name tweet_language               hashtags     mentions  \\\n",
      "1   Twitter Web Client             es  ['Cuba', 'Venezuela']  [274165870]   \n",
      "1   Twitter Web Client             es  ['Cuba', 'Venezuela']  [274165870]   \n",
      "9   Twitter Web Client             es               ['Cuba']  [115400247]   \n",
      "10  Twitter Web Client             es               ['Cuba']  [115400247]   \n",
      "11  Twitter Web Client             es               ['Cuba']  [129839466]   \n",
      "\n",
      "   urls  ...  tweet_time quoted_tweet_tweetid latitude longitude quote_count  \\\n",
      "1    []  ...         NaN                  NaN      NaN       NaN         NaN   \n",
      "1    []  ...         NaN                  NaN      NaN       NaN         NaN   \n",
      "9    []  ...         NaN                  NaN      NaN       NaN         NaN   \n",
      "10   []  ...         NaN                  NaN      NaN       NaN         NaN   \n",
      "11   []  ...         NaN                  NaN      NaN       NaN         NaN   \n",
      "\n",
      "   reply_count like_count retweet_count user_mentions list_hashtag  \n",
      "1          NaN        NaN           NaN           NaN         Cuba  \n",
      "1          NaN        NaN           NaN           NaN    Venezuela  \n",
      "9          NaN        NaN           NaN           NaN         Cuba  \n",
      "10         NaN        NaN           NaN           NaN         Cuba  \n",
      "11         NaN        NaN           NaN           NaN         Cuba  \n",
      "\n",
      "[5 rows x 43 columns]\n",
      "1140244\n",
      "[('41929478', 'Cuba', 0), ('41929478', 'Venezuela', 0), ('41929478', 'Cuba', 0), ('41929478', 'Cuba', 0), ('41929478', 'Cuba', 0)]\n"
     ]
    }
   ],
   "source": [
    "save_path = '/N/project/INCAS/merge_network/cuba_bipartite_original_filter_0.json'\n",
    "\n",
    "df = get_hashtags_bipartite(io_path, control_path, \n",
    "                            save_path, min_activity=0)"
   ]
  },
  {
   "cell_type": "markdown",
   "id": "5b44ef4c-43e1-4884-acab-c9b862883916",
   "metadata": {},
   "source": [
    "#### **Check JSON**"
   ]
  },
  {
   "cell_type": "code",
   "execution_count": 113,
   "id": "138bdcde-2e03-4760-9112-2c5258be64ba",
   "metadata": {
    "tags": []
   },
   "outputs": [
    {
     "name": "stdout",
     "output_type": "stream",
     "text": [
      "[['41929478', 'Cuba', 0], ['41929478', 'Venezuela', 0], ['41929478', 'Cuba', 0], ['41929478', 'Cuba', 0], ['41929478', 'Cuba', 0]]\n"
     ]
    }
   ],
   "source": [
    "import json\n",
    "\n",
    "# Load JSON data from file\n",
    "save_path = '/N/project/INCAS/merge_network/cuba_bipartite_original_filter_0.json'\n",
    "\n",
    "with open(save_path, 'r') as f:\n",
    "    json_data = json.load(f)\n",
    "    \n",
    "print(json_data[:5])"
   ]
  },
  {
   "cell_type": "markdown",
   "id": "8751a9e2-0f30-4a96-8068-708264cbcefd",
   "metadata": {
    "tags": []
   },
   "source": [
    "#### **Visualize the original tweet**"
   ]
  },
  {
   "cell_type": "code",
   "execution_count": 5,
   "id": "c3da795e-fc60-409f-ac52-67386f0e47e3",
   "metadata": {
    "tags": []
   },
   "outputs": [
    {
     "name": "stdout",
     "output_type": "stream",
     "text": [
      "Total control data:  1353088\n",
      "Total IO data:  250367\n",
      "2\n"
     ]
    },
    {
     "name": "stderr",
     "output_type": "stream",
     "text": [
      "/tmp/ipykernel_2794902/499524347.py:53: SettingWithCopyWarning: \n",
      "A value is trying to be set on a copy of a slice from a DataFrame.\n",
      "Try using .loc[row_indexer,col_indexer] = value instead\n",
      "\n",
      "See the caveats in the documentation: https://pandas.pydata.org/pandas-docs/stable/user_guide/indexing.html#returning-a-view-versus-a-copy\n",
      "  df_hashtag['list_hashtag'] = df_hashtag['hashtags'].apply(\n"
     ]
    }
   ],
   "source": [
    "df = visualize_original_tweet(io_path, control_path)"
   ]
  },
  {
   "cell_type": "code",
   "execution_count": 16,
   "id": "f218659a-6dfd-4cce-a35b-0851525f63b7",
   "metadata": {
    "tags": []
   },
   "outputs": [],
   "source": [
    "df_1 = df_hash.loc[df_hash['label'] == 1]\n",
    "df_0 = df_hash.loc[df_hash['label'] == 0]"
   ]
  },
  {
   "cell_type": "code",
   "execution_count": 30,
   "id": "00d20ce1-8bfe-4452-97da-739002e4861e",
   "metadata": {
    "tags": []
   },
   "outputs": [
    {
     "data": {
      "text/plain": [
       "1382074    ['https://twitter.com/GuerreroCuba/status/1244...\n",
       "1410040    ['https://twitter.com/alejandrasuart4/status/1...\n",
       "1412878    ['https://twitter.com/AnakarlaRojas/status/117...\n",
       "1412884    ['https://twitter.com/ElenaAguila5/status/1254...\n",
       "1412891    ['https://twitter.com/DeZurdaTeam/status/12520...\n",
       "                                 ...                        \n",
       "1454676    ['https://twitter.com/YanetDCuba/status/124682...\n",
       "1577785    ['https://twitter.com/AnakarlaRojas/status/118...\n",
       "1590418    ['https://twitter.com/AnakarlaRojas/status/125...\n",
       "1591743    ['https://twitter.com/AnakarlaRojas/status/118...\n",
       "1594901    ['https://twitter.com/AnakarlaRojas/status/118...\n",
       "Name: urls, Length: 654, dtype: object"
      ]
     },
     "execution_count": 30,
     "metadata": {},
     "output_type": "execute_result"
    }
   ],
   "source": [
    "df_1['urls']"
   ]
  },
  {
   "cell_type": "code",
   "execution_count": 31,
   "id": "9154d29d-a9c1-4791-87f6-d37785b92554",
   "metadata": {
    "tags": []
   },
   "outputs": [
    {
     "data": {
      "text/plain": [
       "1                                                         []\n",
       "9                                                         []\n",
       "10                                                        []\n",
       "11                                                        []\n",
       "12                                                        []\n",
       "                                 ...                        \n",
       "1351446    [http://www.juventudrebelde.cu/internacionales...\n",
       "1351447    [http://www.juventudrebelde.cu/opinion/2020-07...\n",
       "1351448    [http://www.granma.cu/cuba-covid-19/2020-07-27...\n",
       "1351451    [http://www.tribuna.cu/coronavirus/2020-07-27/...\n",
       "1351453    [https://twitter.com/PresidenciaCuba/status/12...\n",
       "Name: urls, Length: 390640, dtype: object"
      ]
     },
     "execution_count": 31,
     "metadata": {},
     "output_type": "execute_result"
    }
   ],
   "source": [
    "df_0['urls']"
   ]
  },
  {
   "cell_type": "code",
   "execution_count": 17,
   "id": "bed0b3b6-1378-4c45-afb3-5283392a4ae7",
   "metadata": {
    "tags": []
   },
   "outputs": [],
   "source": [
    "df_1_grp = (df_1\n",
    "            .groupby(['userid'])['tweetid']\n",
    "            .nunique()\n",
    "            .to_frame('count')\n",
    "            .reset_index()\n",
    "           )\n",
    "df_0_grp = (df_0\n",
    "            .groupby(['userid'])['tweetid']\n",
    "            .nunique()\n",
    "            .to_frame('count')\n",
    "            .reset_index()\n",
    "           )"
   ]
  },
  {
   "cell_type": "code",
   "execution_count": 18,
   "id": "5d637e34-eb78-4c66-abcf-12f22d378f4d",
   "metadata": {
    "tags": []
   },
   "outputs": [
    {
     "name": "stdout",
     "output_type": "stream",
     "text": [
      "20108\n",
      "58\n"
     ]
    }
   ],
   "source": [
    "print(len(df_0_grp))\n",
    "print(len(df_1_grp))"
   ]
  },
  {
   "cell_type": "code",
   "execution_count": 9,
   "id": "c141370c-b1f2-42f4-87c1-c779369875f8",
   "metadata": {
    "tags": []
   },
   "outputs": [
    {
     "name": "stderr",
     "output_type": "stream",
     "text": [
      "/N/slate/potem/project/coordinationz/source/coordinationz/config.py:27: UserWarning: Config file not found: None\n",
      "  warnings.warn(str(e))\n",
      "/N/slate/potem/project/coordinationz/source/coordinationz/config.py:28: UserWarning: Tried to find config.toml in this directory, and parent directories.\n",
      "  warnings.warn(\"Tried to find config.toml in this directory, and parent directories.\")\n",
      "/N/slate/potem/project/coordinationz/source/coordinationz/config.py:29: UserWarning: Please create a config.toml file with the necessary settings.\n",
      "  warnings.warn(\"Please create a config.toml file with the necessary settings.\")\n",
      "/N/slate/potem/project/coordinationz/source/coordinationz/config.py:30: UserWarning: Or manually call coordinationz.load_config('path/to/config.toml') in your code.\n",
      "  warnings.warn(\"Or manually call coordinationz.load_config('path/to/config.toml') in your code.\")\n",
      "/N/slate/potem/miniconda3/lib/python3.10/site-packages/tqdm/auto.py:21: TqdmWarning: IProgress not found. Please update jupyter and ipywidgets. See https://ipywidgets.readthedocs.io/en/stable/user_install.html\n",
      "  from .autonotebook import tqdm as notebook_tqdm\n"
     ]
    }
   ],
   "source": [
    "import coordinationz.experiment_utilities as czexp"
   ]
  },
  {
   "cell_type": "code",
   "execution_count": 10,
   "id": "5eb9afe9-4a2f-48d8-b9b7-a85d52b00bb4",
   "metadata": {
    "tags": []
   },
   "outputs": [
    {
     "name": "stdout",
     "output_type": "stream",
     "text": [
      "./plots/CCDF_cuba_original_tweet.png\n"
     ]
    },
    {
     "data": {
      "image/png": "[encoded data removed]",
      "text/plain": [
       "<Figure size 800x800 with 1 Axes>"
      ]
     },
     "metadata": {},
     "output_type": "display_data"
    }
   ],
   "source": [
    "import helper.visualization as vz\n",
    "\n",
    "parameters = {\n",
    "        'data': [df_1_grp, \n",
    "                 df_0_grp\n",
    "                ],\n",
    "        'fontsize': 20,\n",
    "        'complementary': False,\n",
    "        'columns': [\n",
    "            {'column': 'count',\n",
    "             'label': 'IO',\n",
    "            },{\n",
    "            'column': 'count',\n",
    "             'label': 'Control'\n",
    "            },\n",
    "        ],\n",
    "        'xlabel': 'Original tweet with \\n hashtag count',\n",
    "        'ylabel': 'CCDF',\n",
    "        'legend_location': 'upper right',\n",
    "        # 'log_yscale': True,\n",
    "        'log_xscale': True,\n",
    "        'save': {\n",
    "            'path': './plots',\n",
    "            'filename': 'CCDF_cuba_original_tweet.png'\n",
    "        },\n",
    "        'random_color': False\n",
    "}\n",
    "\n",
    "vz.ccdf(parameters)"
   ]
  },
  {
   "cell_type": "markdown",
   "id": "263c7455-3c04-47aa-8ef5-bbdcbb936b86",
   "metadata": {},
   "source": []
  },
  {
   "cell_type": "code",
   "execution_count": null,
   "id": "d10a48ee-ee41-4a9b-b482-3200a73b4256",
   "metadata": {},
   "outputs": [],
   "source": [
    "# df = get_hashtags(io_path, control_path)\n"
   ]
  }
 ],
 "metadata": {
  "kernelspec": {
   "display_name": "Python 3 (ipykernel)",
   "language": "python",
   "name": "python3"
  },
  "language_info": {
   "codemirror_mode": {
    "name": "ipython",
    "version": 3
   },
   "file_extension": ".py",
   "mimetype": "text/x-python",
   "name": "python",
   "nbconvert_exporter": "python",
   "pygments_lexer": "ipython3",
   "version": "3.10.9"
  }
 },
 "nbformat": 4,
 "nbformat_minor": 5
}
