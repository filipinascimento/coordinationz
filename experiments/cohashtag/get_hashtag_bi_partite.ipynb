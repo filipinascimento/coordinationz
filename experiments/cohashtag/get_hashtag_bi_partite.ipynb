{
 "cells": [
  {
   "cell_type": "markdown",
   "id": "8784d011-db03-40bf-a706-34d0a54ba0ae",
   "metadata": {},
   "source": [
    "#### **This notebook creates the hashtag bi-partite graph**"
   ]
  },
  {
   "cell_type": "markdown",
   "id": "fc680cc9-c51d-48f7-9dd8-b7853f3b82a1",
   "metadata": {
    "tags": []
   },
   "source": [
    "https://docs.google.com/document/d/1xU3G8P9kFfqXwQ8H_pkx-eIVownycBrIGm54JADjyTs/edit"
   ]
  },
  {
   "cell_type": "code",
   "execution_count": 1,
   "id": "9ebbba89-5581-4be3-9e84-73bfb686679a",
   "metadata": {
    "tags": []
   },
   "outputs": [],
   "source": [
    "import pandas as pd\n",
    "import numpy as np\n",
    "import os\n",
    "import importlib"
   ]
  },
  {
   "cell_type": "markdown",
   "id": "626b45f0-1a1b-45cd-a97b-552bd8b96448",
   "metadata": {},
   "source": [
    "#### **Load Datasets**"
   ]
  },
  {
   "cell_type": "code",
   "execution_count": 4,
   "id": "ccdcdd25-1ce9-4a1a-84b9-0ddc1f864916",
   "metadata": {
    "tags": []
   },
   "outputs": [],
   "source": [
    "io_path = '/N/project/INCAS/new_io_dataset_based_on_dataset_paper/io/*.pkl.gz'"
   ]
  },
  {
   "cell_type": "code",
   "execution_count": 3,
   "id": "65f97980-682c-4d5f-9493-c1dc94be1b30",
   "metadata": {
    "tags": []
   },
   "outputs": [],
   "source": [
    "import glob"
   ]
  },
  {
   "cell_type": "code",
   "execution_count": 9,
   "id": "b4238fbb-0668-463a-bdfd-19bb814203f6",
   "metadata": {
    "tags": []
   },
   "outputs": [],
   "source": [
    "all_camp = []\n",
    "for name in glob.glob(io_path): \n",
    "    parts = name.split('/')[-1]\n",
    "    \n",
    "    camp = parts.split('.')[0]\n",
    "    camp = camp.replace('_tweets_io', '')\n",
    "    \n",
    "    all_camp.append(camp)"
   ]
  },
  {
   "cell_type": "code",
   "execution_count": 10,
   "id": "7ffc6b6a-2d91-49fc-a3f9-5075c319fc81",
   "metadata": {
    "tags": []
   },
   "outputs": [
    {
     "data": {
      "text/plain": [
       "['thailand_092020',\n",
       " 'spain_082019_1',\n",
       " 'GRU_202012',\n",
       " 'egypt_uae_082019_1',\n",
       " 'russia_201901_1',\n",
       " 'IRA_202012',\n",
       " 'iranian',\n",
       " 'catalonia_201906_1',\n",
       " 'qatar_082020',\n",
       " 'ecuador_082019_1',\n",
       " 'ghana_nigeria_032020',\n",
       " 'iran_201906_2',\n",
       " 'ira_092020',\n",
       " 'armenia_202012',\n",
       " 'china_082019_2',\n",
       " 'iran_202012',\n",
       " 'cuba_082020',\n",
       " 'china_082019_1',\n",
       " 'venezuela_201901_2',\n",
       " 'iran_092020',\n",
       " 'bangladesh_201901_1',\n",
       " 'ira',\n",
       " 'iran_201906_1',\n",
       " 'venezuela_201906_1',\n",
       " 'iran_201906_3',\n",
       " 'uae_082019_1']"
      ]
     },
     "execution_count": 10,
     "metadata": {},
     "output_type": "execute_result"
    }
   ],
   "source": [
    "all_camp"
   ]
  },
  {
   "cell_type": "markdown",
   "id": "efef5877-93ae-4bc2-bcf8-5fbb2e0cddf7",
   "metadata": {},
   "source": [
    "#### **Load Datasets**"
   ]
  },
  {
   "cell_type": "code",
   "execution_count": 13,
   "id": "0f96d0d9-4b4f-40b1-b5e2-54a995861393",
   "metadata": {
    "tags": []
   },
   "outputs": [],
   "source": [
    "import re"
   ]
  },
  {
   "cell_type": "code",
   "execution_count": 24,
   "id": "407adf14-91bc-4c66-95e1-29ed393462e7",
   "metadata": {
    "tags": []
   },
   "outputs": [
    {
     "name": "stdout",
     "output_type": "stream",
     "text": [
      "['ar' 'und' 'fa' 'en' 'ur' 'ko' 'fr' 'ps' 'ru' nan 'bg' 'ht' 'pl' 'sd'\n",
      " 'ja']\n"
     ]
    },
    {
     "name": "stderr",
     "output_type": "stream",
     "text": [
      "/tmp/ipykernel_1770741/546360342.py:15: SettingWithCopyWarning: \n",
      "A value is trying to be set on a copy of a slice from a DataFrame.\n",
      "Try using .loc[row_indexer,col_indexer] = value instead\n",
      "\n",
      "See the caveats in the documentation: https://pandas.pydata.org/pandas-docs/stable/user_guide/indexing.html#returning-a-view-versus-a-copy\n",
      "  df_text['num_hashtags'] = df_text['tweet_text'].apply(\n",
      "/tmp/ipykernel_1770741/546360342.py:19: SettingWithCopyWarning: \n",
      "A value is trying to be set on a copy of a slice from a DataFrame.\n",
      "Try using .loc[row_indexer,col_indexer] = value instead\n",
      "\n",
      "See the caveats in the documentation: https://pandas.pydata.org/pandas-docs/stable/user_guide/indexing.html#returning-a-view-versus-a-copy\n",
      "  df_text['count'] = df_text['num_hashtags'].apply(\n"
     ]
    }
   ],
   "source": [
    "io_path = '/N/project/INCAS/new_io_dataset_based_on_dataset_paper/io/qatar_082020_tweets_io.pkl.gz'\n",
    "\n",
    "all_camp = []\n",
    "for name in glob.glob(io_path): \n",
    "    parts = name.split('/')[-1]\n",
    "    \n",
    "    df = pd.read_pickle(name)\n",
    "    \n",
    "#     camp = parts.split('.')[0]\n",
    "#     camp = camp.replace('_tweets_io', '')\n",
    "    df_text = df.loc[df['is_retweet'] == False]\n",
    "    \n",
    "    print(df_text['tweet_language'].unique())\n",
    "    \n",
    "    df_text['num_hashtags'] = df_text['tweet_text'].apply(\n",
    "            lambda x: list(set(re.findall(r'\\B\\#(\\w+)', x)))\n",
    "    )\n",
    "    \n",
    "    df_text['count'] = df_text['num_hashtags'].apply(\n",
    "        lambda x:len(x)\n",
    "    )\n",
    "    \n",
    "    df_need = df_text.loc[df_text['count'] > 0]\n",
    "    \n",
    "    all_camp.append(df_need)\n",
    "    \n",
    "    break"
   ]
  },
  {
   "cell_type": "code",
   "execution_count": 22,
   "id": "7c649d6a-47d1-4ffd-a9c2-4e111004f1e0",
   "metadata": {
    "tags": []
   },
   "outputs": [
    {
     "data": {
      "text/plain": [
       "array([['في آخر الليل عبادات لھا أجورٌ عظيمه الاستغفار والتسبيح والدعاء والسجود لله عزوجل فَهنيئا لمن كان له نصيبٌ منھا \\n#الوتر_جنة_القلوب',\n",
       "        list(['الوتر_جنة_القلوب'])],\n",
       "       ['#الملكه_احساس_مرهف_200_الف_متابع\\n\\nالف مبروك تستاهلين ي ملكه\\n\\nشاهدين لك بالخير \\n\\nفالك المليون يارب \\n\\n@77____aa',\n",
       "        list(['الملكه_احساس_مرهف_200_الف_متابع'])],\n",
       "       ['🔷سبحان الله وبحمده \\nسبحان الله العظيم🔹 \\n🔷سبحان الله وبحمده \\n سبحان الله العظيم🔹\\n🔷سبحان الله وبحمده \\n سبحان الله العظيم🔹\\n#غرد_بذكر_الله',\n",
       "        list(['غرد_بذكر_الله'])],\n",
       "       ['اللهم في يوم الجمعه عافي كل مريض وارحم كل ميت واشرح صدورنا ويسر أمورنا واجعل هذه الجمعة فرج لكل صابر وإستجابه لكل دعاء..\\n\\n#امين',\n",
       "        list(['امين'])],\n",
       "       ['للمتصلين حاليا 👌🏻\\n\\n🌹 #تبادل_رتويت 5/5 10/10\\n\\n🌹1⃣مفضلتي ☺️\\n\\n🌹2⃣عطني ( تم ) منشن او خاص\\n\\n🌹3⃣  #ضيفني_اضيفك\\n\\nحقك محفوظ حتى لو تأخرت عليك\\n\\nرتويت',\n",
       "        list(['ضيفني_اضيفك', 'تبادل_رتويت'])],\n",
       "       ['لا يكتملُ جمالِ الليلِ إلا بركعةً وسجدةّ ودُعاء يجتاح السكون مناديا ربا في الثلث الأخير ينزل إلى سماء الدنيا ليُجيب السائلين\\n\\n#الوتر',\n",
       "        list(['الوتر'])],\n",
       "       ['#الدولار_بخمس_ليرات_تركية #Istanbul #Turke https://t.co/dWVaqvCDtW',\n",
       "        list(['Istanbul', 'الدولار_بخمس_ليرات_تركية', 'Turke'])],\n",
       "       ['في آخر الليل عبادات لھا أجورٌ عظيمه الاستغفار والتسبيح والدعاء والسجود لله عزوجل فَهنيئا لمن كان له نصيبٌ منھا \\n#الوتر_جنة_القلوب',\n",
       "        list(['الوتر_جنة_القلوب'])],\n",
       "       ['#هناء__60_الف_متابع\\n\\nمبروكك تستاهلي أكثر💖\\n\\nجعلهم الله شاهدين لك بالخير \\n\\nوفالك المليون إن شاء الله🌷\\n\\n@0mera1',\n",
       "        list(['هناء__60_الف_متابع'])],\n",
       "       ['I just found all my 291 non followers thanks to http://t.co/NuJVUaSWr4 #androidapp',\n",
       "        list(['androidapp'])],\n",
       "       ['#فارس_700k_الف_متابع\\nالـف مــبــروووگ 700k\\nشاهدين لگِ بالخير🌹\\n وعقبـــال 1M🌸\\n#حساب_تفتخر_بمتابعته',\n",
       "        list(['فارس_700k_الف_متابع', 'حساب_تفتخر_بمتابعته'])],\n",
       "       ['لقد قمت بإيجاد 735 مستخدمي تويتر الذين لم يقوموا بمتابعتى بفضل://www.justunfollow.com #androidapp',\n",
       "        list(['androidapp'])],\n",
       "       ['Grow your account and succeed on Twitter. Try JustUnfollow (now also on #iPad): http://t.co/NuJVUaSWr4',\n",
       "        list(['iPad'])],\n",
       "       ['لا بأس ان تكون #مختلف  ما دامت التاء لم تسبق الخاء - ولا تجعل حياتك في #حيره  فربما هناك فوق الحاء نقطہ”',\n",
       "        list(['مختلف', 'حيره'])],\n",
       "       ['في آخر الليل عبادات لھا أجورٌ عظيمه الاستغفار والتسبيح والدعاء والسجود لله عزوجل فَهنيئا لمن كان له نصيبٌ منھا \\n#الوتر_جنة_القلوب',\n",
       "        list(['الوتر_جنة_القلوب'])],\n",
       "       ['#ملكة_العالمي_50k_متابع\\n🎀الف الف مبروك🎀      \\n🌸🍃شاهدين لك بالخير🍃🌸 \\n#حساب_vip_تفتخر_بمتابعته \\n💕 @shoug_7821💕',\n",
       "        list(['حساب_vip_تفتخر_بمتابعته', 'ملكة_العالمي_50k_متابع'])],\n",
       "       ['حين يستقرّ في قلبك اليقينُ ، بِ أنك للهِ وأنك راجعٌ إليه ، يهون شأن ما تجدهُ وما تفقدهً طالما أنك باقٍ مع الله .  #الوتر .',\n",
       "        list(['الوتر'])],\n",
       "       ['#الروح_٤٤_الف_متابع\\nالف الف الف مبروك 😍تستاهلين ااكثر\\nعقبال المليون👍🏼😍\\nشاهدين لك لا عليك🌺\\n👇🏻👇🏻👇🏻👇🏻👇🏻👇🏻\\n@SWEET6093',\n",
       "        list(['الروح_٤٤_الف_متابع'])],\n",
       "       ['#منوووووش_80_الف_متابع \\n\\nالف الف الف مبروووك يالاميره 🍃\\nوفااك المليون تستاهلين🌼 \\nشاهدين لك لا عليك \\n#انيقه_بحضورها \\n👇👇👇👇\\n \\n@meme_____2014',\n",
       "        list(['منوووووش_80_الف_متابع', 'انيقه_بحضورها'])],\n",
       "       ['لقد قمت بإيجاد 3220 مستخدمي تويتر الذين لم يقوموا بمتابعتى بفضل http://t.co/DX3GfHgHsk #iosapp',\n",
       "        list(['iosapp'])],\n",
       "       ['#زخات_المطر_700_ألف_متابع\\n\\n🌸 @toot___11🌸',\n",
       "        list(['زخات_المطر_700_ألف_متابع'])],\n",
       "       ['الف مبارك #تطبيق_دعاء_100K_متابع تستاهلون اكثر وشاهدين لكم بالخير وعقبال المليون\\n 👇👇👇\\n@Du3a_Org',\n",
       "        list(['تطبيق_دعاء_100K_متابع'])],\n",
       "       ['يُظلم الليل ، \\nوتهدأ الأنفس، \\nوتنام الأعين\\n\"ويبقى نور السموات والأرض\"\\nيستجيب لمن دعاه\\nويغفر لمن استغفر\\nفهنيئًا لمن سجد.!\\n\\n#الوتر_جنه_القلوب',\n",
       "        list(['الوتر_جنه_القلوب'])],\n",
       "       ['نريد الدعم  والاضافة #للشرفاء_ال_ثاني الأحرار في تويتر \\nهذا حساب سمو الشيخ فهد بن عبدالله  آل أحمد آل ثاني \\n@fahad1althani\\n\\n#قطر #الكويت #السعودية #الامارات #البحرين #العراق #الرياض #عمان #السعودية #سوريا #مصر #دبي #بغداد #سلطنة_عمان #جدة #العربية #الجزيرة #شاهد_سكاي #عُمان #جدة',\n",
       "        list(['للشرفاء_ال_ثاني', 'الجزيرة', 'عمان', 'ع', 'العراق', 'الامارات', 'الكويت', 'سوريا', 'الرياض', 'العربية', 'دبي', 'قطر', 'جدة', 'البحرين', 'السعودية', 'مصر', 'سلطنة_عمان', 'شاهد_سكاي', 'بغداد'])],\n",
       "       ['في آخر الليل عبادات لھا أجورٌ عظيمه الاستغفار والتسبيح والدعاء والسجود لله عزوجل فَهنيئا لمن كان له نصيبٌ منھا \\n#الوتر_جنة_القلوب',\n",
       "        list(['الوتر_جنة_القلوب'])],\n",
       "       ['في آخر الليل عبادات لھا أجورٌ عظيمه الاستغفار والتسبيح والدعاء والسجود لله عزوجل فَهنيئا لمن كان له نصيبٌ منھا \\n#الوتر_جنة_القلوب',\n",
       "        list(['الوتر_جنة_القلوب'])],\n",
       "       ['#سلطان_60_الف_متابع\\nالف الف مبروووووووك سلطان 👏👏\\n\\nفالك المليووون وشاهدين لك بالخير🌷🌷\\n\\n@mga342',\n",
       "        list(['سلطان_60_الف_متابع'])],\n",
       "       ['#عاشق_الخيل_80_الف_متابع \\nألف مبروگ ياآنيق ، و فالگ مليون متابع\\nشاهدين لگ لا عليگ 🌹\\n\\nشاركوووه فرحته الرتويت مفتوح لعيووونه ❤️💜\\n\\n@Sah610733',\n",
       "        list(['عاشق_الخيل_80_الف_متابع'])],\n",
       "       ['السجود قرة عين الموحدين وسلوة المحزونين به ترتفع الدرجات حيث يجتمع تمام  الذّل لله مع كمال الحبّ له سبحانه؛ فَأَطِل السجود وادع كثيرا\\n#الوتر',\n",
       "        list(['الوتر'])],\n",
       "       ['#قناة_الجزيرة_تغرق                                 عقبال ما تغرق حكومة #الحمدين #حكومة_قطر_تنتحر https://t.co/HCAKS5PwI9',\n",
       "        list(['حكومة_قطر_تنتحر', 'الحمدين', 'قناة_الجزيرة_تغرق'])]],\n",
       "      dtype=object)"
      ]
     },
     "execution_count": 22,
     "metadata": {},
     "output_type": "execute_result"
    }
   ],
   "source": [
    "df_need[['tweet_text', 'num_hashtags']].head(30).values"
   ]
  },
  {
   "cell_type": "code",
   "execution_count": null,
   "id": "8b299292-e0d6-4b4d-a568-8cb1c81e41d8",
   "metadata": {},
   "outputs": [],
   "source": []
  }
 ],
 "metadata": {
  "kernelspec": {
   "display_name": "Python 3 (ipykernel)",
   "language": "python",
   "name": "python3"
  },
  "language_info": {
   "codemirror_mode": {
    "name": "ipython",
    "version": 3
   },
   "file_extension": ".py",
   "mimetype": "text/x-python",
   "name": "python",
   "nbconvert_exporter": "python",
   "pygments_lexer": "ipython3",
   "version": "3.10.9"
  }
 },
 "nbformat": 4,
 "nbformat_minor": 5
}
